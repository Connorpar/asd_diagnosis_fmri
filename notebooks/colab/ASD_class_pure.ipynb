{
  "nbformat": 4,
  "nbformat_minor": 0,
  "metadata": {
    "colab": {
      "name": "ASD_class_pure.ipynb",
      "provenance": []
    },
    "kernelspec": {
      "name": "python3",
      "display_name": "Python 3"
    },
    "language_info": {
      "name": "python"
    },
    "accelerator": "GPU"
  },
  "cells": [
    {
      "cell_type": "code",
      "metadata": {
        "id": "RlXSuqibkPBH"
      },
      "source": [
        "import numpy as np\n",
        "import random\n",
        "\n",
        "from sklearn.model_selection import StratifiedKFold\n",
        "import matplotlib.pyplot as plt\n",
        "\n",
        "import tensorflow as tf\n",
        "\n",
        "import keras\n",
        "from keras import layers\n",
        "from keras.models import Sequential\n",
        "from keras.layers import Dense, LSTM, Dropout, AveragePooling2D, AveragePooling1D\n",
        "from keras.metrics import BinaryAccuracy\n",
        "from sklearn.preprocessing import MinMaxScaler\n",
        "from sklearn.metrics import mean_squared_error\n",
        "from sklearn.model_selection import train_test_split"
      ],
      "execution_count": 2,
      "outputs": []
    },
    {
      "cell_type": "code",
      "metadata": {
        "id": "uxRknp2ZkEjG"
      },
      "source": [
        "X = np.load('ABIDE_X.npy', allow_pickle=True)\n",
        "Y = np.load('ABIDE_Y.npy', allow_pickle=True)"
      ],
      "execution_count": 3,
      "outputs": []
    },
    {
      "cell_type": "code",
      "metadata": {
        "id": "vVB3iCjBkbaI"
      },
      "source": [
        "# Since scans are 2s apart 90 scans is 3 mins\n",
        "L = 90\n",
        "# Number of clips per subject\n",
        "N=10\n",
        "# Number of ROIs\n",
        "N_rois = 200\n",
        "feat_name = 'filt_noglobal_roi_200_Cradd'\n",
        "def extract_feat_sections(data, L=L, N=N):\n",
        "    feat_secs = list()\n",
        "    for i in range(N):\n",
        "        r = int(random.random() * (len(data) - L))\n",
        "        feat_secs.append(data[r:r+L])\n",
        "    return np.array(feat_secs)\n",
        "\n",
        "def create_dataset(X_arr, Y_arr, L=L,N=N):\n",
        "    X = list()\n",
        "    Y = list()\n",
        "    for n, data in enumerate(X_arr):\n",
        "        feat_secs = extract_feat_sections(data)\n",
        "        X.extend(feat_secs)\n",
        "        for i in range(len(feat_secs)):\n",
        "            Y.append(Y_arr[n, 2])\n",
        "    assert len(X) == len(Y)\n",
        "    X_ar = np.array(X).reshape(len(X), L, N_rois)\n",
        "    Y_ar = np.array(Y)\n",
        "    return X_ar, Y_ar"
      ],
      "execution_count": 4,
      "outputs": []
    },
    {
      "cell_type": "code",
      "metadata": {
        "colab": {
          "base_uri": "https://localhost:8080/"
        },
        "id": "hZboltuclfhn",
        "outputId": "b02cd8fb-68eb-4bcf-ccb8-d3fd731904bb"
      },
      "source": [
        "# In original work 10 fold cross val used with proportion of subjects from each site was approximately the same in all folds\n",
        "# To start will just randomly split subjects into groups\n",
        "random_seed = 52\n",
        "val_per = .05\n",
        "test_per = .1\n",
        "train_sub_X, val_sub_X, train_sub_Y, val_sub_Y = train_test_split(X, Y, test_size=val_per + test_per, random_state=random_seed)\n",
        "val_sub_X, test_sub_X, val_sub_Y, test_sub_Y= train_test_split(val_sub_X, val_sub_Y, test_size=test_per/(val_per + test_per), random_state=random_seed + 1)\n",
        "print(f'{len(train_sub_X)} subjects for training.')\n",
        "print(f'{len(val_sub_X)} subjects for validation')\n",
        "print(f'{len(test_sub_X)} subjects for testing')"
      ],
      "execution_count": 5,
      "outputs": [
        {
          "output_type": "stream",
          "text": [
            "806 subjects for training.\n",
            "47 subjects for validation\n",
            "96 subjects for testing\n"
          ],
          "name": "stdout"
        }
      ]
    },
    {
      "cell_type": "code",
      "metadata": {
        "colab": {
          "base_uri": "https://localhost:8080/"
        },
        "id": "MqELC9_Iqm-L",
        "outputId": "e6db9f6b-1504-4dac-e1a7-7bb0801820e6"
      },
      "source": [
        "# Randomly extracts 10 shorter clips from each subject\n",
        "train_X, train_Y = create_dataset(train_sub_X, train_sub_Y)\n",
        "val_X, val_Y = create_dataset(val_sub_X, val_sub_Y)\n",
        "test_X, test_Y = create_dataset(test_sub_X, test_sub_Y)\n",
        "print(f'{len(train_X)} training examples')\n",
        "print(f'{len(val_X)} validation examples')\n",
        "print(f'{len(test_X)} testing examples')"
      ],
      "execution_count": 6,
      "outputs": [
        {
          "output_type": "stream",
          "text": [
            "8060 training examples\n",
            "470 validation examples\n",
            "960 testing examples\n"
          ],
          "name": "stdout"
        }
      ]
    },
    {
      "cell_type": "markdown",
      "metadata": {
        "id": "FKAnnakonYD8"
      },
      "source": [
        "First evaluate performance of LSTM"
      ]
    },
    {
      "cell_type": "code",
      "metadata": {
        "colab": {
          "base_uri": "https://localhost:8080/"
        },
        "id": "M-GLxawcnThU",
        "outputId": "393a02dc-f4a6-4781-b49c-7c0390fdf07f"
      },
      "source": [
        "# create and fit the LSTM network\n",
        "# hidden_nodes = int(2/3 * (N_rois * L))\n",
        "hidden_nodes = 16\n",
        "model = Sequential()\n",
        "model.add(LSTM(hidden_nodes, input_shape=(L, N_rois), return_sequences=True, dropout=0.5))\n",
        "model.add(Dropout(0.5))\n",
        "# model.add(LSTM(hidden_nodes))\n",
        "# model.add(Dropout(0.25))\n",
        "# model.add(AveragePooling2D(pool_size=(L, 1)))\n",
        "model.add(AveragePooling1D(pool_size=L))\n",
        "model.add(Dense(1, activation='sigmoid'))\n",
        "model.compile(loss='binary_crossentropy', optimizer='adam', metrics=['accuracy'])\n",
        "model.summary()"
      ],
      "execution_count": 48,
      "outputs": [
        {
          "output_type": "stream",
          "text": [
            "Model: \"sequential_8\"\n",
            "_________________________________________________________________\n",
            "Layer (type)                 Output Shape              Param #   \n",
            "=================================================================\n",
            "lstm_2 (LSTM)                (None, 90, 16)            13888     \n",
            "_________________________________________________________________\n",
            "dropout_26 (Dropout)         (None, 90, 16)            0         \n",
            "_________________________________________________________________\n",
            "average_pooling1d_2 (Average (None, 1, 16)             0         \n",
            "_________________________________________________________________\n",
            "dense_26 (Dense)             (None, 1, 1)              17        \n",
            "=================================================================\n",
            "Total params: 13,905\n",
            "Trainable params: 13,905\n",
            "Non-trainable params: 0\n",
            "_________________________________________________________________\n"
          ],
          "name": "stdout"
        }
      ]
    },
    {
      "cell_type": "code",
      "metadata": {
        "colab": {
          "base_uri": "https://localhost:8080/"
        },
        "id": "isf-PJSYoCZT",
        "outputId": "2e214d4f-9599-4bed-9e0d-96e59eba2272"
      },
      "source": [
        "\n",
        "batch_size = 32\n",
        "epochs = 100\n",
        "es_callback = keras.callbacks.EarlyStopping(monitor='val_accuracy', patience=15)\n",
        "history = model.fit(train_X, train_Y, batch_size=batch_size, epochs=epochs, validation_data=(val_X, val_Y), callbacks=[es_callback])\n"
      ],
      "execution_count": 49,
      "outputs": [
        {
          "output_type": "stream",
          "text": [
            "Epoch 1/100\n",
            "252/252 [==============================] - 4s 9ms/step - loss: 0.6931 - accuracy: 0.5038 - val_loss: 0.6859 - val_accuracy: 0.5574\n",
            "Epoch 2/100\n",
            "252/252 [==============================] - 2s 7ms/step - loss: 0.6862 - accuracy: 0.5608 - val_loss: 0.7003 - val_accuracy: 0.4745\n",
            "Epoch 3/100\n",
            "252/252 [==============================] - 2s 7ms/step - loss: 0.6746 - accuracy: 0.6098 - val_loss: 0.6962 - val_accuracy: 0.5106\n",
            "Epoch 4/100\n",
            "252/252 [==============================] - 2s 7ms/step - loss: 0.6557 - accuracy: 0.6607 - val_loss: 0.7057 - val_accuracy: 0.5319\n",
            "Epoch 5/100\n",
            "252/252 [==============================] - 2s 7ms/step - loss: 0.6358 - accuracy: 0.6734 - val_loss: 0.7100 - val_accuracy: 0.5574\n",
            "Epoch 6/100\n",
            "252/252 [==============================] - 2s 7ms/step - loss: 0.6163 - accuracy: 0.7027 - val_loss: 0.7139 - val_accuracy: 0.5702\n",
            "Epoch 7/100\n",
            "252/252 [==============================] - 2s 7ms/step - loss: 0.6027 - accuracy: 0.7034 - val_loss: 0.7125 - val_accuracy: 0.5979\n",
            "Epoch 8/100\n",
            "252/252 [==============================] - 2s 7ms/step - loss: 0.5774 - accuracy: 0.7312 - val_loss: 0.7006 - val_accuracy: 0.6191\n",
            "Epoch 9/100\n",
            "252/252 [==============================] - 2s 7ms/step - loss: 0.5624 - accuracy: 0.7345 - val_loss: 0.7057 - val_accuracy: 0.6043\n",
            "Epoch 10/100\n",
            "252/252 [==============================] - 2s 8ms/step - loss: 0.5464 - accuracy: 0.7474 - val_loss: 0.6885 - val_accuracy: 0.6447\n",
            "Epoch 11/100\n",
            "252/252 [==============================] - 2s 7ms/step - loss: 0.5290 - accuracy: 0.7526 - val_loss: 0.6827 - val_accuracy: 0.6404\n",
            "Epoch 12/100\n",
            "252/252 [==============================] - 2s 7ms/step - loss: 0.5130 - accuracy: 0.7680 - val_loss: 0.6997 - val_accuracy: 0.6404\n",
            "Epoch 13/100\n",
            "252/252 [==============================] - 2s 7ms/step - loss: 0.5069 - accuracy: 0.7602 - val_loss: 0.6938 - val_accuracy: 0.6681\n",
            "Epoch 14/100\n",
            "252/252 [==============================] - 2s 7ms/step - loss: 0.4886 - accuracy: 0.7847 - val_loss: 0.6926 - val_accuracy: 0.6638\n",
            "Epoch 15/100\n",
            "252/252 [==============================] - 2s 7ms/step - loss: 0.4915 - accuracy: 0.7776 - val_loss: 0.6776 - val_accuracy: 0.6511\n",
            "Epoch 16/100\n",
            "252/252 [==============================] - 2s 7ms/step - loss: 0.4799 - accuracy: 0.7836 - val_loss: 0.6669 - val_accuracy: 0.6681\n",
            "Epoch 17/100\n",
            "252/252 [==============================] - 2s 7ms/step - loss: 0.4750 - accuracy: 0.7814 - val_loss: 0.7450 - val_accuracy: 0.6638\n",
            "Epoch 18/100\n",
            "252/252 [==============================] - 2s 7ms/step - loss: 0.4566 - accuracy: 0.7967 - val_loss: 0.7641 - val_accuracy: 0.6277\n",
            "Epoch 19/100\n",
            "252/252 [==============================] - 2s 7ms/step - loss: 0.4577 - accuracy: 0.7944 - val_loss: 0.7193 - val_accuracy: 0.6787\n",
            "Epoch 20/100\n",
            "252/252 [==============================] - 2s 7ms/step - loss: 0.4375 - accuracy: 0.8127 - val_loss: 0.7425 - val_accuracy: 0.6319\n",
            "Epoch 21/100\n",
            "252/252 [==============================] - 2s 7ms/step - loss: 0.4370 - accuracy: 0.8033 - val_loss: 0.7822 - val_accuracy: 0.6128\n",
            "Epoch 22/100\n",
            "252/252 [==============================] - 2s 7ms/step - loss: 0.4217 - accuracy: 0.8190 - val_loss: 0.6886 - val_accuracy: 0.6468\n",
            "Epoch 23/100\n",
            "252/252 [==============================] - 2s 7ms/step - loss: 0.4201 - accuracy: 0.8232 - val_loss: 0.7152 - val_accuracy: 0.6596\n",
            "Epoch 24/100\n",
            "252/252 [==============================] - 2s 7ms/step - loss: 0.4288 - accuracy: 0.8042 - val_loss: 0.7212 - val_accuracy: 0.6745\n",
            "Epoch 25/100\n",
            "252/252 [==============================] - 2s 7ms/step - loss: 0.4126 - accuracy: 0.8179 - val_loss: 0.6900 - val_accuracy: 0.6787\n",
            "Epoch 26/100\n",
            "252/252 [==============================] - 2s 7ms/step - loss: 0.4121 - accuracy: 0.8219 - val_loss: 0.7326 - val_accuracy: 0.6745\n",
            "Epoch 27/100\n",
            "252/252 [==============================] - 2s 7ms/step - loss: 0.4053 - accuracy: 0.8256 - val_loss: 0.8119 - val_accuracy: 0.6596\n",
            "Epoch 28/100\n",
            "252/252 [==============================] - 2s 7ms/step - loss: 0.3928 - accuracy: 0.8380 - val_loss: 0.8470 - val_accuracy: 0.6447\n",
            "Epoch 29/100\n",
            "252/252 [==============================] - 2s 7ms/step - loss: 0.4011 - accuracy: 0.8234 - val_loss: 0.8409 - val_accuracy: 0.6362\n",
            "Epoch 30/100\n",
            "252/252 [==============================] - 2s 7ms/step - loss: 0.3981 - accuracy: 0.8234 - val_loss: 0.8241 - val_accuracy: 0.6383\n",
            "Epoch 31/100\n",
            "252/252 [==============================] - 2s 7ms/step - loss: 0.3939 - accuracy: 0.8310 - val_loss: 0.8289 - val_accuracy: 0.6340\n",
            "Epoch 32/100\n",
            "252/252 [==============================] - 2s 8ms/step - loss: 0.3922 - accuracy: 0.8272 - val_loss: 0.7722 - val_accuracy: 0.6787\n",
            "Epoch 33/100\n",
            "252/252 [==============================] - 2s 7ms/step - loss: 0.3786 - accuracy: 0.8362 - val_loss: 0.9117 - val_accuracy: 0.6149\n",
            "Epoch 34/100\n",
            "252/252 [==============================] - 2s 7ms/step - loss: 0.3801 - accuracy: 0.8443 - val_loss: 0.9303 - val_accuracy: 0.6383\n"
          ],
          "name": "stdout"
        }
      ]
    },
    {
      "cell_type": "code",
      "metadata": {
        "colab": {
          "base_uri": "https://localhost:8080/"
        },
        "id": "3hviapWvprGZ",
        "outputId": "547a8e68-59e3-43b9-9180-36da8528506e"
      },
      "source": [
        "# evaluate the model\n",
        "_, train_acc = model.evaluate(train_X, train_Y, verbose=0)\n",
        "_, test_acc = model.evaluate(test_X, test_Y, verbose=0)\n",
        "print('Train: %.3f, Test: %.3f' % (train_acc, test_acc))"
      ],
      "execution_count": 50,
      "outputs": [
        {
          "output_type": "stream",
          "text": [
            "Train: 0.910, Test: 0.601\n"
          ],
          "name": "stdout"
        }
      ]
    },
    {
      "cell_type": "markdown",
      "metadata": {
        "id": "S4Hdsi4U2z8C"
      },
      "source": [
        "Now with the Transformer model"
      ]
    },
    {
      "cell_type": "code",
      "metadata": {
        "colab": {
          "base_uri": "https://localhost:8080/"
        },
        "id": "OGynMdxmoT9M",
        "outputId": "97215218-23c1-4e77-a465-70d1ac29c2d3"
      },
      "source": [
        "train_X.shape"
      ],
      "execution_count": 9,
      "outputs": [
        {
          "output_type": "execute_result",
          "data": {
            "text/plain": [
              "(8060, 90, 200)"
            ]
          },
          "metadata": {
            "tags": []
          },
          "execution_count": 9
        }
      ]
    },
    {
      "cell_type": "code",
      "metadata": {
        "id": "nHCF2euynX6K"
      },
      "source": [
        "# Add classifcation token to beginning of input\n",
        "# classifcation token is an array of 0's and will be the input to the downstream classification tasks\n",
        "\n",
        "def add_cls_token(X):\n",
        "  cls_array = np.zeros((X.shape[0], 1, N_rois))\n",
        "  t_X = np.append(cls_array, X, 1)\n",
        "  return t_X\n"
      ],
      "execution_count": 7,
      "outputs": []
    },
    {
      "cell_type": "code",
      "metadata": {
        "id": "zqLl3n80oxaY"
      },
      "source": [
        "train_X_t = add_cls_token(train_X) \n",
        "val_X_t = add_cls_token(val_X) \n",
        "test_X_t = add_cls_token(test_X) "
      ],
      "execution_count": 8,
      "outputs": []
    },
    {
      "cell_type": "code",
      "metadata": {
        "id": "WMND8g_Lq7wk"
      },
      "source": [
        "class TransformerBlock(layers.Layer):\n",
        "    def __init__(self, embed_dim, num_heads, ff_dim, rate=0.1):\n",
        "        super(TransformerBlock, self).__init__()\n",
        "        self.att = layers.MultiHeadAttention(num_heads=num_heads, key_dim=embed_dim)\n",
        "        self.ffn = keras.Sequential(\n",
        "            [layers.Dense(ff_dim, activation=\"relu\"), layers.Dense(embed_dim),]\n",
        "        )\n",
        "        self.layernorm1 = layers.LayerNormalization(epsilon=1e-6)\n",
        "        self.layernorm2 = layers.LayerNormalization(epsilon=1e-6)\n",
        "        self.dropout1 = layers.Dropout(rate)\n",
        "        self.dropout2 = layers.Dropout(rate)\n",
        "\n",
        "    def call(self, inputs, training):\n",
        "        attn_output = self.att(inputs, inputs)\n",
        "        attn_output = self.dropout1(attn_output, training=training)\n",
        "        out1 = self.layernorm1(inputs + attn_output)\n",
        "        ffn_output = self.ffn(out1)\n",
        "        ffn_output = self.dropout2(ffn_output, training=training)\n",
        "        return self.layernorm2(out1 + ffn_output)"
      ],
      "execution_count": 9,
      "outputs": []
    },
    {
      "cell_type": "code",
      "metadata": {
        "colab": {
          "base_uri": "https://localhost:8080/"
        },
        "id": "BzI3FNQb2zTg",
        "outputId": "fa8e411d-edee-41e9-ec11-c89e2d7845d1"
      },
      "source": [
        "embed_dim = N_rois  # Embedding size for each token\n",
        "num_heads = 4  # Number of attention heads\n",
        "ff_dim = 32  # Hidden layer size in feed forward network inside transformer\n",
        "max_len = L + 1 # add one for the cls token\n",
        "dropout_rate = .5\n",
        "\n",
        "# inputs = layers.Input(shape=(max_len,))\n",
        "inputs = layers.Input(shape=(max_len, embed_dim))\n",
        "# embedding_layer = TokenAndPositionEmbedding(maxlen, vocab_size, embed_dim)\n",
        "# x = embedding_layer(inputs)\n",
        "x = inputs\n",
        "transformer_block = TransformerBlock(embed_dim, num_heads, ff_dim)\n",
        "x = transformer_block(x)\n",
        "x = x[:, 0, :]\n",
        "# x = layers.GlobalAveragePooling1D()(x)\n",
        "x = layers.Dropout(dropout_rate)(x)\n",
        "x = layers.Dense(20, activation=\"relu\")(x)\n",
        "x = layers.Dropout(dropout_rate)(x)\n",
        "outputs = layers.Dense(1, activation=\"sigmoid\")(x)\n",
        "\n",
        "model = keras.Model(inputs=inputs, outputs=outputs)\n",
        "model.compile(loss='binary_crossentropy', optimizer='adam', metrics=['accuracy'])\n",
        "model.summary()"
      ],
      "execution_count": 13,
      "outputs": [
        {
          "output_type": "stream",
          "text": [
            "Model: \"model\"\n",
            "_________________________________________________________________\n",
            "Layer (type)                 Output Shape              Param #   \n",
            "=================================================================\n",
            "input_1 (InputLayer)         [(None, 91, 200)]         0         \n",
            "_________________________________________________________________\n",
            "transformer_block (Transform (None, 91, 200)           656432    \n",
            "_________________________________________________________________\n",
            "tf.__operators__.getitem (Sl (None, 200)               0         \n",
            "_________________________________________________________________\n",
            "dropout_3 (Dropout)          (None, 200)               0         \n",
            "_________________________________________________________________\n",
            "dense_3 (Dense)              (None, 20)                4020      \n",
            "_________________________________________________________________\n",
            "dropout_4 (Dropout)          (None, 20)                0         \n",
            "_________________________________________________________________\n",
            "dense_4 (Dense)              (None, 1)                 21        \n",
            "=================================================================\n",
            "Total params: 660,473\n",
            "Trainable params: 660,473\n",
            "Non-trainable params: 0\n",
            "_________________________________________________________________\n"
          ],
          "name": "stdout"
        }
      ]
    },
    {
      "cell_type": "code",
      "metadata": {
        "colab": {
          "base_uri": "https://localhost:8080/"
        },
        "id": "cVdgNkrb27QQ",
        "outputId": "3fc5a8d9-97a8-443a-bda3-77e4adeb47c5"
      },
      "source": [
        "batch_size = 32\n",
        "epochs = 100\n",
        "es_callback = keras.callbacks.EarlyStopping(monitor='val_accuracy', patience=15)\n",
        "model.fit(train_X_t, train_Y, batch_size=batch_size, epochs=epochs, validation_data=(val_X_t, val_Y), callbacks=[es_callback])"
      ],
      "execution_count": 14,
      "outputs": [
        {
          "output_type": "stream",
          "text": [
            "Epoch 1/100\n",
            "252/252 [==============================] - 4s 13ms/step - loss: 0.8042 - accuracy: 0.5072 - val_loss: 0.6931 - val_accuracy: 0.5106\n",
            "Epoch 2/100\n",
            "252/252 [==============================] - 3s 11ms/step - loss: 0.6939 - accuracy: 0.5012 - val_loss: 0.6930 - val_accuracy: 0.5106\n",
            "Epoch 3/100\n",
            "252/252 [==============================] - 3s 11ms/step - loss: 0.6933 - accuracy: 0.5057 - val_loss: 0.6930 - val_accuracy: 0.5106\n",
            "Epoch 4/100\n",
            "252/252 [==============================] - 3s 11ms/step - loss: 0.6934 - accuracy: 0.5101 - val_loss: 0.6930 - val_accuracy: 0.5106\n",
            "Epoch 5/100\n",
            "252/252 [==============================] - 3s 11ms/step - loss: 0.6928 - accuracy: 0.5106 - val_loss: 0.6930 - val_accuracy: 0.5106\n",
            "Epoch 6/100\n",
            "252/252 [==============================] - 3s 11ms/step - loss: 0.6929 - accuracy: 0.4959 - val_loss: 0.6930 - val_accuracy: 0.5106\n",
            "Epoch 7/100\n",
            "252/252 [==============================] - 3s 11ms/step - loss: 0.6925 - accuracy: 0.5027 - val_loss: 0.6930 - val_accuracy: 0.5106\n",
            "Epoch 8/100\n",
            "252/252 [==============================] - 3s 11ms/step - loss: 0.6927 - accuracy: 0.5071 - val_loss: 0.6930 - val_accuracy: 0.5106\n",
            "Epoch 9/100\n",
            "252/252 [==============================] - 3s 11ms/step - loss: 0.6922 - accuracy: 0.5043 - val_loss: 0.6930 - val_accuracy: 0.5106\n",
            "Epoch 10/100\n",
            "252/252 [==============================] - 3s 11ms/step - loss: 0.6927 - accuracy: 0.4969 - val_loss: 0.6930 - val_accuracy: 0.5106\n",
            "Epoch 11/100\n",
            "252/252 [==============================] - 3s 11ms/step - loss: 0.6918 - accuracy: 0.4955 - val_loss: 0.6930 - val_accuracy: 0.5106\n",
            "Epoch 12/100\n",
            "252/252 [==============================] - 3s 11ms/step - loss: 0.6926 - accuracy: 0.4964 - val_loss: 0.6929 - val_accuracy: 0.5106\n",
            "Epoch 13/100\n",
            "252/252 [==============================] - 3s 11ms/step - loss: 0.6919 - accuracy: 0.5092 - val_loss: 0.6930 - val_accuracy: 0.5106\n",
            "Epoch 14/100\n",
            "252/252 [==============================] - 3s 11ms/step - loss: 0.6927 - accuracy: 0.5177 - val_loss: 0.6930 - val_accuracy: 0.5106\n",
            "Epoch 15/100\n",
            "252/252 [==============================] - 3s 11ms/step - loss: 0.6926 - accuracy: 0.5028 - val_loss: 0.6930 - val_accuracy: 0.5106\n",
            "Epoch 16/100\n",
            "252/252 [==============================] - 3s 11ms/step - loss: 0.6923 - accuracy: 0.5139 - val_loss: 0.6930 - val_accuracy: 0.5106\n"
          ],
          "name": "stdout"
        },
        {
          "output_type": "execute_result",
          "data": {
            "text/plain": [
              "<tensorflow.python.keras.callbacks.History at 0x7f46c6033210>"
            ]
          },
          "metadata": {
            "tags": []
          },
          "execution_count": 14
        }
      ]
    },
    {
      "cell_type": "code",
      "metadata": {
        "colab": {
          "base_uri": "https://localhost:8080/"
        },
        "id": "qJ6-e4sN3Pam",
        "outputId": "372919c0-47c6-4791-d87a-74c179ffbce6"
      },
      "source": [
        "# evaluate the model\n",
        "_, train_acc = model.evaluate(train_X_t, train_Y, verbose=0)\n",
        "_, test_acc = model.evaluate(test_X_t, test_Y, verbose=0)\n",
        "print('Train: %.3f, Test: %.3f' % (train_acc, test_acc))"
      ],
      "execution_count": 15,
      "outputs": [
        {
          "output_type": "stream",
          "text": [
            "Train: 0.506, Test: 0.562\n"
          ],
          "name": "stdout"
        }
      ]
    },
    {
      "cell_type": "markdown",
      "metadata": {
        "id": "WyWdwtzMpasg"
      },
      "source": [
        "Train: 0.972, Test: 0.645"
      ]
    },
    {
      "cell_type": "markdown",
      "metadata": {
        "id": "dkPWW5gvq69f"
      },
      "source": [
        "Transfomer with positional encoding"
      ]
    },
    {
      "cell_type": "code",
      "metadata": {
        "id": "WXxJUIWQq-dM"
      },
      "source": [
        "class PositionEmbedding(layers.Layer):\n",
        "    def __init__(self, maxlen, embed_dim):\n",
        "        super(PositionEmbedding, self).__init__()\n",
        "        self.maxlen = maxlen\n",
        "        self.pos_emb = layers.Embedding(input_dim=maxlen, output_dim=embed_dim)\n",
        "\n",
        "    def call(self, x):\n",
        "        positions = tf.range(start=0, limit=self.maxlen, delta=1)\n",
        "        positions = self.pos_emb(positions)\n",
        "        return x + positions"
      ],
      "execution_count": 10,
      "outputs": []
    },
    {
      "cell_type": "code",
      "metadata": {
        "colab": {
          "base_uri": "https://localhost:8080/"
        },
        "id": "6ydMbQ3zrqoe",
        "outputId": "c68dc501-7706-4ba4-9eb5-1fd9006c321f"
      },
      "source": [
        "embed_dim = N_rois  # Embedding size for each token\n",
        "num_heads = 8  # Number of attention heads\n",
        "ff_dim = 32  # Hidden layer size in feed forward network inside transformer\n",
        "max_len = L + 1\n",
        "dropout_rate = .5\n",
        "\n",
        "# inputs = layers.Input(shape=(max_len,))\n",
        "inputs = layers.Input(shape=(max_len, embed_dim))\n",
        "pos_embedding_layer = PositionEmbedding(max_len, embed_dim)\n",
        "x = pos_embedding_layer(inputs)\n",
        "# x = inputs\n",
        "transformer_block = TransformerBlock(embed_dim, num_heads, ff_dim)\n",
        "x = transformer_block(x)\n",
        "x = x[:, 0, :] # take only cls token\n",
        "# x = layers.GlobalAveragePooling1D()(x)\n",
        "x = layers.Dropout(dropout_rate)(x)\n",
        "x = layers.Dense(20, activation=\"relu\")(x)\n",
        "x = layers.Dropout(dropout_rate)(x)\n",
        "outputs = layers.Dense(1, activation=\"sigmoid\")(x)\n",
        "\n",
        "model_embed = keras.Model(inputs=inputs, outputs=outputs)\n",
        "model_embed.compile(loss='binary_crossentropy', optimizer='adam', metrics=['accuracy'])\n",
        "model_embed.summary()"
      ],
      "execution_count": 11,
      "outputs": [
        {
          "output_type": "stream",
          "text": [
            "Model: \"model\"\n",
            "_________________________________________________________________\n",
            "Layer (type)                 Output Shape              Param #   \n",
            "=================================================================\n",
            "input_1 (InputLayer)         [(None, 91, 200)]         0         \n",
            "_________________________________________________________________\n",
            "position_embedding (Position (None, 91, 200)           18200     \n",
            "_________________________________________________________________\n",
            "transformer_block (Transform (None, 91, 200)           1298832   \n",
            "_________________________________________________________________\n",
            "tf.__operators__.getitem (Sl (None, 200)               0         \n",
            "_________________________________________________________________\n",
            "dropout_2 (Dropout)          (None, 200)               0         \n",
            "_________________________________________________________________\n",
            "dense_2 (Dense)              (None, 20)                4020      \n",
            "_________________________________________________________________\n",
            "dropout_3 (Dropout)          (None, 20)                0         \n",
            "_________________________________________________________________\n",
            "dense_3 (Dense)              (None, 1)                 21        \n",
            "=================================================================\n",
            "Total params: 1,321,073\n",
            "Trainable params: 1,321,073\n",
            "Non-trainable params: 0\n",
            "_________________________________________________________________\n"
          ],
          "name": "stdout"
        }
      ]
    },
    {
      "cell_type": "code",
      "metadata": {
        "colab": {
          "base_uri": "https://localhost:8080/"
        },
        "id": "I3qmtqUGsAUg",
        "outputId": "79aa0cc0-d56c-4447-8b18-7fd469dbf760"
      },
      "source": [
        "batch_size = 32\n",
        "epochs = 100\n",
        "es_callback = keras.callbacks.EarlyStopping(monitor='val_accuracy', patience=15)\n",
        "history = model_embed.fit(train_X_t, train_Y, batch_size=batch_size, epochs=epochs, validation_data=(val_X_t, val_Y), callbacks=[es_callback])"
      ],
      "execution_count": 12,
      "outputs": [
        {
          "output_type": "stream",
          "text": [
            "Epoch 1/100\n",
            "252/252 [==============================] - 10s 21ms/step - loss: 0.7237 - accuracy: 0.5264 - val_loss: 0.6944 - val_accuracy: 0.4255\n",
            "Epoch 2/100\n",
            "252/252 [==============================] - 5s 19ms/step - loss: 0.6939 - accuracy: 0.5024 - val_loss: 0.7024 - val_accuracy: 0.4255\n",
            "Epoch 3/100\n",
            "252/252 [==============================] - 5s 19ms/step - loss: 0.6939 - accuracy: 0.5114 - val_loss: 0.6960 - val_accuracy: 0.4255\n",
            "Epoch 4/100\n",
            "252/252 [==============================] - 5s 19ms/step - loss: 0.6933 - accuracy: 0.5139 - val_loss: 0.6956 - val_accuracy: 0.4255\n",
            "Epoch 5/100\n",
            "252/252 [==============================] - 5s 19ms/step - loss: 0.6934 - accuracy: 0.5012 - val_loss: 0.6957 - val_accuracy: 0.4255\n",
            "Epoch 6/100\n",
            "252/252 [==============================] - 5s 19ms/step - loss: 0.6917 - accuracy: 0.5118 - val_loss: 0.6939 - val_accuracy: 0.4255\n",
            "Epoch 7/100\n",
            "252/252 [==============================] - 5s 19ms/step - loss: 0.6841 - accuracy: 0.5267 - val_loss: 0.6782 - val_accuracy: 0.5468\n",
            "Epoch 8/100\n",
            "252/252 [==============================] - 5s 19ms/step - loss: 0.6207 - accuracy: 0.6537 - val_loss: 0.6449 - val_accuracy: 0.6362\n",
            "Epoch 9/100\n",
            "252/252 [==============================] - 5s 19ms/step - loss: 0.5055 - accuracy: 0.7612 - val_loss: 0.5772 - val_accuracy: 0.7404\n",
            "Epoch 10/100\n",
            "252/252 [==============================] - 5s 19ms/step - loss: 0.4571 - accuracy: 0.7962 - val_loss: 0.8198 - val_accuracy: 0.6362\n",
            "Epoch 11/100\n",
            "252/252 [==============================] - 5s 19ms/step - loss: 0.3714 - accuracy: 0.8366 - val_loss: 1.0251 - val_accuracy: 0.6511\n",
            "Epoch 12/100\n",
            "252/252 [==============================] - 5s 19ms/step - loss: 0.3377 - accuracy: 0.8647 - val_loss: 1.1427 - val_accuracy: 0.6191\n",
            "Epoch 13/100\n",
            "252/252 [==============================] - 5s 19ms/step - loss: 0.3258 - accuracy: 0.8677 - val_loss: 1.3800 - val_accuracy: 0.6106\n",
            "Epoch 14/100\n",
            "252/252 [==============================] - 5s 19ms/step - loss: 0.2517 - accuracy: 0.9023 - val_loss: 1.3878 - val_accuracy: 0.6383\n",
            "Epoch 15/100\n",
            "252/252 [==============================] - 5s 19ms/step - loss: 0.2461 - accuracy: 0.8995 - val_loss: 1.1606 - val_accuracy: 0.6787\n",
            "Epoch 16/100\n",
            "252/252 [==============================] - 5s 19ms/step - loss: 0.1924 - accuracy: 0.9269 - val_loss: 1.6337 - val_accuracy: 0.6255\n",
            "Epoch 17/100\n",
            "252/252 [==============================] - 5s 19ms/step - loss: 0.2113 - accuracy: 0.9221 - val_loss: 1.4354 - val_accuracy: 0.6447\n",
            "Epoch 18/100\n",
            "252/252 [==============================] - 5s 20ms/step - loss: 0.1798 - accuracy: 0.9354 - val_loss: 1.5538 - val_accuracy: 0.6021\n",
            "Epoch 19/100\n",
            "252/252 [==============================] - 5s 19ms/step - loss: 0.1679 - accuracy: 0.9381 - val_loss: 1.5083 - val_accuracy: 0.6745\n",
            "Epoch 20/100\n",
            "252/252 [==============================] - 5s 19ms/step - loss: 0.1563 - accuracy: 0.9458 - val_loss: 1.2480 - val_accuracy: 0.6638\n",
            "Epoch 21/100\n",
            "252/252 [==============================] - 5s 20ms/step - loss: 0.1414 - accuracy: 0.9570 - val_loss: 1.6221 - val_accuracy: 0.6617\n",
            "Epoch 22/100\n",
            "252/252 [==============================] - 5s 19ms/step - loss: 0.1154 - accuracy: 0.9592 - val_loss: 0.8799 - val_accuracy: 0.6511\n",
            "Epoch 23/100\n",
            "252/252 [==============================] - 5s 19ms/step - loss: 0.1667 - accuracy: 0.9385 - val_loss: 1.3101 - val_accuracy: 0.6553\n",
            "Epoch 24/100\n",
            "252/252 [==============================] - 5s 20ms/step - loss: 0.1277 - accuracy: 0.9625 - val_loss: 1.7175 - val_accuracy: 0.6383\n"
          ],
          "name": "stdout"
        }
      ]
    },
    {
      "cell_type": "code",
      "metadata": {
        "colab": {
          "base_uri": "https://localhost:8080/"
        },
        "id": "eB1wWt_isGqP",
        "outputId": "0fdbda82-3ac5-4725-a82e-b4bef64d0369"
      },
      "source": [
        "# evaluate the model\n",
        "_, train_acc = model_embed.evaluate(train_X_t, train_Y, verbose=0)\n",
        "_, test_acc = model_embed.evaluate(test_X_t, test_Y, verbose=0)\n",
        "print('Train: %.3f, Test: %.3f' % (train_acc, test_acc))"
      ],
      "execution_count": 15,
      "outputs": [
        {
          "output_type": "stream",
          "text": [
            "Train: 0.974, Test: 0.584\n"
          ],
          "name": "stdout"
        }
      ]
    },
    {
      "cell_type": "code",
      "metadata": {
        "colab": {
          "base_uri": "https://localhost:8080/",
          "height": 295
        },
        "id": "XFQa28Yy_ykA",
        "outputId": "83b1855e-938d-4bed-cda7-fe0cf2f794a5"
      },
      "source": [
        "def plt_training(var, skip=0, exp_name=None):\n",
        "  plt.plot(history.history[var][skip:])\n",
        "  plt.plot(history.history['val_' + var][skip:])\n",
        "  plt.title('model ' + var)\n",
        "  plt.ylabel(var)\n",
        "  plt.xlabel('epoch')\n",
        "  plt.legend(['train', 'val'], loc='upper left')\n",
        "  if exp_name is not None:\n",
        "    plt.savefig(f'{exp_name}_{var}.png')\n",
        "  plt.show()\n",
        "  \n",
        "\n",
        "exp_name = 'L90_8_32_pure'\n",
        "vars = ['loss', 'accuracy']\n",
        "skip = 1\n",
        "plt_training(vars[1], skip, exp_name)"
      ],
      "execution_count": 19,
      "outputs": [
        {
          "output_type": "display_data",
          "data": {
            "image/png": "[encoded data removed]",
            "text/plain": [
              "<Figure size 432x288 with 1 Axes>"
            ]
          },
          "metadata": {
            "tags": [],
            "needs_background": "light"
          }
        }
      ]
    },
    {
      "cell_type": "code",
      "metadata": {
        "id": "TnkNiec5lfnB"
      },
      "source": [
        "def pause():\n",
        "  for i in range(1000230413254123041230421341234):\n",
        "    if i %12132423423141324 == 0:\n",
        "      print(i)"
      ],
      "execution_count": null,
      "outputs": []
    },
    {
      "cell_type": "code",
      "metadata": {
        "colab": {
          "base_uri": "https://localhost:8080/"
        },
        "id": "pU_GB6x9lkKl",
        "outputId": "bbdcb7ce-0d3b-414f-fdf6-4fa3f17fd1b9"
      },
      "source": [
        "pause()"
      ],
      "execution_count": null,
      "outputs": [
        {
          "output_type": "stream",
          "text": [
            "0\n"
          ],
          "name": "stdout"
        }
      ]
    },
    {
      "cell_type": "code",
      "metadata": {
        "id": "0XRwXCqdlk04"
      },
      "source": [
        ""
      ],
      "execution_count": null,
      "outputs": []
    }
  ]
}