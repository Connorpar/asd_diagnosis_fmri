{
 "cells": [
  {
   "cell_type": "markdown",
   "metadata": {},
   "source": [
    "# Notebook for creating and saving Subject objects from datasets"
   ]
  },
  {
   "cell_type": "code",
   "execution_count": 1,
   "metadata": {},
   "outputs": [
    {
     "data": {
      "text/plain": [
       "True"
      ]
     },
     "execution_count": 1,
     "metadata": {},
     "output_type": "execute_result"
    }
   ],
   "source": [
    "%load_ext autoreload\n",
    "%autoreload 2\n",
    "\n",
    "import os\n",
    "import pickle\n",
    "import numpy as np\n",
    "import pandas as pd\n",
    "import matplotlib.pyplot as plt\n",
    "\n",
    "from subprocess import call\n",
    "\n",
    "import sys\n",
    "sys.path.append('../src/features')\n",
    "\n",
    "from subject import Subject\n",
    "\n",
    "cur_dir = os.getcwd()\n",
    "asd_diag_dir = os.path.dirname(cur_dir)\n",
    "abide_dir = os.path.dirname(asd_diag_dir) + '/abide/'\n",
    "roi_200_dir = abide_dir + '/data/ABIDEI_preprocessed/Outputs/cpac/filt_noglobal/rois_cc200/'\n",
    "subjects_dir = os.path.dirname(cur_dir) + '/data/ABIDEI_subjects/'\n",
    "os.path.exists(roi_200_dir)"
   ]
  },
  {
   "cell_type": "markdown",
   "metadata": {},
   "source": [
    "# Load already made subjects for modification"
   ]
  },
  {
   "cell_type": "code",
   "execution_count": 2,
   "metadata": {},
   "outputs": [],
   "source": [
    "# Load ABIDEI preprocessed rois by loading subjects\n",
    "def open_pickle(f):\n",
    "    file = open(f,'rb')\n",
    "    o = pickle.load(file)\n",
    "    file.close()\n",
    "    return o\n",
    "\n",
    "def load_subjects_d(subject_folder):\n",
    "    subjects_d = {}\n",
    "    for f in os.listdir(subject_folder):\n",
    "        s = open_pickle(os.path.join(subject_folder, f))\n",
    "        subjects_d[s._sub_id] = s\n",
    "    return subjects_d\n",
    "\n",
    "subjects_d = load_subjects_d(subjects_dir)"
   ]
  },
  {
   "cell_type": "markdown",
   "metadata": {},
   "source": [
    "## Subjects from ABIDE I preprocessed"
   ]
  },
  {
   "cell_type": "code",
   "execution_count": 28,
   "metadata": {},
   "outputs": [],
   "source": [
    "phen_file = abide_dir + 'Phenotypic_V1_0b_preprocessed1.csv'\n",
    "phen_df = pd.read_csv(phen_file)"
   ]
  },
  {
   "cell_type": "code",
   "execution_count": 36,
   "metadata": {},
   "outputs": [],
   "source": [
    "subjects = list()\n",
    "for index, row in phen_df.iterrows():\n",
    "    data = list()\n",
    "    file = row['FILE_ID'] + '_rois_cc200.1D'\n",
    "    if(file in os.listdir(roi_200_dir)):\n",
    "        with open(str(os.path.join(roi_200_dir, file)), newline='') as f:\n",
    "            Lines = f.readlines()\n",
    "            for l in Lines[1:]:\n",
    "                ts = np.empty((200,))\n",
    "                for n, i in enumerate(l.split(\"\\t\")):\n",
    "                    ts[n] = i\n",
    "                data.append(ts)       \n",
    "        data_dict = {'filt_noglobal_roi_200_Cradd' : np.array(data)}\n",
    "        label_dict = {'dx_group': row['DX_GROUP']}\n",
    "        s = Subject(row['SUB_ID'], row['SITE_ID'], row['SEX'], row['AGE_AT_SCAN'], data_dict, label_dict)\n",
    "        subjects.append(s)\n",
    "assert len(subjects) == len(os.listdir(roi_200_dir))"
   ]
  },
  {
   "cell_type": "markdown",
   "metadata": {},
   "source": [
    "# Add ABIDE I preprocessed"
   ]
  },
  {
   "cell_type": "code",
   "execution_count": 17,
   "metadata": {},
   "outputs": [
    {
     "name": "stdout",
     "output_type": "stream",
     "text": [
      "Number of files in data dir 884\n"
     ]
    }
   ],
   "source": [
    "def open_1d_rois(file):\n",
    "    data = list()\n",
    "    with open(file, newline='') as f:\n",
    "        Lines = f.readlines()\n",
    "        for l in Lines[1:]:\n",
    "            ts = np.empty((200,))\n",
    "            for n, i in enumerate(l.split(\"\\t\")):\n",
    "                ts[n] = i\n",
    "            data.append(ts)\n",
    "    return np.array(data)\n",
    "\n",
    "def add_data(subjects_d, data_dir, data_name):\n",
    "    print(f'Number of files in data dir {len(os.listdir(data_dir))}')\n",
    "    for f in os.listdir(data_dir):\n",
    "        sub_id = None\n",
    "        for i in f.split('_'):\n",
    "            if(i[0:3] == '005'):\n",
    "                sub_id = int(i)\n",
    "        if(sub_id is None):\n",
    "            print(f'error getting sub_id from {f}')\n",
    "        else:\n",
    "            data = open_1d_rois(os.path.join(data_dir, f))\n",
    "            s = subjects_d[sub_id]\n",
    "            s._data_dict[data_name] = data\n",
    "        \n",
    "# data_dir = abide_dir + '/data/ABIDEI_preprocessed/Outputs/cpac/nofilt_noglobal/rois_cc200/'\n",
    "# data_name = 'nofilt_noglobal_roi_200_Cradd'\n",
    "# data_dir = abide_dir + '/data/ABIDEI_preprocessed/Outputs/cpac/nofilt_global/rois_cc200/'\n",
    "# data_name = 'nofilt_global_roi_200_Cradd'\n",
    "data_dir = abide_dir + '/data/ABIDEI_preprocessed/Outputs/cpac/filt_global/rois_cc200/'\n",
    "data_name = 'filt_global_roi_200_Cradd'\n",
    "add_data(subjects_d, data_dir, data_name)"
   ]
  },
  {
   "cell_type": "code",
   "execution_count": 18,
   "metadata": {},
   "outputs": [
    {
     "name": "stdout",
     "output_type": "stream",
     "text": [
      "884\n"
     ]
    }
   ],
   "source": [
    "# Check that data added \n",
    "g_c = 0\n",
    "for sub_id, s in subjects_d.items():\n",
    "    if(data_name in s._data_dict):\n",
    "        g_c += 1\n",
    "print(g_c)"
   ]
  },
  {
   "cell_type": "markdown",
   "metadata": {},
   "source": [
    "# Add CPAC preprocessed data"
   ]
  },
  {
   "cell_type": "code",
   "execution_count": 3,
   "metadata": {},
   "outputs": [],
   "source": [
    "data_dir = asd_diag_dir + '/data/'\n",
    "# cpac_output_dir = data_dir + 'cpac_output/output/pipeline_abide_cpac_run_freq-filter_nuisance/'\n",
    "# cpac_output_dir = data_dir + 'cpac_output_cmu_a/output/pipeline_abide_cpac_run/'\n",
    "cpac_output_dir = data_dir + 'cpac_output_t/output/pipeline_abide_cpac_run/'"
   ]
  },
  {
   "cell_type": "code",
   "execution_count": 4,
   "metadata": {},
   "outputs": [
    {
     "name": "stdout",
     "output_type": "stream",
     "text": [
      "Couldn't get rois for /home/cparish/Capstone/asd_diagnosis_fmri/data/cpac_output_t/output/pipeline_abide_cpac_run/sub-0050657_ses-1\n",
      "Couldn't get rois for /home/cparish/Capstone/asd_diagnosis_fmri/data/cpac_output_t/output/pipeline_abide_cpac_run/sub-0050649_ses-1\n",
      "Couldn't get rois for /home/cparish/Capstone/asd_diagnosis_fmri/data/cpac_output_t/output/pipeline_abide_cpac_run/sub-0050651_ses-1\n"
     ]
    }
   ],
   "source": [
    "# for filter no global\n",
    "# filt_noglobal = 'roi_timeseries/_scan_rest_run-1/_selector_CSF-2mmE-M_aC-CSF+WM-2mm-DPC5_M-SDB_P-2_BP-B0.01-T0.1/_mask_CC200_mask_file_..cpac_templates..CC200.nii.gz'\n",
    "filt_noglobal = 'roi_timeseries/_scan_rest_run-1/_selector_CSF-2mm-M_aC-CSF+WM-2mm-DPC5_M-SDB_P-2_BP-B0.01-T0.1/_mask_CC200_mask_file_..cpac_templates..CC200.nii.gz'\n",
    "def get_roi(sub_folder):\n",
    "    roi_folder = os.path.join(sub_folder,filt_noglobal)\n",
    "    if os.path.exists(os.path.join(roi_folder, 'roi_stats.npz')):\n",
    "        call(['unzip', os.path.join(roi_folder, 'roi_stats.npz'), '-d', roi_folder])\n",
    "        # first row is nans and skip first 5\n",
    "        roi = np.load(os.path.join(roi_folder, 'arr_0.npy'), allow_pickle=True)[5:] \n",
    "    else:\n",
    "        print(f\"Couldn't get rois for {sub_folder}\")\n",
    "        roi = None\n",
    "    return roi\n",
    "\n",
    "cpac_sub_roi_d = {}\n",
    "for sub_f in os.listdir(cpac_output_dir):\n",
    "    sub_id = int(sub_f.split('-')[1].split('_')[0])\n",
    "    sub_folder = os.path.join(cpac_output_dir, sub_f)\n",
    "    roi = get_roi(sub_folder)\n",
    "    if roi is not None:\n",
    "        cpac_sub_roi_d[sub_id] = get_roi(sub_folder)"
   ]
  },
  {
   "cell_type": "code",
   "execution_count": 5,
   "metadata": {},
   "outputs": [],
   "source": [
    "subjects = subjects_d.values()"
   ]
  },
  {
   "cell_type": "code",
   "execution_count": 6,
   "metadata": {},
   "outputs": [
    {
     "data": {
      "text/plain": [
       "dict_keys([50957, 50955, 50669, 50958, 50653, 50961, 50956, 50954, 50959, 50960])"
      ]
     },
     "execution_count": 6,
     "metadata": {},
     "output_type": "execute_result"
    }
   ],
   "source": [
    "cpac_sub_roi_d.keys()"
   ]
  },
  {
   "cell_type": "code",
   "execution_count": 7,
   "metadata": {},
   "outputs": [
    {
     "name": "stdout",
     "output_type": "stream",
     "text": [
      "51082\n",
      "51109\n",
      "51156\n",
      "51102\n",
      "50969\n",
      "51069\n",
      "50978\n",
      "51027\n",
      "50962\n",
      "51012\n",
      "51019\n",
      "51071\n",
      "51122\n",
      "51018\n",
      "51124\n",
      "51086\n",
      "50985\n",
      "50995\n",
      "51083\n",
      "50986\n",
      "51113\n",
      "51152\n",
      "51020\n",
      "50994\n",
      "51068\n",
      "51050\n",
      "51056\n",
      "50958\n",
      "50966\n",
      "51010\n",
      "50957\n",
      "51058\n",
      "51130\n",
      "51025\n",
      "51080\n",
      "50982\n",
      "51103\n",
      "51044\n",
      "51084\n",
      "50998\n",
      "51098\n",
      "50959\n",
      "51040\n",
      "51155\n",
      "51066\n",
      "51126\n",
      "51029\n",
      "51106\n",
      "51047\n",
      "51110\n",
      "51151\n",
      "51034\n",
      "51000\n",
      "51148\n",
      "51129\n",
      "51032\n",
      "51077\n",
      "51090\n",
      "51061\n",
      "51001\n",
      "50965\n",
      "51078\n",
      "50970\n",
      "51087\n",
      "51062\n",
      "51064\n",
      "50993\n",
      "51013\n",
      "51114\n",
      "51100\n",
      "51028\n",
      "51093\n",
      "51073\n",
      "51075\n",
      "51088\n",
      "51065\n",
      "51081\n",
      "51128\n",
      "51063\n",
      "51057\n",
      "51116\n",
      "51007\n",
      "51046\n",
      "51085\n",
      "51153\n",
      "50967\n",
      "51048\n",
      "50983\n",
      "51014\n",
      "51002\n",
      "51117\n",
      "50997\n",
      "51118\n",
      "50976\n",
      "51079\n",
      "51036\n",
      "51011\n",
      "50981\n",
      "51021\n",
      "50972\n",
      "50989\n",
      "51023\n",
      "50954\n",
      "51009\n",
      "51026\n",
      "51059\n",
      "51107\n",
      "50955\n",
      "51049\n",
      "50968\n",
      "51033\n",
      "50984\n",
      "51070\n",
      "51094\n",
      "51055\n",
      "51042\n",
      "50996\n",
      "51101\n",
      "51067\n",
      "51017\n",
      "51016\n",
      "50991\n",
      "51051\n",
      "50956\n",
      "51015\n",
      "51149\n",
      "51089\n",
      "50988\n",
      "51121\n",
      "51146\n",
      "50964\n",
      "50973\n",
      "50977\n",
      "50992\n",
      "51006\n",
      "51105\n",
      "51111\n",
      "51053\n",
      "50979\n",
      "51104\n",
      "51038\n",
      "50987\n",
      "51095\n",
      "51045\n",
      "51054\n",
      "51024\n",
      "51091\n",
      "51074\n",
      "51060\n",
      "51097\n",
      "51039\n",
      "51150\n",
      "51052\n",
      "50999\n",
      "51041\n",
      "51147\n",
      "51131\n",
      "51003\n",
      "51035\n",
      "51072\n",
      "50974\n",
      "50960\n",
      "51112\n",
      "51096\n",
      "51123\n",
      "50990\n",
      "51154\n",
      "51099\n",
      "51008\n",
      "51076\n",
      "50961\n"
     ]
    }
   ],
   "source": [
    "sites = set()\n",
    "g_set = set()\n",
    "for s in subjects:\n",
    "    if(s._site_id == 'NYU'):\n",
    "        print(s._sub_id)\n",
    "        g_set.add(s._sub_id)"
   ]
  },
  {
   "cell_type": "code",
   "execution_count": 49,
   "metadata": {},
   "outputs": [
    {
     "data": {
      "text/plain": [
       "True"
      ]
     },
     "execution_count": 49,
     "metadata": {},
     "output_type": "execute_result"
    }
   ],
   "source": [
    "50961 in g_set"
   ]
  },
  {
   "cell_type": "code",
   "execution_count": 9,
   "metadata": {},
   "outputs": [
    {
     "name": "stdout",
     "output_type": "stream",
     "text": [
      "h\n",
      "h\n",
      "h\n",
      "h\n",
      "h\n",
      "h\n",
      "h\n",
      "h\n",
      "h\n",
      "h\n"
     ]
    }
   ],
   "source": [
    "for s in subjects:\n",
    "    if s._sub_id in cpac_sub_roi_d:\n",
    "        s._data_dict['cpac_filt_noglobal_t'] = cpac_sub_roi_d[s._sub_id]"
   ]
  },
  {
   "cell_type": "code",
   "execution_count": 19,
   "metadata": {},
   "outputs": [],
   "source": [
    "# Save subjects\n",
    "save_dir = os.path.dirname(cur_dir) + '/data/ABIDEI_subjects/'\n",
    "for subject in subjects:\n",
    "    subject._save_subject(save_dir)"
   ]
  },
  {
   "cell_type": "code",
   "execution_count": 19,
   "metadata": {},
   "outputs": [],
   "source": [
    "s = subjects_d[50653]"
   ]
  },
  {
   "cell_type": "markdown",
   "metadata": {},
   "source": [
    "# Site TRs can be found on abide website or \n",
    "* https://www.researchgate.net/figure/SCANNING-PARAMETERS-OF-DIFFERENT-SITES-OF-ABIDE-1_tbl1_335722272"
   ]
  },
  {
   "cell_type": "code",
   "execution_count": 23,
   "metadata": {},
   "outputs": [],
   "source": [
    "site_trs = {'CALTECH': 2, 'CMU': 2, 'KKI': '2.5', 'LEUVEN_1': 1.656, 'LEUVEN_2': 1.656, 'MAX_MUN': 3,\n",
    "           'NYU': 2, 'OHSU': 2.5, 'OLIN': 2.5, 'PITT': 1.5, 'SBL': 2.2, 'SDSU': 2, 'STANFORD': 2, \n",
    "           'TRINITY': 2, 'UCLA_1': 3, 'UCLA_2': 3, 'UM_1': 2, 'UM_2': 2, 'USM': 2, 'YALE': 2}\n"
   ]
  },
  {
   "cell_type": "code",
   "execution_count": 24,
   "metadata": {},
   "outputs": [],
   "source": [
    "import json\n",
    "\n",
    "trs_save_file = save_dir = os.path.dirname(cur_dir) + '/data/dicts/ABIDEI_site_trs.json'\n",
    "with open(trs_save_file, 'w') as fp:\n",
    "    json.dump(site_trs, fp)"
   ]
  },
  {
   "cell_type": "code",
   "execution_count": null,
   "metadata": {},
   "outputs": [],
   "source": []
  }
 ],
 "metadata": {
  "kernelspec": {
   "display_name": "Python 3",
   "language": "python",
   "name": "python3"
  },
  "language_info": {
   "codemirror_mode": {
    "name": "ipython",
    "version": 3
   },
   "file_extension": ".py",
   "mimetype": "text/x-python",
   "name": "python",
   "nbconvert_exporter": "python",
   "pygments_lexer": "ipython3",
   "version": "3.9.1"
  }
 },
 "nbformat": 4,
 "nbformat_minor": 2
}
