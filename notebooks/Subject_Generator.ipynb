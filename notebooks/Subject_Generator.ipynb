{
 "cells": [
  {
   "cell_type": "markdown",
   "metadata": {},
   "source": [
    "# Notebook for creating and saving Subject objects from datasets"
   ]
  },
  {
   "cell_type": "code",
   "execution_count": 27,
   "metadata": {},
   "outputs": [
    {
     "name": "stdout",
     "output_type": "stream",
     "text": [
      "The autoreload extension is already loaded. To reload it, use:\n",
      "  %reload_ext autoreload\n"
     ]
    },
    {
     "data": {
      "text/plain": [
       "True"
      ]
     },
     "execution_count": 27,
     "metadata": {},
     "output_type": "execute_result"
    }
   ],
   "source": [
    "%load_ext autoreload\n",
    "%autoreload 2\n",
    "\n",
    "import os\n",
    "import numpy as np\n",
    "import pandas as pd\n",
    "import matplotlib.pyplot as plt\n",
    "\n",
    "from subprocess import call\n",
    "\n",
    "import sys\n",
    "sys.path.append('../src/features')\n",
    "\n",
    "from subject import Subject\n",
    "\n",
    "cur_dir = os.getcwd()\n",
    "asd_diag_dir = os.path.dirname(cur_dir)\n",
    "abide_dir = os.path.dirname(asd_diag_dir) + '/abide/'\n",
    "roi_200_dir = abide_dir + '/data/ABIDEI_preprocessed/Outputs/cpac/filt_noglobal/rois_cc200/'\n",
    "os.path.exists(roi_200_dir)"
   ]
  },
  {
   "cell_type": "markdown",
   "metadata": {},
   "source": [
    "## Subjects from ABIDE I preprocessed"
   ]
  },
  {
   "cell_type": "code",
   "execution_count": 28,
   "metadata": {},
   "outputs": [],
   "source": [
    "phen_file = abide_dir + 'Phenotypic_V1_0b_preprocessed1.csv'\n",
    "phen_df = pd.read_csv(phen_file)"
   ]
  },
  {
   "cell_type": "code",
   "execution_count": 36,
   "metadata": {},
   "outputs": [],
   "source": [
    "subjects = list()\n",
    "for index, row in phen_df.iterrows():\n",
    "    data = list()\n",
    "    file = row['FILE_ID'] + '_rois_cc200.1D'\n",
    "    if(file in os.listdir(roi_200_dir)):\n",
    "        with open(str(os.path.join(roi_200_dir, file)), newline='') as f:\n",
    "            Lines = f.readlines()\n",
    "            for l in Lines[1:]:\n",
    "                ts = np.empty((200,))\n",
    "                for n, i in enumerate(l.split(\"\\t\")):\n",
    "                    ts[n] = i\n",
    "                data.append(ts)       \n",
    "        data_dict = {'filt_noglobal_roi_200_Cradd' : np.array(data)}\n",
    "        label_dict = {'dx_group': row['DX_GROUP']}\n",
    "        s = Subject(row['SUB_ID'], row['SITE_ID'], row['SEX'], row['AGE_AT_SCAN'], data_dict, label_dict)\n",
    "        subjects.append(s)\n",
    "assert len(subjects) == len(os.listdir(roi_200_dir))"
   ]
  },
  {
   "cell_type": "markdown",
   "metadata": {},
   "source": [
    "# Add CPAC preprocessed data"
   ]
  },
  {
   "cell_type": "code",
   "execution_count": 37,
   "metadata": {},
   "outputs": [],
   "source": [
    "data_dir = asd_diag_dir + '/data/'\n",
    "cpac_output_dir = data_dir + 'cpac_output/output/pipeline_abide_cpac_run_freq-filter_nuisance/'"
   ]
  },
  {
   "cell_type": "code",
   "execution_count": 38,
   "metadata": {},
   "outputs": [
    {
     "name": "stdout",
     "output_type": "stream",
     "text": [
      "Couldn't get rois for /home/cparish/Capstone/asd_diagnosis_fmri/data/cpac_output/output/pipeline_abide_cpac_run_freq-filter_nuisance/sub-0051459_ses-1\n",
      "Couldn't get rois for /home/cparish/Capstone/asd_diagnosis_fmri/data/cpac_output/output/pipeline_abide_cpac_run_freq-filter_nuisance/sub-0051469_ses-1\n",
      "Couldn't get rois for /home/cparish/Capstone/asd_diagnosis_fmri/data/cpac_output/output/pipeline_abide_cpac_run_freq-filter_nuisance/sub-0051472_ses-1\n"
     ]
    }
   ],
   "source": [
    "# for filter no global\n",
    "filt_noglobal = 'roi_timeseries/_scan_rest_run-1/_selector_CSF-2mmE-M_aC-CSF+WM-2mm-DPC5_M-SDB_P-2_BP-B0.01-T0.1/_mask_CC200_mask_file_..cpac_templates..CC200.nii.gz'\n",
    "def get_roi(sub_folder):\n",
    "    roi_folder = os.path.join(sub_folder,filt_noglobal)\n",
    "    if os.path.exists(os.path.join(roi_folder, 'roi_stats.npz')):\n",
    "        call(['unzip', os.path.join(roi_folder, 'roi_stats.npz'), '-d', roi_folder])\n",
    "        # first row is nans and skip first 5\n",
    "        roi = np.load(os.path.join(roi_folder, 'arr_0.npy'), allow_pickle=True)[5:] \n",
    "    else:\n",
    "        print(f\"Couldn't get rois for {sub_folder}\")\n",
    "        roi = None\n",
    "    return roi\n",
    "\n",
    "cpac_sub_roi_d = {}\n",
    "for sub_f in os.listdir(cpac_output_dir):\n",
    "    sub_id = int(sub_f.split('-')[1].split('_')[0])\n",
    "    sub_folder = os.path.join(cpac_output_dir, sub_f)\n",
    "    roi = get_roi(sub_folder)\n",
    "    if roi is not None:\n",
    "        cpac_sub_roi_d[sub_id] = get_roi(sub_folder)"
   ]
  },
  {
   "cell_type": "code",
   "execution_count": 39,
   "metadata": {},
   "outputs": [],
   "source": [
    "for s in subjects:\n",
    "    if s._sub_id in cpac_sub_roi_d:\n",
    "        s._data_dict['cpac_filt_noglobal'] = cpac_sub_roi_d[s._sub_id]"
   ]
  },
  {
   "cell_type": "code",
   "execution_count": 40,
   "metadata": {},
   "outputs": [],
   "source": [
    "# Save subjects\n",
    "save_dir = os.path.dirname(cur_dir) + '/data/ABIDEI_subjects/'\n",
    "for subject in subjects:\n",
    "    subject._save_subject(save_dir)"
   ]
  },
  {
   "cell_type": "markdown",
   "metadata": {},
   "source": [
    "# Site TRs can be found on abide website or \n",
    "* https://www.researchgate.net/figure/SCANNING-PARAMETERS-OF-DIFFERENT-SITES-OF-ABIDE-1_tbl1_335722272"
   ]
  },
  {
   "cell_type": "code",
   "execution_count": 23,
   "metadata": {},
   "outputs": [],
   "source": [
    "site_trs = {'CALTECH': 2, 'CMU': 2, 'KKI': '2.5', 'LEUVEN_1': 1.656, 'LEUVEN_2': 1.656, 'MAX_MUN': 3,\n",
    "           'NYU': 2, 'OHSU': 2.5, 'OLIN': 2.5, 'PITT': 1.5, 'SBL': 2.2, 'SDSU': 2, 'STANFORD': 2, \n",
    "           'TRINITY': 2, 'UCLA_1': 3, 'UCLA_2': 3, 'UM_1': 2, 'UM_2': 2, 'USM': 2, 'YALE': 2}\n"
   ]
  },
  {
   "cell_type": "code",
   "execution_count": 24,
   "metadata": {},
   "outputs": [],
   "source": [
    "import json\n",
    "\n",
    "trs_save_file = save_dir = os.path.dirname(cur_dir) + '/data/dicts/ABIDEI_site_trs.json'\n",
    "with open(trs_save_file, 'w') as fp:\n",
    "    json.dump(site_trs, fp)"
   ]
  },
  {
   "cell_type": "code",
   "execution_count": null,
   "metadata": {},
   "outputs": [],
   "source": []
  }
 ],
 "metadata": {
  "kernelspec": {
   "display_name": "Python 3",
   "language": "python",
   "name": "python3"
  },
  "language_info": {
   "codemirror_mode": {
    "name": "ipython",
    "version": 3
   },
   "file_extension": ".py",
   "mimetype": "text/x-python",
   "name": "python",
   "nbconvert_exporter": "python",
   "pygments_lexer": "ipython3",
   "version": "3.9.1"
  }
 },
 "nbformat": 4,
 "nbformat_minor": 2
}
