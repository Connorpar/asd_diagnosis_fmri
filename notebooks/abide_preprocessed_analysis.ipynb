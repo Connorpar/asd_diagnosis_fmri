{
 "cells": [
  {
   "cell_type": "markdown",
   "metadata": {},
   "source": [
    "# Notebook for exploring different types of data in ABIDE preprocessed"
   ]
  },
  {
   "cell_type": "code",
   "execution_count": 13,
   "metadata": {},
   "outputs": [
    {
     "data": {
      "text/plain": [
       "False"
      ]
     },
     "execution_count": 13,
     "metadata": {},
     "output_type": "execute_result"
    }
   ],
   "source": [
    "import os\n",
    "import pickle\n",
    "import numpy as np\n",
    "import pandas as pd\n",
    "import matplotlib.pyplot as plt\n",
    "\n",
    "import sys\n",
    "sys.path.append('../src/features')\n",
    "\n",
    "from subject import Subject\n",
    "\n",
    "cur_dir = os.getcwd()\n",
    "abide_dir = os.path.dirname(os.path.dirname(cur_dir)) + '/abide/'\n",
    "roi_200_dir = abide_dir + 'o_test_func_mean_ccs_nofilt_noglobal/Outputs/cpac/nofilt_noglobal/rois_cc200/'\n",
    "os.path.exists(roi_200_dir)"
   ]
  },
  {
   "cell_type": "markdown",
   "metadata": {},
   "source": [
    "# Analysis on Phenotypes of Patients"
   ]
  },
  {
   "cell_type": "code",
   "execution_count": 2,
   "metadata": {},
   "outputs": [
    {
     "name": "stdout",
     "output_type": "stream",
     "text": [
      "Unnamed: 0\n",
      "Unnamed: 0.1\n",
      "SUB_ID\n",
      "X\n",
      "subject\n",
      "SITE_ID\n",
      "FILE_ID\n",
      "DX_GROUP\n",
      "DSM_IV_TR\n",
      "AGE_AT_SCAN\n",
      "SEX\n",
      "HANDEDNESS_CATEGORY\n",
      "HANDEDNESS_SCORES\n",
      "FIQ\n",
      "VIQ\n",
      "PIQ\n",
      "FIQ_TEST_TYPE\n",
      "VIQ_TEST_TYPE\n",
      "PIQ_TEST_TYPE\n",
      "ADI_R_SOCIAL_TOTAL_A\n",
      "ADI_R_VERBAL_TOTAL_BV\n",
      "ADI_RRB_TOTAL_C\n",
      "ADI_R_ONSET_TOTAL_D\n",
      "ADI_R_RSRCH_RELIABLE\n",
      "ADOS_MODULE\n",
      "ADOS_TOTAL\n",
      "ADOS_COMM\n",
      "ADOS_SOCIAL\n",
      "ADOS_STEREO_BEHAV\n",
      "ADOS_RSRCH_RELIABLE\n",
      "ADOS_GOTHAM_SOCAFFECT\n",
      "ADOS_GOTHAM_RRB\n",
      "ADOS_GOTHAM_TOTAL\n",
      "ADOS_GOTHAM_SEVERITY\n",
      "SRS_VERSION\n",
      "SRS_RAW_TOTAL\n",
      "SRS_AWARENESS\n",
      "SRS_COGNITION\n",
      "SRS_COMMUNICATION\n",
      "SRS_MOTIVATION\n",
      "SRS_MANNERISMS\n",
      "SCQ_TOTAL\n",
      "AQ_TOTAL\n",
      "COMORBIDITY\n",
      "CURRENT_MED_STATUS\n",
      "MEDICATION_NAME\n",
      "OFF_STIMULANTS_AT_SCAN\n",
      "VINELAND_RECEPTIVE_V_SCALED\n",
      "VINELAND_EXPRESSIVE_V_SCALED\n",
      "VINELAND_WRITTEN_V_SCALED\n",
      "VINELAND_COMMUNICATION_STANDARD\n",
      "VINELAND_PERSONAL_V_SCALED\n",
      "VINELAND_DOMESTIC_V_SCALED\n",
      "VINELAND_COMMUNITY_V_SCALED\n",
      "VINELAND_DAILYLVNG_STANDARD\n",
      "VINELAND_INTERPERSONAL_V_SCALED\n",
      "VINELAND_PLAY_V_SCALED\n",
      "VINELAND_COPING_V_SCALED\n",
      "VINELAND_SOCIAL_STANDARD\n",
      "VINELAND_SUM_SCORES\n",
      "VINELAND_ABC_STANDARD\n",
      "VINELAND_INFORMANT\n",
      "WISC_IV_VCI\n",
      "WISC_IV_PRI\n",
      "WISC_IV_WMI\n",
      "WISC_IV_PSI\n",
      "WISC_IV_SIM_SCALED\n",
      "WISC_IV_VOCAB_SCALED\n",
      "WISC_IV_INFO_SCALED\n",
      "WISC_IV_BLK_DSN_SCALED\n",
      "WISC_IV_PIC_CON_SCALED\n",
      "WISC_IV_MATRIX_SCALED\n",
      "WISC_IV_DIGIT_SPAN_SCALED\n",
      "WISC_IV_LET_NUM_SCALED\n",
      "WISC_IV_CODING_SCALED\n",
      "WISC_IV_SYM_SCALED\n",
      "EYE_STATUS_AT_SCAN\n",
      "AGE_AT_MPRAGE\n",
      "BMI\n",
      "anat_cnr\n",
      "anat_efc\n",
      "anat_fber\n",
      "anat_fwhm\n",
      "anat_qi1\n",
      "anat_snr\n",
      "func_efc\n",
      "func_fber\n",
      "func_fwhm\n",
      "func_dvars\n",
      "func_outlier\n",
      "func_quality\n",
      "func_mean_fd\n",
      "func_num_fd\n",
      "func_perc_fd\n",
      "func_gsr\n",
      "qc_rater_1\n",
      "qc_notes_rater_1\n",
      "qc_anat_rater_2\n",
      "qc_anat_notes_rater_2\n",
      "qc_func_rater_2\n",
      "qc_func_notes_rater_2\n",
      "qc_anat_rater_3\n",
      "qc_anat_notes_rater_3\n",
      "qc_func_rater_3\n",
      "qc_func_notes_rater_3\n",
      "SUB_IN_SMP\n"
     ]
    }
   ],
   "source": [
    "phen_file = abide_dir + 'Phenotypic_V1_0b_preprocessed1.csv'\n",
    "phen_df = pd.read_csv(phen_file)\n",
    "for c in phen_df.columns:\n",
    "    print(c)"
   ]
  },
  {
   "cell_type": "code",
   "execution_count": 9,
   "metadata": {},
   "outputs": [
    {
     "name": "stdout",
     "output_type": "stream",
     "text": [
      "20\n",
      "YALE 0\n",
      "UCLA_1 1\n",
      "MAX_MUN 2\n",
      "TRINITY 3\n",
      "OHSU 4\n",
      "UCLA_2 5\n",
      "CALTECH 6\n",
      "UM_2 7\n",
      "CMU 8\n",
      "OLIN 9\n",
      "LEUVEN_1 10\n",
      "UM_1 11\n",
      "KKI 12\n",
      "LEUVEN_2 13\n",
      "NYU 14\n",
      "STANFORD 15\n",
      "USM 16\n",
      "PITT 17\n",
      "SBL 18\n",
      "SDSU 19\n"
     ]
    }
   ],
   "source": [
    "sites_s = set(phen_df['SITE_ID'])\n",
    "sites_d = {}\n",
    "print(len(sites_s))\n",
    "for i, s in enumerate(sites_s):\n",
    "    print(s, i)\n",
    "    sites_d[s] = i"
   ]
  },
  {
   "cell_type": "code",
   "execution_count": 4,
   "metadata": {},
   "outputs": [
    {
     "name": "stdout",
     "output_type": "stream",
     "text": [
      "948\n",
      "164\n"
     ]
    }
   ],
   "source": [
    "# Look at Gender distribution\n",
    "genders = list(phen_df['SEX'])\n",
    "print(genders.count(1))\n",
    "print(genders.count(2))"
   ]
  },
  {
   "cell_type": "code",
   "execution_count": 7,
   "metadata": {},
   "outputs": [
    {
     "data": {
      "image/png": "[encoded data removed]",
      "text/plain": [
       "<Figure size 432x288 with 1 Axes>"
      ]
     },
     "metadata": {
      "needs_background": "light"
     },
     "output_type": "display_data"
    }
   ],
   "source": [
    "# Look at Age at scanning\n",
    "ages = list(phen_df['AGE_AT_SCAN'])\n",
    "plt.title('ABIDE I Histogram of Age at Scan')\n",
    "plt.xlabel('Age')\n",
    "plt.ylabel('Number of Patients')\n",
    "plt.hist(ages)\n",
    "plt.savefig('./../imgs/age_at_scan_hist.png')"
   ]
  },
  {
   "cell_type": "code",
   "execution_count": 10,
   "metadata": {},
   "outputs": [
    {
     "name": "stdout",
     "output_type": "stream",
     "text": [
      "1112\n",
      "539\n",
      "573\n"
     ]
    },
    {
     "data": {
      "text/plain": [
       "(array([539.,   0.,   0.,   0.,   0.,   0.,   0.,   0.,   0., 573.]),\n",
       " array([1. , 1.1, 1.2, 1.3, 1.4, 1.5, 1.6, 1.7, 1.8, 1.9, 2. ]),\n",
       " <a list of 10 Patch objects>)"
      ]
     },
     "execution_count": 10,
     "metadata": {},
     "output_type": "execute_result"
    },
    {
     "data": {
      "image/png": "[encoded data removed]",
      "text/plain": [
       "<Figure size 432x288 with 1 Axes>"
      ]
     },
     "metadata": {
      "needs_background": "light"
     },
     "output_type": "display_data"
    }
   ],
   "source": [
    "diags = list(phen_df['DX_GROUP'])\n",
    "print(len(diags))\n",
    "print(diags.count(1))\n",
    "print(diags.count(2))\n",
    "plt.hist(diags)"
   ]
  },
  {
   "cell_type": "code",
   "execution_count": 27,
   "metadata": {},
   "outputs": [
    {
     "data": {
      "image/png": "[encoded data removed]",
      "text/plain": [
       "<Figure size 432x288 with 1 Axes>"
      ]
     },
     "metadata": {
      "needs_background": "light"
     },
     "output_type": "display_data"
    }
   ],
   "source": [
    "# Patients per study\n",
    "sites = list(phen_df['SITE_ID'])\n",
    "sites_l = list()\n",
    "for s in sites:\n",
    "    sites_l.append(sites_d[s])\n",
    "plt.title('ABDIE I Histogram of Patients per Study')\n",
    "plt.xlabel('Study')\n",
    "plt.ylabel('Number of Patients')\n",
    "plt.hist(sites_l, bins = range(0,len(sites_d)))\n",
    "plt.savefig('./../imgs/study_hist.png')"
   ]
  },
  {
   "cell_type": "code",
   "execution_count": 37,
   "metadata": {},
   "outputs": [],
   "source": [
    "# Look at distribution of FIQ in dataset by diags\n",
    "fiq_c = list()\n",
    "fiq_a = list()\n",
    "for index, row in phen_df.iterrows():\n",
    "    if(row['DX_GROUP'] == 1):\n",
    "        fiq_a.append(row['FIQ'])\n",
    "    else:\n",
    "        fiq_c.append(row['FIQ'])\n",
    "fiq_a = [fiq for fiq in fiq_a if fiq > 0]\n",
    "fiq_c = [fiq for fiq in fiq_c if fiq > 0]"
   ]
  },
  {
   "cell_type": "code",
   "execution_count": 40,
   "metadata": {},
   "outputs": [
    {
     "data": {
      "image/png": "[encoded data removed]",
      "text/plain": [
       "<Figure size 432x288 with 1 Axes>"
      ]
     },
     "metadata": {
      "needs_background": "light"
     },
     "output_type": "display_data"
    }
   ],
   "source": [
    "# hist of fiq for ASD patients\n",
    "plt.title(\"ABIDE I Histogram of FIQ for ASD Diagnosed Patients\")\n",
    "plt.xlabel(\"FIQ\")\n",
    "plt.ylabel(\"Number of Patients\")\n",
    "plt.hist(fiq_a)\n",
    "plt.savefig('./../imgs/fiq_hist_asd.png')"
   ]
  },
  {
   "cell_type": "code",
   "execution_count": 41,
   "metadata": {},
   "outputs": [
    {
     "data": {
      "image/png": "[encoded data removed]",
      "text/plain": [
       "<Figure size 432x288 with 1 Axes>"
      ]
     },
     "metadata": {
      "needs_background": "light"
     },
     "output_type": "display_data"
    }
   ],
   "source": [
    "# hist of fiq for Control patients\n",
    "plt.title(\"ABIDE I Histogram of FIQ for Control Diagnosed Patients\")\n",
    "plt.xlabel(\"FIQ\")\n",
    "plt.ylabel(\"Number of Patients\")\n",
    "plt.hist(fiq_c)\n",
    "plt.savefig('./../imgs/fiq_hist_control.png')"
   ]
  },
  {
   "cell_type": "code",
   "execution_count": 49,
   "metadata": {},
   "outputs": [
    {
     "name": "stdout",
     "output_type": "stream",
     "text": [
      " dextroamphetamine and amphetamine 0\n",
      "Methylphenidate Extended Release 1\n",
      " 2\n",
      "Methylphanidate 3\n",
      "Allegra 4\n",
      " Citaopram 5\n",
      " Amphetamine and dextroamphetamine 6\n",
      " Bupropion 7\n",
      "Ziprasidone 8\n",
      "Guanfacine Extended Release 9\n",
      " Clonidine 10\n",
      " Dexedrine 11\n",
      "Paroxetine 12\n",
      "Methylphenidate transdermal patch 13\n",
      "Fluoxetine 14\n",
      "CoQ10  15\n",
      " Lithium 16\n",
      " Trazodone 17\n",
      "Antidepressant 18\n",
      " Methylphenidate 19\n",
      "Sertraline 20\n",
      " Valproic Acid 21\n",
      "Atomoxetine hydrochloride 22\n",
      " Citalopram 23\n",
      "Methylphenidate extended release 24\n",
      " Merthylphenidate Extended Release 25\n",
      "Eszopiclone 26\n",
      " Bupropion Extended Release 27\n",
      "Benperidol 28\n",
      " Dexmethylphenidate 29\n",
      " Oxcarbazepine 30\n",
      "Pantoprazole 31\n",
      " Methylphenidated Extended release 32\n",
      "0 33\n",
      "Levothyroxine 34\n",
      " Methylphenydate 35\n",
      " Risperidone 36\n",
      "Mirtazapine 37\n",
      "Citolopram 38\n",
      " Zinc 39\n",
      "Merthylphenidate Extended Release 40\n",
      "Bupropion 41\n",
      "Lisdexamfetamine 42\n",
      " Paliperidone 43\n",
      " Ziprasidone 44\n",
      " Lithium Carbonate 45\n",
      " Sertraline 46\n",
      " Peroxatine 47\n",
      " altrex 48\n",
      " Trazadone 49\n",
      "Dextroamphetamine and amphetamine 50\n",
      " Dextroamphetamine and Amphetamine 51\n",
      "Valproic Acid 52\n",
      "Valproic acid 53\n",
      "Escitalopram 54\n",
      " Buspirone 55\n",
      " Methylphenidate transdermal patch 56\n",
      " Lorazepam 57\n",
      " methlphenidate Extended Release 58\n",
      "Concerta 59\n",
      " Mirtazapine 60\n",
      " Strattera 61\n",
      "Oxcarbazepine 62\n",
      " Metadate 63\n",
      "Methylphenidate Transdermal 64\n",
      "Atomoxetine 65\n",
      " Lisinopril 66\n",
      "Guanfacine 67\n",
      "Dextramphetamine and Amphetamine 68\n",
      "  Bupropion 69\n",
      " Quetiapine 70\n",
      " Venlafaxine 71\n",
      " Guanfacine 72\n",
      "Amphetamine and Dextroamphetamine Extended Release 73\n",
      "Amphetamine andDdextroamphetamine 74\n",
      "Aripiprazole 75\n",
      " Guanfacine Extended Release 76\n",
      "Citalopram 77\n",
      " Topiramato 78\n",
      " Synthroid 79\n",
      "Zolpidem 80\n",
      " Lisdexamfetamine 81\n",
      "Dexmethylphenidate 82\n",
      "Risperdone 83\n",
      " Melatonin 84\n",
      "Fluoxetine Hcl 85\n",
      " Escitalopram 86\n",
      " melatonin 87\n",
      " Atomoxetine 88\n",
      "Risperidone 89\n",
      "Tenex 90\n",
      "Methylphenidate 91\n",
      "Dextroamphetamine and Amphetamine 92\n",
      "Amphetamine and Dextroamphetamine 93\n",
      "Clonidine 94\n",
      " Asenapine  95\n",
      " Duloxetine 96\n",
      " Aripiprazole 97\n",
      " Methylphenidate Extended Release 98\n",
      " Buproprion 99\n",
      " Fluoxetine 100\n",
      "Lamotrigine 101\n"
     ]
    }
   ],
   "source": [
    "# Look at the drugs the patients are on\n",
    "drugs = list(phen_df['MEDICATION_NAME'])\n",
    "drugs_l = list()\n",
    "num_drugs = list()\n",
    "drugs_s = set()\n",
    "for d in drugs:\n",
    "    if(type(d) == str):\n",
    "        d_s = d.split(';')\n",
    "        drugs_l.append(d_s)\n",
    "        num_drugs.append(len(d_s))\n",
    "        for m in d_s:\n",
    "            drugs_s.add(m)\n",
    "drugs_d = {}\n",
    "for i, d in enumerate(drugs_s):\n",
    "    drugs_d[d] = i\n",
    "    print(d, i)\n",
    "    \n",
    "drugs_c = list()\n",
    "for d in drugs_l:\n",
    "    for m in d:\n",
    "        drugs_c.append(drugs_d[m])"
   ]
  },
  {
   "cell_type": "code",
   "execution_count": 51,
   "metadata": {},
   "outputs": [
    {
     "data": {
      "image/png": "[encoded data removed]",
      "text/plain": [
       "<Figure size 432x288 with 1 Axes>"
      ]
     },
     "metadata": {
      "needs_background": "light"
     },
     "output_type": "display_data"
    }
   ],
   "source": [
    "# histogram of number of drugs each patients is on\n",
    "plt.title('ABIDE I Number of Medications per Patient')\n",
    "plt.xlabel('Number of Medications')\n",
    "plt.ylabel('Number of Patients')\n",
    "plt.hist(num_drugs)\n",
    "plt.savefig('./../imgs/hist_num_medications.png')"
   ]
  },
  {
   "cell_type": "code",
   "execution_count": 55,
   "metadata": {},
   "outputs": [
    {
     "data": {
      "image/png": "[encoded data removed]",
      "text/plain": [
       "<Figure size 432x288 with 1 Axes>"
      ]
     },
     "metadata": {
      "needs_background": "light"
     },
     "output_type": "display_data"
    }
   ],
   "source": [
    "# Histogram of Number of appearances of each medication\n",
    "plt.title('ABIDE I Number of Patients per Medication')\n",
    "plt.xlabel('Drug ID')\n",
    "plt.ylabel('Number of Patients')\n",
    "plt.hist(drugs_c)\n",
    "plt.savefig('./../imgs/hist_num_per_medication.png')"
   ]
  },
  {
   "cell_type": "code",
   "execution_count": 12,
   "metadata": {},
   "outputs": [],
   "source": [
    "roi_files = os.listdir(roi_200_dir)\n",
    "sub_roi_d = {}\n",
    "time_steps = list()\n",
    "vals = list()\n",
    "for file in roi_files:\n",
    "    data = list()\n",
    "    with open(str(os.path.join(roi_200_dir, file)), newline='') as f:\n",
    "        Lines = f.readlines()\n",
    "        for l in Lines[1:]:\n",
    "            ts = np.empty((200,))\n",
    "            for n, i in enumerate(l.split(\"\\t\")):\n",
    "                ts[n] = i\n",
    "                vals.append(i)\n",
    "            data.append(ts)\n",
    "    subj_id = file.split(\"_\")[-3][2:]\n",
    "    if(subj_id in sub_roi_d):\n",
    "        print(file)\n",
    "    sub_roi_d[subj_id] = data\n",
    "    time_steps.append(len(data))"
   ]
  },
  {
   "cell_type": "code",
   "execution_count": 13,
   "metadata": {},
   "outputs": [
    {
     "data": {
      "text/plain": [
       "33981000"
      ]
     },
     "execution_count": 13,
     "metadata": {},
     "output_type": "execute_result"
    }
   ],
   "source": [
    "len(vals)"
   ]
  },
  {
   "cell_type": "code",
   "execution_count": null,
   "metadata": {},
   "outputs": [
    {
     "data": {
      "text/plain": [
       "(array([1381439., 1268568., 1247378., 1227205., 1222242., 1243023.,\n",
       "        1209231., 1194365., 1185655., 1185113., 1165433., 1161659.,\n",
       "        1165949., 1153888., 1147482., 1132184., 1120024., 1093192.,\n",
       "        1094256., 1096570., 1077823., 1050394., 1048854., 1041323.,\n",
       "        1030877., 1022389., 1016165., 1008065., 1000037.,  990217.]),\n",
       " array([       0.        ,   983028.76666667,  1966057.53333333,\n",
       "         2949086.3       ,  3932115.06666667,  4915143.83333333,\n",
       "         5898172.6       ,  6881201.36666667,  7864230.13333333,\n",
       "         8847258.9       ,  9830287.66666667, 10813316.43333333,\n",
       "        11796345.2       , 12779373.96666667, 13762402.73333333,\n",
       "        14745431.5       , 15728460.26666667, 16711489.03333334,\n",
       "        17694517.8       , 18677546.56666667, 19660575.33333334,\n",
       "        20643604.1       , 21626632.86666667, 22609661.63333333,\n",
       "        23592690.4       , 24575719.16666667, 25558747.93333333,\n",
       "        26541776.7       , 27524805.46666667, 28507834.23333333,\n",
       "        29490863.        ]),\n",
       " <a list of 30 Patch objects>)"
      ]
     },
     "execution_count": 14,
     "metadata": {},
     "output_type": "execute_result"
    },
    {
     "name": "stdout",
     "output_type": "stream",
     "text": [
      "Error in callback <function install_repl_displayhook.<locals>.post_execute at 0x000001D3AAA0AEA0> (for post_execute):\n"
     ]
    },
    {
     "ename": "KeyboardInterrupt",
     "evalue": "",
     "output_type": "error",
     "traceback": [
      "\u001b[1;31m---------------------------------------------------------------------------\u001b[0m",
      "\u001b[1;31mKeyboardInterrupt\u001b[0m                         Traceback (most recent call last)",
      "\u001b[1;32mc:\\users\\connor parish\\python3.6(64)\\lib\\site-packages\\matplotlib\\pyplot.py\u001b[0m in \u001b[0;36mpost_execute\u001b[1;34m()\u001b[0m\n\u001b[0;32m    107\u001b[0m             \u001b[1;32mdef\u001b[0m \u001b[0mpost_execute\u001b[0m\u001b[1;33m(\u001b[0m\u001b[1;33m)\u001b[0m\u001b[1;33m:\u001b[0m\u001b[1;33m\u001b[0m\u001b[0m\n\u001b[0;32m    108\u001b[0m                 \u001b[1;32mif\u001b[0m \u001b[0mmatplotlib\u001b[0m\u001b[1;33m.\u001b[0m\u001b[0mis_interactive\u001b[0m\u001b[1;33m(\u001b[0m\u001b[1;33m)\u001b[0m\u001b[1;33m:\u001b[0m\u001b[1;33m\u001b[0m\u001b[0m\n\u001b[1;32m--> 109\u001b[1;33m                     \u001b[0mdraw_all\u001b[0m\u001b[1;33m(\u001b[0m\u001b[1;33m)\u001b[0m\u001b[1;33m\u001b[0m\u001b[0m\n\u001b[0m\u001b[0;32m    110\u001b[0m \u001b[1;33m\u001b[0m\u001b[0m\n\u001b[0;32m    111\u001b[0m             \u001b[1;31m# IPython >= 2\u001b[0m\u001b[1;33m\u001b[0m\u001b[1;33m\u001b[0m\u001b[0m\n",
      "\u001b[1;32mc:\\users\\connor parish\\python3.6(64)\\lib\\site-packages\\matplotlib\\_pylab_helpers.py\u001b[0m in \u001b[0;36mdraw_all\u001b[1;34m(cls, force)\u001b[0m\n\u001b[0;32m    126\u001b[0m         \u001b[1;32mfor\u001b[0m \u001b[0mf_mgr\u001b[0m \u001b[1;32min\u001b[0m \u001b[0mcls\u001b[0m\u001b[1;33m.\u001b[0m\u001b[0mget_all_fig_managers\u001b[0m\u001b[1;33m(\u001b[0m\u001b[1;33m)\u001b[0m\u001b[1;33m:\u001b[0m\u001b[1;33m\u001b[0m\u001b[0m\n\u001b[0;32m    127\u001b[0m             \u001b[1;32mif\u001b[0m \u001b[0mforce\u001b[0m \u001b[1;32mor\u001b[0m \u001b[0mf_mgr\u001b[0m\u001b[1;33m.\u001b[0m\u001b[0mcanvas\u001b[0m\u001b[1;33m.\u001b[0m\u001b[0mfigure\u001b[0m\u001b[1;33m.\u001b[0m\u001b[0mstale\u001b[0m\u001b[1;33m:\u001b[0m\u001b[1;33m\u001b[0m\u001b[0m\n\u001b[1;32m--> 128\u001b[1;33m                 \u001b[0mf_mgr\u001b[0m\u001b[1;33m.\u001b[0m\u001b[0mcanvas\u001b[0m\u001b[1;33m.\u001b[0m\u001b[0mdraw_idle\u001b[0m\u001b[1;33m(\u001b[0m\u001b[1;33m)\u001b[0m\u001b[1;33m\u001b[0m\u001b[0m\n\u001b[0m\u001b[0;32m    129\u001b[0m \u001b[1;33m\u001b[0m\u001b[0m\n\u001b[0;32m    130\u001b[0m \u001b[0matexit\u001b[0m\u001b[1;33m.\u001b[0m\u001b[0mregister\u001b[0m\u001b[1;33m(\u001b[0m\u001b[0mGcf\u001b[0m\u001b[1;33m.\u001b[0m\u001b[0mdestroy_all\u001b[0m\u001b[1;33m)\u001b[0m\u001b[1;33m\u001b[0m\u001b[0m\n",
      "\u001b[1;32mc:\\users\\connor parish\\python3.6(64)\\lib\\site-packages\\matplotlib\\backend_bases.py\u001b[0m in \u001b[0;36mdraw_idle\u001b[1;34m(self, *args, **kwargs)\u001b[0m\n\u001b[0;32m   1905\u001b[0m         \u001b[1;32mif\u001b[0m \u001b[1;32mnot\u001b[0m \u001b[0mself\u001b[0m\u001b[1;33m.\u001b[0m\u001b[0m_is_idle_drawing\u001b[0m\u001b[1;33m:\u001b[0m\u001b[1;33m\u001b[0m\u001b[0m\n\u001b[0;32m   1906\u001b[0m             \u001b[1;32mwith\u001b[0m \u001b[0mself\u001b[0m\u001b[1;33m.\u001b[0m\u001b[0m_idle_draw_cntx\u001b[0m\u001b[1;33m(\u001b[0m\u001b[1;33m)\u001b[0m\u001b[1;33m:\u001b[0m\u001b[1;33m\u001b[0m\u001b[0m\n\u001b[1;32m-> 1907\u001b[1;33m                 \u001b[0mself\u001b[0m\u001b[1;33m.\u001b[0m\u001b[0mdraw\u001b[0m\u001b[1;33m(\u001b[0m\u001b[1;33m*\u001b[0m\u001b[0margs\u001b[0m\u001b[1;33m,\u001b[0m \u001b[1;33m**\u001b[0m\u001b[0mkwargs\u001b[0m\u001b[1;33m)\u001b[0m\u001b[1;33m\u001b[0m\u001b[0m\n\u001b[0m\u001b[0;32m   1908\u001b[0m \u001b[1;33m\u001b[0m\u001b[0m\n\u001b[0;32m   1909\u001b[0m     \u001b[1;32mdef\u001b[0m \u001b[0mdraw_cursor\u001b[0m\u001b[1;33m(\u001b[0m\u001b[0mself\u001b[0m\u001b[1;33m,\u001b[0m \u001b[0mevent\u001b[0m\u001b[1;33m)\u001b[0m\u001b[1;33m:\u001b[0m\u001b[1;33m\u001b[0m\u001b[0m\n",
      "\u001b[1;32mc:\\users\\connor parish\\python3.6(64)\\lib\\site-packages\\matplotlib\\backends\\backend_agg.py\u001b[0m in \u001b[0;36mdraw\u001b[1;34m(self)\u001b[0m\n\u001b[0;32m    386\u001b[0m         \u001b[0mself\u001b[0m\u001b[1;33m.\u001b[0m\u001b[0mrenderer\u001b[0m \u001b[1;33m=\u001b[0m \u001b[0mself\u001b[0m\u001b[1;33m.\u001b[0m\u001b[0mget_renderer\u001b[0m\u001b[1;33m(\u001b[0m\u001b[0mcleared\u001b[0m\u001b[1;33m=\u001b[0m\u001b[1;32mTrue\u001b[0m\u001b[1;33m)\u001b[0m\u001b[1;33m\u001b[0m\u001b[0m\n\u001b[0;32m    387\u001b[0m         \u001b[1;32mwith\u001b[0m \u001b[0mRendererAgg\u001b[0m\u001b[1;33m.\u001b[0m\u001b[0mlock\u001b[0m\u001b[1;33m:\u001b[0m\u001b[1;33m\u001b[0m\u001b[0m\n\u001b[1;32m--> 388\u001b[1;33m             \u001b[0mself\u001b[0m\u001b[1;33m.\u001b[0m\u001b[0mfigure\u001b[0m\u001b[1;33m.\u001b[0m\u001b[0mdraw\u001b[0m\u001b[1;33m(\u001b[0m\u001b[0mself\u001b[0m\u001b[1;33m.\u001b[0m\u001b[0mrenderer\u001b[0m\u001b[1;33m)\u001b[0m\u001b[1;33m\u001b[0m\u001b[0m\n\u001b[0m\u001b[0;32m    389\u001b[0m             \u001b[1;31m# A GUI class may be need to update a window using this draw, so\u001b[0m\u001b[1;33m\u001b[0m\u001b[1;33m\u001b[0m\u001b[0m\n\u001b[0;32m    390\u001b[0m             \u001b[1;31m# don't forget to call the superclass.\u001b[0m\u001b[1;33m\u001b[0m\u001b[1;33m\u001b[0m\u001b[0m\n",
      "\u001b[1;32mc:\\users\\connor parish\\python3.6(64)\\lib\\site-packages\\matplotlib\\artist.py\u001b[0m in \u001b[0;36mdraw_wrapper\u001b[1;34m(artist, renderer, *args, **kwargs)\u001b[0m\n\u001b[0;32m     36\u001b[0m                 \u001b[0mrenderer\u001b[0m\u001b[1;33m.\u001b[0m\u001b[0mstart_filter\u001b[0m\u001b[1;33m(\u001b[0m\u001b[1;33m)\u001b[0m\u001b[1;33m\u001b[0m\u001b[0m\n\u001b[0;32m     37\u001b[0m \u001b[1;33m\u001b[0m\u001b[0m\n\u001b[1;32m---> 38\u001b[1;33m             \u001b[1;32mreturn\u001b[0m \u001b[0mdraw\u001b[0m\u001b[1;33m(\u001b[0m\u001b[0martist\u001b[0m\u001b[1;33m,\u001b[0m \u001b[0mrenderer\u001b[0m\u001b[1;33m,\u001b[0m \u001b[1;33m*\u001b[0m\u001b[0margs\u001b[0m\u001b[1;33m,\u001b[0m \u001b[1;33m**\u001b[0m\u001b[0mkwargs\u001b[0m\u001b[1;33m)\u001b[0m\u001b[1;33m\u001b[0m\u001b[0m\n\u001b[0m\u001b[0;32m     39\u001b[0m         \u001b[1;32mfinally\u001b[0m\u001b[1;33m:\u001b[0m\u001b[1;33m\u001b[0m\u001b[0m\n\u001b[0;32m     40\u001b[0m             \u001b[1;32mif\u001b[0m \u001b[0martist\u001b[0m\u001b[1;33m.\u001b[0m\u001b[0mget_agg_filter\u001b[0m\u001b[1;33m(\u001b[0m\u001b[1;33m)\u001b[0m \u001b[1;32mis\u001b[0m \u001b[1;32mnot\u001b[0m \u001b[1;32mNone\u001b[0m\u001b[1;33m:\u001b[0m\u001b[1;33m\u001b[0m\u001b[0m\n",
      "\u001b[1;32mc:\\users\\connor parish\\python3.6(64)\\lib\\site-packages\\matplotlib\\figure.py\u001b[0m in \u001b[0;36mdraw\u001b[1;34m(self, renderer)\u001b[0m\n\u001b[0;32m   1707\u001b[0m             \u001b[0mself\u001b[0m\u001b[1;33m.\u001b[0m\u001b[0mpatch\u001b[0m\u001b[1;33m.\u001b[0m\u001b[0mdraw\u001b[0m\u001b[1;33m(\u001b[0m\u001b[0mrenderer\u001b[0m\u001b[1;33m)\u001b[0m\u001b[1;33m\u001b[0m\u001b[0m\n\u001b[0;32m   1708\u001b[0m             mimage._draw_list_compositing_images(\n\u001b[1;32m-> 1709\u001b[1;33m                 renderer, self, artists, self.suppressComposite)\n\u001b[0m\u001b[0;32m   1710\u001b[0m \u001b[1;33m\u001b[0m\u001b[0m\n\u001b[0;32m   1711\u001b[0m             \u001b[0mrenderer\u001b[0m\u001b[1;33m.\u001b[0m\u001b[0mclose_group\u001b[0m\u001b[1;33m(\u001b[0m\u001b[1;34m'figure'\u001b[0m\u001b[1;33m)\u001b[0m\u001b[1;33m\u001b[0m\u001b[0m\n",
      "\u001b[1;32mc:\\users\\connor parish\\python3.6(64)\\lib\\site-packages\\matplotlib\\image.py\u001b[0m in \u001b[0;36m_draw_list_compositing_images\u001b[1;34m(renderer, parent, artists, suppress_composite)\u001b[0m\n\u001b[0;32m    133\u001b[0m     \u001b[1;32mif\u001b[0m \u001b[0mnot_composite\u001b[0m \u001b[1;32mor\u001b[0m \u001b[1;32mnot\u001b[0m \u001b[0mhas_images\u001b[0m\u001b[1;33m:\u001b[0m\u001b[1;33m\u001b[0m\u001b[0m\n\u001b[0;32m    134\u001b[0m         \u001b[1;32mfor\u001b[0m \u001b[0ma\u001b[0m \u001b[1;32min\u001b[0m \u001b[0martists\u001b[0m\u001b[1;33m:\u001b[0m\u001b[1;33m\u001b[0m\u001b[0m\n\u001b[1;32m--> 135\u001b[1;33m             \u001b[0ma\u001b[0m\u001b[1;33m.\u001b[0m\u001b[0mdraw\u001b[0m\u001b[1;33m(\u001b[0m\u001b[0mrenderer\u001b[0m\u001b[1;33m)\u001b[0m\u001b[1;33m\u001b[0m\u001b[0m\n\u001b[0m\u001b[0;32m    136\u001b[0m     \u001b[1;32melse\u001b[0m\u001b[1;33m:\u001b[0m\u001b[1;33m\u001b[0m\u001b[0m\n\u001b[0;32m    137\u001b[0m         \u001b[1;31m# Composite any adjacent images together\u001b[0m\u001b[1;33m\u001b[0m\u001b[1;33m\u001b[0m\u001b[0m\n",
      "\u001b[1;32mc:\\users\\connor parish\\python3.6(64)\\lib\\site-packages\\matplotlib\\artist.py\u001b[0m in \u001b[0;36mdraw_wrapper\u001b[1;34m(artist, renderer, *args, **kwargs)\u001b[0m\n\u001b[0;32m     36\u001b[0m                 \u001b[0mrenderer\u001b[0m\u001b[1;33m.\u001b[0m\u001b[0mstart_filter\u001b[0m\u001b[1;33m(\u001b[0m\u001b[1;33m)\u001b[0m\u001b[1;33m\u001b[0m\u001b[0m\n\u001b[0;32m     37\u001b[0m \u001b[1;33m\u001b[0m\u001b[0m\n\u001b[1;32m---> 38\u001b[1;33m             \u001b[1;32mreturn\u001b[0m \u001b[0mdraw\u001b[0m\u001b[1;33m(\u001b[0m\u001b[0martist\u001b[0m\u001b[1;33m,\u001b[0m \u001b[0mrenderer\u001b[0m\u001b[1;33m,\u001b[0m \u001b[1;33m*\u001b[0m\u001b[0margs\u001b[0m\u001b[1;33m,\u001b[0m \u001b[1;33m**\u001b[0m\u001b[0mkwargs\u001b[0m\u001b[1;33m)\u001b[0m\u001b[1;33m\u001b[0m\u001b[0m\n\u001b[0m\u001b[0;32m     39\u001b[0m         \u001b[1;32mfinally\u001b[0m\u001b[1;33m:\u001b[0m\u001b[1;33m\u001b[0m\u001b[0m\n\u001b[0;32m     40\u001b[0m             \u001b[1;32mif\u001b[0m \u001b[0martist\u001b[0m\u001b[1;33m.\u001b[0m\u001b[0mget_agg_filter\u001b[0m\u001b[1;33m(\u001b[0m\u001b[1;33m)\u001b[0m \u001b[1;32mis\u001b[0m \u001b[1;32mnot\u001b[0m \u001b[1;32mNone\u001b[0m\u001b[1;33m:\u001b[0m\u001b[1;33m\u001b[0m\u001b[0m\n",
      "\u001b[1;32mc:\\users\\connor parish\\python3.6(64)\\lib\\site-packages\\matplotlib\\axes\\_base.py\u001b[0m in \u001b[0;36mdraw\u001b[1;34m(self, renderer, inframe)\u001b[0m\n\u001b[0;32m   2645\u001b[0m             \u001b[0mrenderer\u001b[0m\u001b[1;33m.\u001b[0m\u001b[0mstop_rasterizing\u001b[0m\u001b[1;33m(\u001b[0m\u001b[1;33m)\u001b[0m\u001b[1;33m\u001b[0m\u001b[0m\n\u001b[0;32m   2646\u001b[0m \u001b[1;33m\u001b[0m\u001b[0m\n\u001b[1;32m-> 2647\u001b[1;33m         \u001b[0mmimage\u001b[0m\u001b[1;33m.\u001b[0m\u001b[0m_draw_list_compositing_images\u001b[0m\u001b[1;33m(\u001b[0m\u001b[0mrenderer\u001b[0m\u001b[1;33m,\u001b[0m \u001b[0mself\u001b[0m\u001b[1;33m,\u001b[0m \u001b[0martists\u001b[0m\u001b[1;33m)\u001b[0m\u001b[1;33m\u001b[0m\u001b[0m\n\u001b[0m\u001b[0;32m   2648\u001b[0m \u001b[1;33m\u001b[0m\u001b[0m\n\u001b[0;32m   2649\u001b[0m         \u001b[0mrenderer\u001b[0m\u001b[1;33m.\u001b[0m\u001b[0mclose_group\u001b[0m\u001b[1;33m(\u001b[0m\u001b[1;34m'axes'\u001b[0m\u001b[1;33m)\u001b[0m\u001b[1;33m\u001b[0m\u001b[0m\n",
      "\u001b[1;32mc:\\users\\connor parish\\python3.6(64)\\lib\\site-packages\\matplotlib\\image.py\u001b[0m in \u001b[0;36m_draw_list_compositing_images\u001b[1;34m(renderer, parent, artists, suppress_composite)\u001b[0m\n\u001b[0;32m    133\u001b[0m     \u001b[1;32mif\u001b[0m \u001b[0mnot_composite\u001b[0m \u001b[1;32mor\u001b[0m \u001b[1;32mnot\u001b[0m \u001b[0mhas_images\u001b[0m\u001b[1;33m:\u001b[0m\u001b[1;33m\u001b[0m\u001b[0m\n\u001b[0;32m    134\u001b[0m         \u001b[1;32mfor\u001b[0m \u001b[0ma\u001b[0m \u001b[1;32min\u001b[0m \u001b[0martists\u001b[0m\u001b[1;33m:\u001b[0m\u001b[1;33m\u001b[0m\u001b[0m\n\u001b[1;32m--> 135\u001b[1;33m             \u001b[0ma\u001b[0m\u001b[1;33m.\u001b[0m\u001b[0mdraw\u001b[0m\u001b[1;33m(\u001b[0m\u001b[0mrenderer\u001b[0m\u001b[1;33m)\u001b[0m\u001b[1;33m\u001b[0m\u001b[0m\n\u001b[0m\u001b[0;32m    136\u001b[0m     \u001b[1;32melse\u001b[0m\u001b[1;33m:\u001b[0m\u001b[1;33m\u001b[0m\u001b[0m\n\u001b[0;32m    137\u001b[0m         \u001b[1;31m# Composite any adjacent images together\u001b[0m\u001b[1;33m\u001b[0m\u001b[1;33m\u001b[0m\u001b[0m\n",
      "\u001b[1;32mc:\\users\\connor parish\\python3.6(64)\\lib\\site-packages\\matplotlib\\artist.py\u001b[0m in \u001b[0;36mdraw_wrapper\u001b[1;34m(artist, renderer, *args, **kwargs)\u001b[0m\n\u001b[0;32m     36\u001b[0m                 \u001b[0mrenderer\u001b[0m\u001b[1;33m.\u001b[0m\u001b[0mstart_filter\u001b[0m\u001b[1;33m(\u001b[0m\u001b[1;33m)\u001b[0m\u001b[1;33m\u001b[0m\u001b[0m\n\u001b[0;32m     37\u001b[0m \u001b[1;33m\u001b[0m\u001b[0m\n\u001b[1;32m---> 38\u001b[1;33m             \u001b[1;32mreturn\u001b[0m \u001b[0mdraw\u001b[0m\u001b[1;33m(\u001b[0m\u001b[0martist\u001b[0m\u001b[1;33m,\u001b[0m \u001b[0mrenderer\u001b[0m\u001b[1;33m,\u001b[0m \u001b[1;33m*\u001b[0m\u001b[0margs\u001b[0m\u001b[1;33m,\u001b[0m \u001b[1;33m**\u001b[0m\u001b[0mkwargs\u001b[0m\u001b[1;33m)\u001b[0m\u001b[1;33m\u001b[0m\u001b[0m\n\u001b[0m\u001b[0;32m     39\u001b[0m         \u001b[1;32mfinally\u001b[0m\u001b[1;33m:\u001b[0m\u001b[1;33m\u001b[0m\u001b[0m\n\u001b[0;32m     40\u001b[0m             \u001b[1;32mif\u001b[0m \u001b[0martist\u001b[0m\u001b[1;33m.\u001b[0m\u001b[0mget_agg_filter\u001b[0m\u001b[1;33m(\u001b[0m\u001b[1;33m)\u001b[0m \u001b[1;32mis\u001b[0m \u001b[1;32mnot\u001b[0m \u001b[1;32mNone\u001b[0m\u001b[1;33m:\u001b[0m\u001b[1;33m\u001b[0m\u001b[0m\n",
      "\u001b[1;32mc:\\users\\connor parish\\python3.6(64)\\lib\\site-packages\\matplotlib\\axis.py\u001b[0m in \u001b[0;36mdraw\u001b[1;34m(self, renderer, *args, **kwargs)\u001b[0m\n\u001b[0;32m   1201\u001b[0m         \u001b[0mrenderer\u001b[0m\u001b[1;33m.\u001b[0m\u001b[0mopen_group\u001b[0m\u001b[1;33m(\u001b[0m\u001b[0m__name__\u001b[0m\u001b[1;33m)\u001b[0m\u001b[1;33m\u001b[0m\u001b[0m\n\u001b[0;32m   1202\u001b[0m \u001b[1;33m\u001b[0m\u001b[0m\n\u001b[1;32m-> 1203\u001b[1;33m         \u001b[0mticks_to_draw\u001b[0m \u001b[1;33m=\u001b[0m \u001b[0mself\u001b[0m\u001b[1;33m.\u001b[0m\u001b[0m_update_ticks\u001b[0m\u001b[1;33m(\u001b[0m\u001b[1;33m)\u001b[0m\u001b[1;33m\u001b[0m\u001b[0m\n\u001b[0m\u001b[0;32m   1204\u001b[0m         ticklabelBoxes, ticklabelBoxes2 = self._get_tick_bboxes(ticks_to_draw,\n\u001b[0;32m   1205\u001b[0m                                                                 renderer)\n",
      "\u001b[1;32mc:\\users\\connor parish\\python3.6(64)\\lib\\site-packages\\matplotlib\\axis.py\u001b[0m in \u001b[0;36m_update_ticks\u001b[1;34m(self)\u001b[0m\n\u001b[0;32m   1078\u001b[0m         \"\"\"\n\u001b[0;32m   1079\u001b[0m         \u001b[0mmajor_locs\u001b[0m \u001b[1;33m=\u001b[0m \u001b[0mself\u001b[0m\u001b[1;33m.\u001b[0m\u001b[0mget_majorticklocs\u001b[0m\u001b[1;33m(\u001b[0m\u001b[1;33m)\u001b[0m\u001b[1;33m\u001b[0m\u001b[0m\n\u001b[1;32m-> 1080\u001b[1;33m         \u001b[0mmajor_labels\u001b[0m \u001b[1;33m=\u001b[0m \u001b[0mself\u001b[0m\u001b[1;33m.\u001b[0m\u001b[0mmajor\u001b[0m\u001b[1;33m.\u001b[0m\u001b[0mformatter\u001b[0m\u001b[1;33m.\u001b[0m\u001b[0mformat_ticks\u001b[0m\u001b[1;33m(\u001b[0m\u001b[0mmajor_locs\u001b[0m\u001b[1;33m)\u001b[0m\u001b[1;33m\u001b[0m\u001b[0m\n\u001b[0m\u001b[0;32m   1081\u001b[0m         \u001b[0mmajor_ticks\u001b[0m \u001b[1;33m=\u001b[0m \u001b[0mself\u001b[0m\u001b[1;33m.\u001b[0m\u001b[0mget_major_ticks\u001b[0m\u001b[1;33m(\u001b[0m\u001b[0mlen\u001b[0m\u001b[1;33m(\u001b[0m\u001b[0mmajor_locs\u001b[0m\u001b[1;33m)\u001b[0m\u001b[1;33m)\u001b[0m\u001b[1;33m\u001b[0m\u001b[0m\n\u001b[0;32m   1082\u001b[0m         \u001b[0mself\u001b[0m\u001b[1;33m.\u001b[0m\u001b[0mmajor\u001b[0m\u001b[1;33m.\u001b[0m\u001b[0mformatter\u001b[0m\u001b[1;33m.\u001b[0m\u001b[0mset_locs\u001b[0m\u001b[1;33m(\u001b[0m\u001b[0mmajor_locs\u001b[0m\u001b[1;33m)\u001b[0m\u001b[1;33m\u001b[0m\u001b[0m\n",
      "\u001b[1;32mc:\\users\\connor parish\\python3.6(64)\\lib\\site-packages\\matplotlib\\ticker.py\u001b[0m in \u001b[0;36mformat_ticks\u001b[1;34m(self, values)\u001b[0m\n\u001b[0;32m    257\u001b[0m         \u001b[1;34m\"\"\"Return the tick labels for all the ticks at once.\"\"\"\u001b[0m\u001b[1;33m\u001b[0m\u001b[0m\n\u001b[0;32m    258\u001b[0m         \u001b[0mself\u001b[0m\u001b[1;33m.\u001b[0m\u001b[0mset_locs\u001b[0m\u001b[1;33m(\u001b[0m\u001b[0mvalues\u001b[0m\u001b[1;33m)\u001b[0m\u001b[1;33m\u001b[0m\u001b[0m\n\u001b[1;32m--> 259\u001b[1;33m         \u001b[1;32mreturn\u001b[0m \u001b[1;33m[\u001b[0m\u001b[0mself\u001b[0m\u001b[1;33m(\u001b[0m\u001b[0mvalue\u001b[0m\u001b[1;33m,\u001b[0m \u001b[0mi\u001b[0m\u001b[1;33m)\u001b[0m \u001b[1;32mfor\u001b[0m \u001b[0mi\u001b[0m\u001b[1;33m,\u001b[0m \u001b[0mvalue\u001b[0m \u001b[1;32min\u001b[0m \u001b[0menumerate\u001b[0m\u001b[1;33m(\u001b[0m\u001b[0mvalues\u001b[0m\u001b[1;33m)\u001b[0m\u001b[1;33m]\u001b[0m\u001b[1;33m\u001b[0m\u001b[0m\n\u001b[0m\u001b[0;32m    260\u001b[0m \u001b[1;33m\u001b[0m\u001b[0m\n\u001b[0;32m    261\u001b[0m     \u001b[1;32mdef\u001b[0m \u001b[0mformat_data\u001b[0m\u001b[1;33m(\u001b[0m\u001b[0mself\u001b[0m\u001b[1;33m,\u001b[0m \u001b[0mvalue\u001b[0m\u001b[1;33m)\u001b[0m\u001b[1;33m:\u001b[0m\u001b[1;33m\u001b[0m\u001b[0m\n",
      "\u001b[1;32mc:\\users\\connor parish\\python3.6(64)\\lib\\site-packages\\matplotlib\\ticker.py\u001b[0m in \u001b[0;36m<listcomp>\u001b[1;34m(.0)\u001b[0m\n\u001b[0;32m    257\u001b[0m         \u001b[1;34m\"\"\"Return the tick labels for all the ticks at once.\"\"\"\u001b[0m\u001b[1;33m\u001b[0m\u001b[0m\n\u001b[0;32m    258\u001b[0m         \u001b[0mself\u001b[0m\u001b[1;33m.\u001b[0m\u001b[0mset_locs\u001b[0m\u001b[1;33m(\u001b[0m\u001b[0mvalues\u001b[0m\u001b[1;33m)\u001b[0m\u001b[1;33m\u001b[0m\u001b[0m\n\u001b[1;32m--> 259\u001b[1;33m         \u001b[1;32mreturn\u001b[0m \u001b[1;33m[\u001b[0m\u001b[0mself\u001b[0m\u001b[1;33m(\u001b[0m\u001b[0mvalue\u001b[0m\u001b[1;33m,\u001b[0m \u001b[0mi\u001b[0m\u001b[1;33m)\u001b[0m \u001b[1;32mfor\u001b[0m \u001b[0mi\u001b[0m\u001b[1;33m,\u001b[0m \u001b[0mvalue\u001b[0m \u001b[1;32min\u001b[0m \u001b[0menumerate\u001b[0m\u001b[1;33m(\u001b[0m\u001b[0mvalues\u001b[0m\u001b[1;33m)\u001b[0m\u001b[1;33m]\u001b[0m\u001b[1;33m\u001b[0m\u001b[0m\n\u001b[0m\u001b[0;32m    260\u001b[0m \u001b[1;33m\u001b[0m\u001b[0m\n\u001b[0;32m    261\u001b[0m     \u001b[1;32mdef\u001b[0m \u001b[0mformat_data\u001b[0m\u001b[1;33m(\u001b[0m\u001b[0mself\u001b[0m\u001b[1;33m,\u001b[0m \u001b[0mvalue\u001b[0m\u001b[1;33m)\u001b[0m\u001b[1;33m:\u001b[0m\u001b[1;33m\u001b[0m\u001b[0m\n",
      "\u001b[1;32mc:\\users\\connor parish\\python3.6(64)\\lib\\site-packages\\matplotlib\\category.py\u001b[0m in \u001b[0;36m__call__\u001b[1;34m(self, x, pos)\u001b[0m\n\u001b[0;32m    152\u001b[0m             \u001b[1;32mreturn\u001b[0m \u001b[1;34m\"\"\u001b[0m\u001b[1;33m\u001b[0m\u001b[0m\n\u001b[0;32m    153\u001b[0m         r_mapping = {v: StrCategoryFormatter._text(k)\n\u001b[1;32m--> 154\u001b[1;33m                      for k, v in self._units.items()}\n\u001b[0m\u001b[0;32m    155\u001b[0m         \u001b[1;32mreturn\u001b[0m \u001b[0mr_mapping\u001b[0m\u001b[1;33m.\u001b[0m\u001b[0mget\u001b[0m\u001b[1;33m(\u001b[0m\u001b[0mint\u001b[0m\u001b[1;33m(\u001b[0m\u001b[0mnp\u001b[0m\u001b[1;33m.\u001b[0m\u001b[0mround\u001b[0m\u001b[1;33m(\u001b[0m\u001b[0mx\u001b[0m\u001b[1;33m)\u001b[0m\u001b[1;33m)\u001b[0m\u001b[1;33m,\u001b[0m \u001b[1;34m''\u001b[0m\u001b[1;33m)\u001b[0m\u001b[1;33m\u001b[0m\u001b[0m\n\u001b[0;32m    156\u001b[0m \u001b[1;33m\u001b[0m\u001b[0m\n",
      "\u001b[1;32mc:\\users\\connor parish\\python3.6(64)\\lib\\site-packages\\matplotlib\\category.py\u001b[0m in \u001b[0;36m<dictcomp>\u001b[1;34m(.0)\u001b[0m\n\u001b[0;32m    152\u001b[0m             \u001b[1;32mreturn\u001b[0m \u001b[1;34m\"\"\u001b[0m\u001b[1;33m\u001b[0m\u001b[0m\n\u001b[0;32m    153\u001b[0m         r_mapping = {v: StrCategoryFormatter._text(k)\n\u001b[1;32m--> 154\u001b[1;33m                      for k, v in self._units.items()}\n\u001b[0m\u001b[0;32m    155\u001b[0m         \u001b[1;32mreturn\u001b[0m \u001b[0mr_mapping\u001b[0m\u001b[1;33m.\u001b[0m\u001b[0mget\u001b[0m\u001b[1;33m(\u001b[0m\u001b[0mint\u001b[0m\u001b[1;33m(\u001b[0m\u001b[0mnp\u001b[0m\u001b[1;33m.\u001b[0m\u001b[0mround\u001b[0m\u001b[1;33m(\u001b[0m\u001b[0mx\u001b[0m\u001b[1;33m)\u001b[0m\u001b[1;33m)\u001b[0m\u001b[1;33m,\u001b[0m \u001b[1;34m''\u001b[0m\u001b[1;33m)\u001b[0m\u001b[1;33m\u001b[0m\u001b[0m\n\u001b[0;32m    156\u001b[0m \u001b[1;33m\u001b[0m\u001b[0m\n",
      "\u001b[1;31mKeyboardInterrupt\u001b[0m: "
     ]
    }
   ],
   "source": [
    "plt.hist(vals, bins=30)"
   ]
  },
  {
   "cell_type": "code",
   "execution_count": null,
   "metadata": {},
   "outputs": [],
   "source": [
    "plt.hist(time_steps)"
   ]
  },
  {
   "cell_type": "code",
   "execution_count": null,
   "metadata": {},
   "outputs": [],
   "source": [
    "subj_ids = set(sub_roi_d.keys())\n",
    "sub_diag_d = {}\n",
    "sub_site_d = {}\n",
    "diags = list()\n",
    "sites = list()\n",
    "for index, row in phen_df.iterrows():\n",
    "    if(str(row['SUB_ID']) in subj_ids):\n",
    "        sub_diag_d[row['SUB_ID']] = (row['DX_GROUP'], row['DSM_IV_TR'])\n",
    "        sub_diag_d[row['SUB_ID']] = row['SITE_ID']\n",
    "        diags.append(row['DX_GROUP'])\n",
    "        sites.append(row['SITE_ID'])"
   ]
  },
  {
   "cell_type": "code",
   "execution_count": null,
   "metadata": {},
   "outputs": [],
   "source": [
    "plt.hist(diags)"
   ]
  },
  {
   "cell_type": "code",
   "execution_count": null,
   "metadata": {},
   "outputs": [],
   "source": [
    "plt.hist(sites)"
   ]
  },
  {
   "cell_type": "code",
   "execution_count": null,
   "metadata": {},
   "outputs": [],
   "source": [
    "t_rois = sub_roi_d['50012']\n",
    "for ts in t_rois:\n",
    "    print(ts)"
   ]
  },
  {
   "cell_type": "markdown",
   "metadata": {},
   "source": [
    "# Analysis with subjects\n",
    "* tr distributions\n",
    "* Sex\n",
    "* asd\n",
    "* age"
   ]
  },
  {
   "cell_type": "code",
   "execution_count": 1,
   "metadata": {},
   "outputs": [],
   "source": [
    "# Load ABIDEI preprocessed rois by loading subjects\n",
    "def open_pickle(f):\n",
    "    file = open(f,'rb')\n",
    "    o = pickle.load(file)\n",
    "    file.close()\n",
    "    return o\n",
    "\n",
    "def load_subjects_d(subject_folder):\n",
    "    subjects_d = {}\n",
    "    for f in os.listdir(subject_folder):\n",
    "        s = open_pickle(os.path.join(subject_folder, f))\n",
    "        subjects_d[s._sub_id] = s\n",
    "    return subjects_d"
   ]
  },
  {
   "cell_type": "code",
   "execution_count": 3,
   "metadata": {},
   "outputs": [],
   "source": [
    "def clean_subjects(subjects, trs=[2, 2.17]):\n",
    "    clean_s = list()\n",
    "    trs = set(trs)\n",
    "    for s in subjects:\n",
    "        if(s._tr in trs):\n",
    "            clean_s.append(s)\n",
    "    print(f'{len(clean_s)} clean out of {len(subjects)}')\n",
    "    return clean_s"
   ]
  },
  {
   "cell_type": "code",
   "execution_count": 9,
   "metadata": {},
   "outputs": [],
   "source": [
    "ab_subjects_dir = os.path.dirname(cur_dir) + '/data/ABIDEI_subjects/'\n",
    "ab2_subjects_dir = os.path.dirname(cur_dir) + '/data/ABIDEII_subjects/'"
   ]
  },
  {
   "cell_type": "code",
   "execution_count": 18,
   "metadata": {},
   "outputs": [
    {
     "name": "stdout",
     "output_type": "stream",
     "text": [
      "548 clean out of 884\n"
     ]
    }
   ],
   "source": [
    "ab_subjects_d = load_subjects_d(ab_subjects_dir)\n",
    "ab_subjects = list(ab_subjects_d.values())\n",
    "ab_subjects_c = clean_subjects(ab_subjects)"
   ]
  },
  {
   "cell_type": "code",
   "execution_count": 19,
   "metadata": {},
   "outputs": [
    {
     "name": "stdout",
     "output_type": "stream",
     "text": [
      "401 clean out of 458\n"
     ]
    }
   ],
   "source": [
    "ab2_subjects_d = load_subjects_d(ab2_subjects_dir)\n",
    "ab2_subjects = list(ab2_subjects_d.values())\n",
    "ab2_subjects_c = clean_subjects(ab2_subjects)"
   ]
  },
  {
   "cell_type": "code",
   "execution_count": 20,
   "metadata": {},
   "outputs": [
    {
     "name": "stdout",
     "output_type": "stream",
     "text": [
      "1342\n",
      "949\n"
     ]
    }
   ],
   "source": [
    "ab_subjects.extend(ab2_subjects)\n",
    "print(len(ab_subjects))\n",
    "ab_subjects_c.extend(ab2_subjects_c)\n",
    "print(len(ab_subjects_c))"
   ]
  },
  {
   "cell_type": "markdown",
   "metadata": {},
   "source": [
    "# Tr distribution\n"
   ]
  },
  {
   "cell_type": "code",
   "execution_count": 22,
   "metadata": {},
   "outputs": [],
   "source": [
    "trs = list()\n",
    "for s in ab_subjects:\n",
    "    trs.append(s._tr)"
   ]
  },
  {
   "cell_type": "code",
   "execution_count": 26,
   "metadata": {},
   "outputs": [
    {
     "data": {
      "image/png": "[encoded data removed]",
      "text/plain": [
       "<Figure size 432x288 with 1 Axes>"
      ]
     },
     "metadata": {
      "needs_background": "light"
     },
     "output_type": "display_data"
    }
   ],
   "source": [
    "plt.title('ABIDE Time Steps')\n",
    "plt.xlabel('Time Step (s)')\n",
    "plt.ylabel('Number of Patients')\n",
    "plt.hist(trs)\n",
    "plt.savefig('./../imgs/hist_abide_trs.png')"
   ]
  },
  {
   "cell_type": "code",
   "execution_count": 27,
   "metadata": {},
   "outputs": [],
   "source": [
    "sex = list()\n",
    "for s in ab_subjects_c:\n",
    "    sex.append(s._sex)"
   ]
  },
  {
   "cell_type": "code",
   "execution_count": 29,
   "metadata": {},
   "outputs": [
    {
     "data": {
      "text/plain": [
       "793"
      ]
     },
     "execution_count": 29,
     "metadata": {},
     "output_type": "execute_result"
    }
   ],
   "source": [
    "sex.count(1)"
   ]
  },
  {
   "cell_type": "code",
   "execution_count": 30,
   "metadata": {},
   "outputs": [
    {
     "data": {
      "text/plain": [
       "156"
      ]
     },
     "execution_count": 30,
     "metadata": {},
     "output_type": "execute_result"
    }
   ],
   "source": [
    "sex.count(2)"
   ]
  },
  {
   "cell_type": "code",
   "execution_count": 31,
   "metadata": {},
   "outputs": [],
   "source": [
    "ages = list()\n",
    "for s in ab_subjects_c:\n",
    "    ages.append(s._age)"
   ]
  },
  {
   "cell_type": "code",
   "execution_count": 37,
   "metadata": {},
   "outputs": [
    {
     "data": {
      "image/png": "[encoded data removed]",
      "text/plain": [
       "<Figure size 432x288 with 1 Axes>"
      ]
     },
     "metadata": {
      "needs_background": "light"
     },
     "output_type": "display_data"
    }
   ],
   "source": [
    "plt.title('Filtered ABIDE Ages')\n",
    "plt.xlabel('Age')\n",
    "plt.ylabel('Number of Patients')\n",
    "plt.hist(ages)\n",
    "plt.savefig('./../imgs/hist_abide_c_ages.png')"
   ]
  },
  {
   "cell_type": "code",
   "execution_count": 36,
   "metadata": {},
   "outputs": [],
   "source": [
    "asd = list()\n",
    "for s in ab_subjects_c:\n",
    "    asd.append(s._label_dict['dx_group'])"
   ]
  },
  {
   "cell_type": "code",
   "execution_count": 38,
   "metadata": {},
   "outputs": [
    {
     "data": {
      "image/png": "[encoded data removed]",
      "text/plain": [
       "<Figure size 432x288 with 1 Axes>"
      ]
     },
     "metadata": {
      "needs_background": "light"
     },
     "output_type": "display_data"
    }
   ],
   "source": [
    "plt.title('Filtered ABIDE DX Group')\n",
    "plt.xlabel('Diagnosis')\n",
    "plt.ylabel('Number of Patients')\n",
    "plt.hist(asd)\n",
    "plt.savefig('./../imgs/hist_abide_c_asd.png')"
   ]
  },
  {
   "cell_type": "code",
   "execution_count": 40,
   "metadata": {},
   "outputs": [
    {
     "data": {
      "text/plain": [
       "464"
      ]
     },
     "execution_count": 40,
     "metadata": {},
     "output_type": "execute_result"
    }
   ],
   "source": [
    "asd.count(1)"
   ]
  },
  {
   "cell_type": "code",
   "execution_count": 41,
   "metadata": {},
   "outputs": [
    {
     "data": {
      "text/plain": [
       "485"
      ]
     },
     "execution_count": 41,
     "metadata": {},
     "output_type": "execute_result"
    }
   ],
   "source": [
    "asd.count(2)"
   ]
  },
  {
   "cell_type": "code",
   "execution_count": null,
   "metadata": {},
   "outputs": [],
   "source": []
  }
 ],
 "metadata": {
  "kernelspec": {
   "display_name": "Python 3",
   "language": "python",
   "name": "python3"
  },
  "language_info": {
   "codemirror_mode": {
    "name": "ipython",
    "version": 3
   },
   "file_extension": ".py",
   "mimetype": "text/x-python",
   "name": "python",
   "nbconvert_exporter": "python",
   "pygments_lexer": "ipython3",
   "version": "3.9.1"
  }
 },
 "nbformat": 4,
 "nbformat_minor": 2
}
