{
 "cells": [
  {
   "cell_type": "markdown",
   "id": "surprised-channel",
   "metadata": {},
   "source": [
    "# Used to help intrepet the output from the cpac outline"
   ]
  },
  {
   "cell_type": "code",
   "execution_count": 26,
   "id": "unable-guide",
   "metadata": {},
   "outputs": [],
   "source": [
    "import os\n",
    "import pickle\n",
    "import numpy as np\n",
    "from subprocess import call\n",
    "\n",
    "import sys\n",
    "sys.path.append('../src/features')\n",
    "\n",
    "from subject import Subject\n",
    "\n",
    "cur_dir = os.getcwd()\n",
    "asd_diag_dir = os.path.dirname(cur_dir)\n",
    "data_dir = asd_diag_dir + '/data/'\n",
    "# cpac_output_dir = data_dir + 'cpac_output_t/'\n",
    "cpac_output_dir = data_dir + 'cpac_output/output/'\n",
    "subjects_dir = os.path.dirname(cur_dir) + '/data/ABIDEI_subjects/'\n",
    "trs_save_file = save_dir = os.path.dirname(cur_dir) + '/data/dicts/ABIDEI_site_trs.json'"
   ]
  },
  {
   "cell_type": "code",
   "execution_count": 98,
   "id": "thirty-portable",
   "metadata": {},
   "outputs": [],
   "source": [
    "sub_number = 51471\n",
    "subject_folder = cpac_output_dir + f'/pipeline_abide_cpac_run_freq-filter_nuisance/sub-00{sub_number}_ses-1/'"
   ]
  },
  {
   "cell_type": "code",
   "execution_count": 99,
   "id": "divine-toilet",
   "metadata": {},
   "outputs": [],
   "source": [
    "# Find all cc200 rois within output\n",
    "# folder_queue = os.listdir(cpac_output_dir)\n",
    "# folder_queue = [os.path.join(cpac_output_dir, f) for f in folder_queue]\n",
    "folder_queue = os.listdir(subject_folder)\n",
    "folder_queue = [os.path.join(subject_folder, f) for f in folder_queue]\n",
    "cc_200_l = list()\n",
    "\n",
    "while len(folder_queue) > 0:\n",
    "    f = folder_queue.pop(0)\n",
    "    if(os.path.exists(os.path.join(f, 'roi_stats.npz'))):\n",
    "        cc_200_l.append(f)\n",
    "    for d in os.listdir(f):\n",
    "        if os.path.isdir(os.path.join(f, d)):\n",
    "            folder_queue.append(os.path.join(f, d))"
   ]
  },
  {
   "cell_type": "code",
   "execution_count": 100,
   "id": "promising-setup",
   "metadata": {},
   "outputs": [
    {
     "data": {
      "text/plain": [
       "54"
      ]
     },
     "execution_count": 100,
     "metadata": {},
     "output_type": "execute_result"
    }
   ],
   "source": [
    "len(cc_200_l)"
   ]
  },
  {
   "cell_type": "code",
   "execution_count": 101,
   "id": "severe-outside",
   "metadata": {},
   "outputs": [
    {
     "name": "stdout",
     "output_type": "stream",
     "text": [
      "5_G-M_M-SDB_P-2_BP-B0.01-T0.1/_mask_DKT_space-MNI152NLin6_res-1x1x1_mask_file_..ndmg_atlases..label..Human..DKT_space-MNI152NLin6_res-1x1x1.nii.gz\n",
      "\n",
      "5_G-M_M-SDB_P-2_BP-B0.01-T0.1/_mask_Juelich_space-MNI152NLin6_res-1x1x1_mask_file_..ndmg_atlases..label..Human..Juelich_space-MNI152NLin6_res-1x1x1.nii.gz\n",
      "\n",
      "5_G-M_M-SDB_P-2_BP-B0.01-T0.1/_mask_CC400_mask_file_..cpac_templates..CC400.nii.gz\n",
      "\n",
      "5_G-M_M-SDB_P-2_BP-B0.01-T0.1/_mask_Brodmann_space-MNI152NLin6_res-1x1x1_mask_file_..ndmg_atlases..label..Human..Brodmann_space-MNI152NLin6_res-1x1x1.nii.gz\n",
      "\n",
      "5_G-M_M-SDB_P-2_BP-B0.01-T0.1/_mask_rois_3mm_mask_file_..cpac_templates..rois_3mm.nii.gz\n",
      "\n",
      "5_G-M_M-SDB_P-2_BP-B0.01-T0.1/_mask_Slab907_space-MNI152NLin6_res-1x1x1_mask_file_..ndmg_atlases..label..Human..Slab907_space-MNI152NLin6_res-1x1x1.nii.gz\n",
      "\n",
      "5_G-M_M-SDB_P-2_BP-B0.01-T0.1/_mask_Yeo-7-liberal_space-MNI152NLin6_res-1x1x1_mask_file_..ndmg_atlases..label..Human..Yeo-7-liberal_space-MNI152NLin6_res-1x1x1.nii.gz\n",
      "\n",
      "5_G-M_M-SDB_P-2_BP-B0.01-T0.1/_mask_Schaefer300_space-MNI152NLin6_res-1x1x1_mask_file_..ndmg_atlases..label..Human..Schaefer300_space-MNI152NLin6_res-1x1x1.nii.gz\n",
      "\n",
      "5_G-M_M-SDB_P-2_BP-B0.01-T0.1/_mask_HarvardOxfordsub-maxprob-thr25_space-MNI152NLin6_res-1x1x1_mask_file_..ndmg_atlases..label..Human..HarvardOxfordsub-maxprob-thr25_space-MNI152NLin6_res-1x1x1.nii.gz\n",
      "\n",
      "5_G-M_M-SDB_P-2_BP-B0.01-T0.1/_mask_Desikan_space-MNI152NLin6_res-1x1x1_mask_file_..ndmg_atlases..label..Human..Desikan_space-MNI152NLin6_res-1x1x1.nii.gz\n",
      "\n",
      "5_G-M_M-SDB_P-2_BP-B0.01-T0.1/_mask_Yeo-17_space-MNI152NLin6_res-1x1x1_mask_file_..ndmg_atlases..label..Human..Yeo-17_space-MNI152NLin6_res-1x1x1.nii.gz\n",
      "\n",
      "5_G-M_M-SDB_P-2_BP-B0.01-T0.1/_mask_Talairach_space-MNI152NLin6_res-1x1x1_mask_file_..ndmg_atlases..label..Human..Talairach_space-MNI152NLin6_res-1x1x1.nii.gz\n",
      "\n",
      "5_G-M_M-SDB_P-2_BP-B0.01-T0.1/_mask_Schaefer1000_space-MNI152NLin6_res-1x1x1_mask_file_..ndmg_atlases..label..Human..Schaefer1000_space-MNI152NLin6_res-1x1x1.nii.gz\n",
      "\n",
      "5_G-M_M-SDB_P-2_BP-B0.01-T0.1/_mask_ho_mask_pad_mask_file_..cpac_templates..ho_mask_pad.nii.gz\n",
      "\n",
      "5_G-M_M-SDB_P-2_BP-B0.01-T0.1/_mask_MICCAI_space-MNI152NLin6_res-1x1x1_mask_file_..ndmg_atlases..label..Human..MICCAI_space-MNI152NLin6_res-1x1x1.nii.gz\n",
      "\n",
      "5_G-M_M-SDB_P-2_BP-B0.01-T0.1/_mask_Yeo-7_space-MNI152NLin6_res-1x1x1_mask_file_..ndmg_atlases..label..Human..Yeo-7_space-MNI152NLin6_res-1x1x1.nii.gz\n",
      "\n",
      "5_G-M_M-SDB_P-2_BP-B0.01-T0.1/_mask_Schaefer400_space-MNI152NLin6_res-1x1x1_mask_file_..ndmg_atlases..label..Human..Schaefer400_space-MNI152NLin6_res-1x1x1.nii.gz\n",
      "\n",
      "5_G-M_M-SDB_P-2_BP-B0.01-T0.1/_mask_CC200_mask_file_..cpac_templates..CC200.nii.gz\n",
      "\n",
      "5_G-M_M-SDB_P-2_BP-B0.01-T0.1/_mask_Schaefer200_space-MNI152NLin6_res-1x1x1_mask_file_..ndmg_atlases..label..Human..Schaefer200_space-MNI152NLin6_res-1x1x1.nii.gz\n",
      "\n",
      "5_G-M_M-SDB_P-2_BP-B0.01-T0.1/_mask_HarvardOxfordcort-maxprob-thr25_space-MNI152NLin6_res-1x1x1_mask_file_..ndmg_atlases..label..Human..HarvardOxfordcort-maxprob-thr25_space-MNI152NLin6_res-1x1x1.nii.gz\n",
      "\n",
      "5_G-M_M-SDB_P-2_BP-B0.01-T0.1/_mask_AAL_space-MNI152NLin6_res-1x1x1_mask_file_..ndmg_atlases..label..Human..AAL_space-MNI152NLin6_res-1x1x1.nii.gz\n",
      "\n",
      "5_G-M_M-SDB_P-2_BP-B0.01-T0.1/_mask_Glasser_space-MNI152NLin6_res-1x1x1_mask_file_..ndmg_atlases..label..Human..Glasser_space-MNI152NLin6_res-1x1x1.nii.gz\n",
      "\n",
      "5_G-M_M-SDB_P-2_BP-B0.01-T0.1/_mask_aal_mask_pad_mask_file_..cpac_templates..aal_mask_pad.nii.gz\n",
      "\n",
      "5_G-M_M-SDB_P-2_BP-B0.01-T0.1/_mask_CAPRSC_space-MNI152NLin6_res-1x1x1_mask_file_..ndmg_atlases..label..Human..CAPRSC_space-MNI152NLin6_res-1x1x1.nii.gz\n",
      "\n",
      "5_G-M_M-SDB_P-2_BP-B0.01-T0.1/_mask_DesikanKlein_space-MNI152NLin6_res-1x1x1_mask_file_..ndmg_atlases..label..Human..DesikanKlein_space-MNI152NLin6_res-1x1x1.nii.gz\n",
      "\n",
      "5_G-M_M-SDB_P-2_BP-B0.01-T0.1/_mask_tt_mask_pad_mask_file_..cpac_templates..tt_mask_pad.nii.gz\n",
      "\n",
      "5_G-M_M-SDB_P-2_BP-B0.01-T0.1/_mask_Yeo-17-liberal_space-MNI152NLin6_res-1x1x1_mask_file_..ndmg_atlases..label..Human..Yeo-17-liberal_space-MNI152NLin6_res-1x1x1.nii.gz\n",
      "\n",
      "5_M-SDB_P-2_BP-B0.01-T0.1/_mask_DKT_space-MNI152NLin6_res-1x1x1_mask_file_..ndmg_atlases..label..Human..DKT_space-MNI152NLin6_res-1x1x1.nii.gz\n",
      "\n",
      "5_M-SDB_P-2_BP-B0.01-T0.1/_mask_Juelich_space-MNI152NLin6_res-1x1x1_mask_file_..ndmg_atlases..label..Human..Juelich_space-MNI152NLin6_res-1x1x1.nii.gz\n",
      "\n",
      "5_M-SDB_P-2_BP-B0.01-T0.1/_mask_CC400_mask_file_..cpac_templates..CC400.nii.gz\n",
      "\n",
      "5_M-SDB_P-2_BP-B0.01-T0.1/_mask_Brodmann_space-MNI152NLin6_res-1x1x1_mask_file_..ndmg_atlases..label..Human..Brodmann_space-MNI152NLin6_res-1x1x1.nii.gz\n",
      "\n",
      "5_M-SDB_P-2_BP-B0.01-T0.1/_mask_rois_3mm_mask_file_..cpac_templates..rois_3mm.nii.gz\n",
      "\n",
      "5_M-SDB_P-2_BP-B0.01-T0.1/_mask_Slab907_space-MNI152NLin6_res-1x1x1_mask_file_..ndmg_atlases..label..Human..Slab907_space-MNI152NLin6_res-1x1x1.nii.gz\n",
      "\n",
      "5_M-SDB_P-2_BP-B0.01-T0.1/_mask_Yeo-7-liberal_space-MNI152NLin6_res-1x1x1_mask_file_..ndmg_atlases..label..Human..Yeo-7-liberal_space-MNI152NLin6_res-1x1x1.nii.gz\n",
      "\n",
      "5_M-SDB_P-2_BP-B0.01-T0.1/_mask_Schaefer300_space-MNI152NLin6_res-1x1x1_mask_file_..ndmg_atlases..label..Human..Schaefer300_space-MNI152NLin6_res-1x1x1.nii.gz\n",
      "\n",
      "5_M-SDB_P-2_BP-B0.01-T0.1/_mask_HarvardOxfordsub-maxprob-thr25_space-MNI152NLin6_res-1x1x1_mask_file_..ndmg_atlases..label..Human..HarvardOxfordsub-maxprob-thr25_space-MNI152NLin6_res-1x1x1.nii.gz\n",
      "\n",
      "5_M-SDB_P-2_BP-B0.01-T0.1/_mask_Desikan_space-MNI152NLin6_res-1x1x1_mask_file_..ndmg_atlases..label..Human..Desikan_space-MNI152NLin6_res-1x1x1.nii.gz\n",
      "\n",
      "5_M-SDB_P-2_BP-B0.01-T0.1/_mask_Yeo-17_space-MNI152NLin6_res-1x1x1_mask_file_..ndmg_atlases..label..Human..Yeo-17_space-MNI152NLin6_res-1x1x1.nii.gz\n",
      "\n",
      "5_M-SDB_P-2_BP-B0.01-T0.1/_mask_Talairach_space-MNI152NLin6_res-1x1x1_mask_file_..ndmg_atlases..label..Human..Talairach_space-MNI152NLin6_res-1x1x1.nii.gz\n",
      "\n",
      "5_M-SDB_P-2_BP-B0.01-T0.1/_mask_Schaefer1000_space-MNI152NLin6_res-1x1x1_mask_file_..ndmg_atlases..label..Human..Schaefer1000_space-MNI152NLin6_res-1x1x1.nii.gz\n",
      "\n",
      "5_M-SDB_P-2_BP-B0.01-T0.1/_mask_ho_mask_pad_mask_file_..cpac_templates..ho_mask_pad.nii.gz\n",
      "\n",
      "5_M-SDB_P-2_BP-B0.01-T0.1/_mask_MICCAI_space-MNI152NLin6_res-1x1x1_mask_file_..ndmg_atlases..label..Human..MICCAI_space-MNI152NLin6_res-1x1x1.nii.gz\n",
      "\n",
      "5_M-SDB_P-2_BP-B0.01-T0.1/_mask_Yeo-7_space-MNI152NLin6_res-1x1x1_mask_file_..ndmg_atlases..label..Human..Yeo-7_space-MNI152NLin6_res-1x1x1.nii.gz\n",
      "\n",
      "5_M-SDB_P-2_BP-B0.01-T0.1/_mask_Schaefer400_space-MNI152NLin6_res-1x1x1_mask_file_..ndmg_atlases..label..Human..Schaefer400_space-MNI152NLin6_res-1x1x1.nii.gz\n",
      "\n",
      "5_M-SDB_P-2_BP-B0.01-T0.1/_mask_CC200_mask_file_..cpac_templates..CC200.nii.gz\n",
      "\n",
      "5_M-SDB_P-2_BP-B0.01-T0.1/_mask_Schaefer200_space-MNI152NLin6_res-1x1x1_mask_file_..ndmg_atlases..label..Human..Schaefer200_space-MNI152NLin6_res-1x1x1.nii.gz\n",
      "\n",
      "5_M-SDB_P-2_BP-B0.01-T0.1/_mask_HarvardOxfordcort-maxprob-thr25_space-MNI152NLin6_res-1x1x1_mask_file_..ndmg_atlases..label..Human..HarvardOxfordcort-maxprob-thr25_space-MNI152NLin6_res-1x1x1.nii.gz\n",
      "\n",
      "5_M-SDB_P-2_BP-B0.01-T0.1/_mask_AAL_space-MNI152NLin6_res-1x1x1_mask_file_..ndmg_atlases..label..Human..AAL_space-MNI152NLin6_res-1x1x1.nii.gz\n",
      "\n",
      "5_M-SDB_P-2_BP-B0.01-T0.1/_mask_Glasser_space-MNI152NLin6_res-1x1x1_mask_file_..ndmg_atlases..label..Human..Glasser_space-MNI152NLin6_res-1x1x1.nii.gz\n",
      "\n",
      "5_M-SDB_P-2_BP-B0.01-T0.1/_mask_aal_mask_pad_mask_file_..cpac_templates..aal_mask_pad.nii.gz\n",
      "\n",
      "5_M-SDB_P-2_BP-B0.01-T0.1/_mask_CAPRSC_space-MNI152NLin6_res-1x1x1_mask_file_..ndmg_atlases..label..Human..CAPRSC_space-MNI152NLin6_res-1x1x1.nii.gz\n",
      "\n",
      "5_M-SDB_P-2_BP-B0.01-T0.1/_mask_DesikanKlein_space-MNI152NLin6_res-1x1x1_mask_file_..ndmg_atlases..label..Human..DesikanKlein_space-MNI152NLin6_res-1x1x1.nii.gz\n",
      "\n",
      "5_M-SDB_P-2_BP-B0.01-T0.1/_mask_tt_mask_pad_mask_file_..cpac_templates..tt_mask_pad.nii.gz\n",
      "\n",
      "5_M-SDB_P-2_BP-B0.01-T0.1/_mask_Yeo-17-liberal_space-MNI152NLin6_res-1x1x1_mask_file_..ndmg_atlases..label..Human..Yeo-17-liberal_space-MNI152NLin6_res-1x1x1.nii.gz\n",
      "\n"
     ]
    }
   ],
   "source": [
    "for d in cc_200_l:\n",
    "    print(d[200:])\n",
    "    print()"
   ]
  },
  {
   "cell_type": "code",
   "execution_count": 102,
   "id": "current-factor",
   "metadata": {},
   "outputs": [
    {
     "data": {
      "text/plain": [
       "'/home/cparish/Capstone/asd_diagnosis_fmri/data/cpac_output/output//pipeline_abide_cpac_run_freq-filter_nuisance/sub-0051471_ses-1/roi_timeseries/_scan_rest_run-1/_selector_CSF-2mmE-M_aC-CSF+WM-2mm-DPC5_G-M_M-SDB_P-2_BP-B0.01-T0.1/_mask_Juelich_space-MNI152NLin6_res-1x1x1_mask_file_..ndmg_atlases..label..Human..Juelich_space-MNI152NLin6_res-1x1x1.nii.gz'"
      ]
     },
     "execution_count": 102,
     "metadata": {},
     "output_type": "execute_result"
    }
   ],
   "source": [
    "cc_200_l[1]"
   ]
  },
  {
   "cell_type": "markdown",
   "id": "tamil-canal",
   "metadata": {},
   "source": [
    "# Analyze ROI output from cpac "
   ]
  },
  {
   "cell_type": "code",
   "execution_count": 178,
   "id": "special-speaking",
   "metadata": {},
   "outputs": [],
   "source": [
    "# Load cpac rois\n",
    "cpac_rois = {}\n",
    "for roi_folder in cc_200_l:\n",
    "    call(['unzip', os.path.join(roi_folder, 'roi_stats.npz'), '-d', roi_folder])\n",
    "    # first row is nans and skip first 5\n",
    "    roi = np.load(os.path.join(roi_folder, 'arr_0.npy'), allow_pickle=True)[5:] \n",
    "    cpac_rois[roi_folder] = roi\n",
    "    "
   ]
  },
  {
   "cell_type": "code",
   "execution_count": 179,
   "id": "colored-redhead",
   "metadata": {},
   "outputs": [
    {
     "data": {
      "text/plain": [
       "54"
      ]
     },
     "execution_count": 179,
     "metadata": {},
     "output_type": "execute_result"
    }
   ],
   "source": [
    "len(cpac_rois)"
   ]
  },
  {
   "cell_type": "code",
   "execution_count": 167,
   "id": "existing-puppy",
   "metadata": {},
   "outputs": [],
   "source": [
    "# Load ABIDEI preprocessed rois by loading subjects\n",
    "def open_pickle(f):\n",
    "    file = open(f,'rb')\n",
    "    o = pickle.load(file)\n",
    "    file.close()\n",
    "    return o\n",
    "\n",
    "def load_subjects_d(subject_folder):\n",
    "    subjects_d = {}\n",
    "    for f in os.listdir(subject_folder):\n",
    "        s = open_pickle(os.path.join(subject_folder, f))\n",
    "        subjects_d[s._sub_id] = s\n",
    "    return subjects_d"
   ]
  },
  {
   "cell_type": "code",
   "execution_count": 202,
   "id": "express-geneva",
   "metadata": {},
   "outputs": [],
   "source": [
    "subjects_d = load_subjects_d(subjects_dir)"
   ]
  },
  {
   "cell_type": "code",
   "execution_count": 191,
   "id": "graduate-incidence",
   "metadata": {},
   "outputs": [],
   "source": [
    "s = subjects_d[51471]"
   ]
  },
  {
   "cell_type": "code",
   "execution_count": 183,
   "id": "hourly-devices",
   "metadata": {},
   "outputs": [],
   "source": [
    "cc_200_rois = {}\n",
    "for folder, roi in cpac_rois.items():\n",
    "    if roi.shape == (146, 200) and folder.find('CC200') != -1:\n",
    "        cc_200_rois[folder] = roi"
   ]
  },
  {
   "cell_type": "code",
   "execution_count": 184,
   "id": "combined-specification",
   "metadata": {},
   "outputs": [
    {
     "data": {
      "text/plain": [
       "2"
      ]
     },
     "execution_count": 184,
     "metadata": {},
     "output_type": "execute_result"
    }
   ],
   "source": [
    "len(cc_200_rois)"
   ]
  },
  {
   "cell_type": "code",
   "execution_count": 192,
   "id": "eastern-amazon",
   "metadata": {},
   "outputs": [
    {
     "data": {
      "text/plain": [
       "dict_keys(['filt_noglobal_roi_200_Cradd', 'cpac_filt_noglobal'])"
      ]
     },
     "execution_count": 192,
     "metadata": {},
     "output_type": "execute_result"
    }
   ],
   "source": [
    "s._data_dict.keys()"
   ]
  },
  {
   "cell_type": "code",
   "execution_count": 173,
   "id": "deluxe-saskatchewan",
   "metadata": {},
   "outputs": [
    {
     "name": "stdout",
     "output_type": "stream",
     "text": [
      "(200,)\n"
     ]
    }
   ],
   "source": [
    "goal_roi = np.array(s._data_dict['filt_noglobal_roi_200_Cradd'])\n",
    "goal_ts = goal_roi[3]\n",
    "print(goal_ts.shape)"
   ]
  },
  {
   "cell_type": "code",
   "execution_count": 188,
   "id": "proud-wings",
   "metadata": {},
   "outputs": [
    {
     "name": "stdout",
     "output_type": "stream",
     "text": [
      "/home/cparish/Capstone/asd_diagnosis_fmri/data/cpac_output/output//pipeline_abide_cpac_run_freq-filter_nuisance/sub-0051471_ses-1/roi_timeseries/_scan_rest_run-1/_selector_CSF-2mmE-M_aC-CSF+WM-2mm-DPC5_G-M_M-SDB_P-2_BP-B0.01-T0.1/_mask_CC200_mask_file_..cpac_templates..CC200.nii.gz:1367.8197454035635\n",
      "/home/cparish/Capstone/asd_diagnosis_fmri/data/cpac_output/output//pipeline_abide_cpac_run_freq-filter_nuisance/sub-0051471_ses-1/roi_timeseries/_scan_rest_run-1/_selector_CSF-2mmE-M_aC-CSF+WM-2mm-DPC5_M-SDB_P-2_BP-B0.01-T0.1/_mask_CC200_mask_file_..cpac_templates..CC200.nii.gz:1208.4897610950802\n"
     ]
    }
   ],
   "source": [
    "min_indexes = list()\n",
    "for folder, roi in cc_200_rois.items():\n",
    "    print(f'{folder}:{np.linalg.norm(roi-goal_roi)}')\n",
    "    min_index = 0\n",
    "    min_dist = 200\n",
    "    for i, ts in enumerate(roi):\n",
    "        dist = np.linalg.norm(ts-goal_ts)\n",
    "        if dist < min_dist:\n",
    "            min_index = i\n",
    "            min_dist = dist\n",
    "        if(ts == goal_ts).all():\n",
    "            print('d')\n",
    "    min_indexes.append(min_index)\n",
    "#     if(roi[5:] == goal_roi).all():\n",
    "#         print(roi.shape)"
   ]
  },
  {
   "cell_type": "code",
   "execution_count": 187,
   "id": "registered-consumption",
   "metadata": {},
   "outputs": [
    {
     "data": {
      "text/plain": [
       "[1367.8197454035635, 1208.4897610950802]"
      ]
     },
     "execution_count": 187,
     "metadata": {},
     "output_type": "execute_result"
    }
   ],
   "source": [
    "dists"
   ]
  },
  {
   "cell_type": "code",
   "execution_count": 124,
   "id": "pretty-leader",
   "metadata": {},
   "outputs": [
    {
     "data": {
      "text/plain": [
       "(146, 200)"
      ]
     },
     "execution_count": 124,
     "metadata": {},
     "output_type": "execute_result"
    }
   ],
   "source": [
    "np.array(s._data_dict['filt_noglobal_roi_200_Cradd']).shape"
   ]
  },
  {
   "cell_type": "code",
   "execution_count": 125,
   "id": "packed-knight",
   "metadata": {},
   "outputs": [
    {
     "data": {
      "text/plain": [
       "array([ 1.1277800e+00,  4.6984740e+00, -2.1352580e+00, -5.2501800e-01,\n",
       "        1.3163840e+00, -5.9062520e+00, -3.3105240e+00,  1.0040340e+00,\n",
       "       -1.2913460e+00,  4.5389000e-01, -7.3150870e+00,  0.0000000e+00,\n",
       "       -3.8072650e+00,  1.2421070e+00,  1.3271420e+00, -4.3659560e+00,\n",
       "       -2.1308890e+00,  2.1773000e-01,  2.3604780e+00, -1.0887290e+01,\n",
       "       -1.0051570e+00, -4.7868600e-01,  2.8610070e+00, -8.1607860e+00,\n",
       "        1.4903890e+00, -8.7014380e+00,  0.0000000e+00, -4.1830290e+00,\n",
       "        3.2639690e+00,  0.0000000e+00, -8.3632550e+00,  0.0000000e+00,\n",
       "        9.7243100e+00,  3.1085830e+00, -1.3633828e+01,  0.0000000e+00,\n",
       "       -2.4167000e+00, -1.5633151e+01, -8.4798100e+00, -8.6998580e+00,\n",
       "       -3.9630000e-03,  0.0000000e+00,  0.0000000e+00, -5.6726810e+00,\n",
       "       -2.4597800e-01,  4.6972760e+00, -8.6655400e-01, -7.2814870e+00,\n",
       "       -5.5952060e+00, -3.9764200e-01,  3.2370000e-02,  0.0000000e+00,\n",
       "       -1.7280400e-01, -5.1317790e+00, -1.6518399e+01,  9.8068950e+00,\n",
       "       -4.3605000e-02,  3.5796290e+00, -3.5734450e+00, -2.6562700e+00,\n",
       "       -1.1232198e+01, -7.6965320e+00,  6.7595770e+00, -4.0982420e+00,\n",
       "       -8.4629020e+00, -1.0742176e+01, -6.8023590e+00, -2.1229300e-01,\n",
       "       -2.0597590e+00, -1.5493028e+01, -3.2627000e-02, -3.8545740e+00,\n",
       "       -6.8979500e-01, -1.7151000e-02,  1.2496980e+00, -5.7525240e+00,\n",
       "       -7.7006360e+00,  0.0000000e+00, -1.4819270e+01, -1.2916230e+00,\n",
       "       -6.9623990e+00,  9.3758640e+00, -5.2311590e+00, -6.7781370e+00,\n",
       "        3.0428850e+00,  0.0000000e+00,  3.0067780e+00, -4.4724840e+00,\n",
       "       -1.2180196e+01, -3.2433890e+00,  1.5015190e+00, -7.6591270e+00,\n",
       "       -8.1850840e+00,  1.4158280e+00, -2.4066270e+00,  2.9599100e-01,\n",
       "        3.8067820e+00, -9.8625800e+00,  7.9760440e+00, -6.4548670e+00,\n",
       "       -1.3186730e+00, -8.5450360e+00,  0.0000000e+00,  8.6210000e-02,\n",
       "        1.4240010e+00, -8.0820240e+00, -1.8116684e+01, -1.2023983e+01,\n",
       "        0.0000000e+00,  9.4907000e-01,  3.2436870e+00,  7.3885600e-01,\n",
       "        0.0000000e+00,  4.7961000e-01, -4.0390000e+00,  3.6059570e+00,\n",
       "       -9.8819040e+00,  1.7384760e+00, -2.8049382e+01,  1.2194390e+00,\n",
       "       -4.7251170e+00,  1.1984990e+00, -1.7555538e+01,  0.0000000e+00,\n",
       "       -4.1810810e+00, -6.7976850e+00, -1.0656809e+01, -5.1705340e+00,\n",
       "       -4.7048310e+00, -3.2740830e+00,  1.3283431e+01,  2.6421060e+00,\n",
       "        2.6690000e+00, -5.3973430e+00,  3.8867380e+00, -1.4650082e+01,\n",
       "       -3.8215900e+00, -1.1722052e+01, -4.6745200e-01, -2.2010200e-01,\n",
       "       -2.9998710e+00, -7.0751490e+00, -8.7899340e+00, -2.8559510e+00,\n",
       "       -2.4645710e+00, -7.8536590e+00, -1.0189732e+01, -1.3383490e+00,\n",
       "       -5.1436650e+00, -4.9142200e-01,  2.8178360e+00,  4.6708560e+00,\n",
       "       -1.4193747e+01,  1.2653992e+01,  4.9549300e-01,  3.5499040e+00,\n",
       "       -6.1104910e+00,  6.0585720e+00, -1.2368440e+00,  3.1623500e-01,\n",
       "        9.7968540e+00,  1.9496590e+00,  4.4319360e+00, -7.7458720e+00,\n",
       "       -7.0250460e+00,  1.2659200e+00,  7.4182800e-01,  3.4973880e+00,\n",
       "        2.9087000e-02, -6.0954200e-01, -5.6051300e+00,  1.4656620e+00,\n",
       "        3.1394170e+00, -7.6049910e+00, -3.1654120e+00, -1.2923000e-01,\n",
       "       -1.5457881e+01, -5.2461790e+00, -2.8669400e-01,  3.8412200e-01,\n",
       "        9.1100000e-04,  1.4262920e+00, -1.5325430e+00, -9.6607370e+00,\n",
       "       -2.2920160e+00,  4.0518280e+00, -5.8128840e+00, -9.8396520e+00,\n",
       "       -3.4146890e+00,  6.9376300e-01, -5.6434020e+00, -8.2502050e+00,\n",
       "       -1.8559700e-01,  4.6149570e+00, -1.1024400e+00, -4.6482930e+00,\n",
       "       -1.8802890e+00,  3.3260000e-03, -8.0931500e-01, -9.9056120e+00])"
      ]
     },
     "execution_count": 125,
     "metadata": {},
     "output_type": "execute_result"
    }
   ],
   "source": [
    "goal_ts"
   ]
  },
  {
   "cell_type": "code",
   "execution_count": 116,
   "id": "allied-arkansas",
   "metadata": {},
   "outputs": [
    {
     "name": "stdout",
     "output_type": "stream",
     "text": [
      "_mask_CC200_mask_file_..cpac_templates..CC200.nii.gz\n",
      "_mask_Schaefer200_space-MNI152NLin6_res-1x1x1_mask_file_..ndmg_atlases..label..Human..Schaefer200_space-MNI152NLin6_res-1x1x1.nii.gz\n",
      "_mask_CC200_mask_file_..cpac_templates..CC200.nii.gz\n",
      "_mask_Schaefer200_space-MNI152NLin6_res-1x1x1_mask_file_..ndmg_atlases..label..Human..Schaefer200_space-MNI152NLin6_res-1x1x1.nii.gz\n"
     ]
    }
   ],
   "source": [
    "for f in cc_200_rois.keys():\n",
    "    print(f.split('/')[-1])"
   ]
  },
  {
   "cell_type": "markdown",
   "id": "monthly-opinion",
   "metadata": {},
   "source": [
    "# Analyzing with Subjects"
   ]
  },
  {
   "cell_type": "code",
   "execution_count": 213,
   "id": "planned-morgan",
   "metadata": {},
   "outputs": [],
   "source": [
    "# for filter no global\n",
    "filt_noglobal = 'roi_timeseries/_scan_rest_run-1/_selector_CSF-2mmE-M_aC-CSF+WM-2mm-DPC5_M-SDB_P-2_BP-B0.01-T0.1/_mask_CC200_mask_file_..cpac_templates..CC200.nii.gz'\n",
    "def get_roi(sub_folder):\n",
    "    roi_folder = os.path.join(sub_folder,filt_noglobal)\n",
    "    if os.path.exists(os.path.join(roi_folder, 'roi_stats.npz')):\n",
    "        call(['unzip', os.path.join(roi_folder, 'roi_stats.npz'), '-d', roi_folder])\n",
    "        # first row is nans and skip first 5\n",
    "        roi = np.load(os.path.join(roi_folder, 'arr_0.npy'), allow_pickle=True)[5:] \n",
    "    else:\n",
    "        print(f\"Couldn't get rois for {sub_folder}\")\n",
    "        roi = None\n",
    "    return roi\n",
    "\n",
    "sub_51470_roi = get_roi(data_dir + '/cpac_output_single/output/pipeline_abide_cpac_run_freq-filter_nuisance/sub-0051470_ses-1')"
   ]
  },
  {
   "cell_type": "code",
   "execution_count": 218,
   "id": "double-mortgage",
   "metadata": {},
   "outputs": [
    {
     "data": {
      "text/plain": [
       "112.76785058445424"
      ]
     },
     "execution_count": 218,
     "metadata": {},
     "output_type": "execute_result"
    }
   ],
   "source": [
    "# run in same pipeline twice\n",
    "sub_51470_roi_2 = subjects_d[51470]._data_dict['cpac_filt_noglobal'] \n",
    "dist = np.linalg.norm(sub_51470_roi-sub_51470_roi_2)\n",
    "dist"
   ]
  },
  {
   "cell_type": "code",
   "execution_count": 203,
   "id": "broken-scout",
   "metadata": {},
   "outputs": [],
   "source": [
    "cpac_output_subs = list()\n",
    "for sub, s in subjects_d.items():\n",
    "    if 'cpac_filt_noglobal' in s._data_dict:\n",
    "        cpac_output_subs.append(s)"
   ]
  },
  {
   "cell_type": "code",
   "execution_count": 209,
   "id": "local-frederick",
   "metadata": {},
   "outputs": [
    {
     "name": "stdout",
     "output_type": "stream",
     "text": [
      "1458.0333812867184\n",
      "2023.6840385753046\n",
      "4317.593523370455\n",
      "1963.3674292851229\n",
      "1553.5067259525335\n",
      "1871.23161751424\n",
      "1684.2098021386132\n",
      "1312.022369114149\n",
      "1566.688771480727\n",
      "1391.5073333761243\n",
      "1208.4897610950802\n",
      "1610.333895102181\n",
      "1765.3053892936673\n",
      "3255.6904802495624\n",
      "1905.3217028186111\n",
      "2945.5869832416356\n",
      "1540.7676056260175\n",
      "1642.4417198939084\n",
      "2454.6677947874455\n",
      "1954.6868357942733\n",
      "1787.251580462886\n",
      "1887.3317144633447\n",
      "2031.976079376318\n",
      "1869.1076857643045\n",
      "1771.2490815315884\n",
      "1467.2397242208772\n",
      "1492.6002576736055\n",
      "3736.181723233348\n",
      "1308.1924505911238\n",
      "3781.54321597015\n",
      "1390.1382577164409\n",
      "1606.728975342744\n",
      "1826.2135369607254\n",
      "1413.1954807102659\n"
     ]
    }
   ],
   "source": [
    "for s in cpac_output_subs:\n",
    "    cpac_roi = s._data_dict['cpac_filt_noglobal']\n",
    "    preprocessed_roi = s._data_dict['filt_noglobal_roi_200_Cradd']\n",
    "    dist = np.linalg.norm(cpac_roi-preprocessed_roi)\n",
    "    print(dist)"
   ]
  },
  {
   "cell_type": "code",
   "execution_count": 212,
   "id": "affecting-blond",
   "metadata": {},
   "outputs": [
    {
     "name": "stdout",
     "output_type": "stream",
     "text": [
      "51470\n",
      "4748.805419186433\n",
      "51474\n",
      "5235.379898062245\n",
      "51457\n",
      "4854.722798395948\n",
      "51463\n",
      "4000.8804137316943\n",
      "51458\n",
      "4451.414270977289\n",
      "51485\n",
      "4658.924489583965\n",
      "51491\n",
      "3720.696440446671\n",
      "51480\n",
      "3897.3305731112027\n",
      "51456\n",
      "3992.4066242406866\n",
      "51483\n",
      "3327.386993369306\n",
      "51471\n",
      "3613.0555523404705\n",
      "51468\n",
      "3986.0420483638045\n",
      "51460\n",
      "2904.913129176263\n",
      "51478\n",
      "4018.8713529784172\n",
      "51462\n",
      "6152.507402665735\n",
      "51477\n",
      "5223.970736246386\n",
      "51466\n",
      "4047.095173276084\n",
      "51492\n",
      "5002.568687937156\n",
      "51488\n",
      "5485.062750517512\n",
      "51479\n",
      "5172.5993045592095\n",
      "51465\n",
      "5329.076289377555\n",
      "51467\n",
      "5735.189042648404\n",
      "51489\n",
      "5341.695206039386\n",
      "51473\n",
      "4692.186201096127\n",
      "51486\n",
      "4960.440567269033\n",
      "51487\n",
      "4787.7947869584805\n",
      "51476\n",
      "4403.646144629601\n",
      "51464\n",
      "3762.5894667202924\n",
      "51493\n",
      "5887.827799660593\n",
      "51461\n",
      "6230.688022159607\n",
      "51484\n",
      "5026.128456040572\n",
      "51482\n",
      "5061.864978276973\n",
      "51481\n",
      "4855.742576658661\n",
      "51490\n"
     ]
    },
    {
     "ename": "IndexError",
     "evalue": "list index out of range",
     "output_type": "error",
     "traceback": [
      "\u001b[0;31m---------------------------------------------------------------------------\u001b[0m",
      "\u001b[0;31mIndexError\u001b[0m                                Traceback (most recent call last)",
      "\u001b[0;32m<ipython-input-212-358e09ae86a6>\u001b[0m in \u001b[0;36m<module>\u001b[0;34m\u001b[0m\n\u001b[1;32m      3\u001b[0m     \u001b[0;31m# roi_1 = s._data_dict['cpac_filt_noglobal']\u001b[0m\u001b[0;34m\u001b[0m\u001b[0;34m\u001b[0m\u001b[0;34m\u001b[0m\u001b[0m\n\u001b[1;32m      4\u001b[0m     \u001b[0mroi_1\u001b[0m \u001b[0;34m=\u001b[0m \u001b[0ms\u001b[0m\u001b[0;34m.\u001b[0m\u001b[0m_data_dict\u001b[0m\u001b[0;34m[\u001b[0m\u001b[0;34m'filt_noglobal_roi_200_Cradd'\u001b[0m\u001b[0;34m]\u001b[0m\u001b[0;34m\u001b[0m\u001b[0;34m\u001b[0m\u001b[0m\n\u001b[0;32m----> 5\u001b[0;31m     \u001b[0ms2\u001b[0m \u001b[0;34m=\u001b[0m \u001b[0mcpac_output_subs\u001b[0m\u001b[0;34m[\u001b[0m\u001b[0mi\u001b[0m \u001b[0;34m+\u001b[0m \u001b[0;36m1\u001b[0m\u001b[0;34m]\u001b[0m\u001b[0;34m\u001b[0m\u001b[0;34m\u001b[0m\u001b[0m\n\u001b[0m\u001b[1;32m      6\u001b[0m     \u001b[0;31m# roi_2 = s2._data_dict['cpac_filt_noglobal']\u001b[0m\u001b[0;34m\u001b[0m\u001b[0;34m\u001b[0m\u001b[0;34m\u001b[0m\u001b[0m\n\u001b[1;32m      7\u001b[0m     \u001b[0mroi_2\u001b[0m \u001b[0;34m=\u001b[0m \u001b[0ms2\u001b[0m\u001b[0;34m.\u001b[0m\u001b[0m_data_dict\u001b[0m\u001b[0;34m[\u001b[0m\u001b[0;34m'filt_noglobal_roi_200_Cradd'\u001b[0m\u001b[0;34m]\u001b[0m\u001b[0;34m\u001b[0m\u001b[0;34m\u001b[0m\u001b[0m\n",
      "\u001b[0;31mIndexError\u001b[0m: list index out of range"
     ]
    }
   ],
   "source": [
    "for i, s in enumerate(cpac_output_subs):\n",
    "    print(s._sub_id)\n",
    "    # roi_1 = s._data_dict['cpac_filt_noglobal']\n",
    "    roi_1 = s._data_dict['filt_noglobal_roi_200_Cradd']\n",
    "    s2 = cpac_output_subs[i + 1]\n",
    "    # roi_2 = s2._data_dict['cpac_filt_noglobal']\n",
    "    roi_2 = s2._data_dict['filt_noglobal_roi_200_Cradd']\n",
    "    dist =  dist = np.linalg.norm(roi_2-roi_1)\n",
    "    print(dist)"
   ]
  },
  {
   "cell_type": "code",
   "execution_count": null,
   "id": "trying-pharmacology",
   "metadata": {},
   "outputs": [],
   "source": []
  }
 ],
 "metadata": {
  "kernelspec": {
   "display_name": "tf2_env",
   "language": "python",
   "name": "tf2_env"
  },
  "language_info": {
   "codemirror_mode": {
    "name": "ipython",
    "version": 3
   },
   "file_extension": ".py",
   "mimetype": "text/x-python",
   "name": "python",
   "nbconvert_exporter": "python",
   "pygments_lexer": "ipython3",
   "version": "3.9.1"
  }
 },
 "nbformat": 4,
 "nbformat_minor": 5
}
