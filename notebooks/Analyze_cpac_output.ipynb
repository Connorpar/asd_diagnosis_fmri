{
 "cells": [
  {
   "cell_type": "markdown",
   "id": "surprised-channel",
   "metadata": {},
   "source": [
    "# Used to help intrepet the output from the cpac outline"
   ]
  },
  {
   "cell_type": "code",
   "execution_count": 1,
   "id": "unable-guide",
   "metadata": {},
   "outputs": [],
   "source": [
    "import os\n",
    "import pickle\n",
    "import numpy as np\n",
    "from subprocess import call\n",
    "\n",
    "import sys\n",
    "sys.path.append('../src/features')\n",
    "\n",
    "from subject import Subject\n",
    "\n",
    "cur_dir = os.getcwd()\n",
    "asd_diag_dir = os.path.dirname(cur_dir)\n",
    "data_dir = asd_diag_dir + '/data/'\n",
    "# cpac_output_dir = data_dir + 'cpac_output_t/'\n",
    "cpac_output_dir = data_dir + 'cpac_output/output/'\n",
    "subjects_dir = os.path.dirname(cur_dir) + '/data/ABIDEI_subjects/'\n",
    "trs_save_file = save_dir = os.path.dirname(cur_dir) + '/data/dicts/ABIDEI_site_trs.json'"
   ]
  },
  {
   "cell_type": "code",
   "execution_count": 3,
   "id": "thirty-portable",
   "metadata": {},
   "outputs": [],
   "source": [
    "sub_number = 51471\n",
    "subject_folder = cpac_output_dir + f'/pipeline_abide_cpac_run_freq-filter_nuisance/sub-00{sub_number}_ses-1/'"
   ]
  },
  {
   "cell_type": "code",
   "execution_count": 4,
   "id": "divine-toilet",
   "metadata": {},
   "outputs": [],
   "source": [
    "# Find all cc200 rois within output\n",
    "# folder_queue = os.listdir(cpac_output_dir)\n",
    "# folder_queue = [os.path.join(cpac_output_dir, f) for f in folder_queue]\n",
    "folder_queue = os.listdir(subject_folder)\n",
    "folder_queue = [os.path.join(subject_folder, f) for f in folder_queue]\n",
    "cc_200_l = list()\n",
    "\n",
    "while len(folder_queue) > 0:\n",
    "    f = folder_queue.pop(0)\n",
    "    if(os.path.exists(os.path.join(f, 'roi_stats.npz'))):\n",
    "        cc_200_l.append(f)\n",
    "    for d in os.listdir(f):\n",
    "        if os.path.isdir(os.path.join(f, d)):\n",
    "            folder_queue.append(os.path.join(f, d))"
   ]
  },
  {
   "cell_type": "code",
   "execution_count": 5,
   "id": "promising-setup",
   "metadata": {},
   "outputs": [
    {
     "data": {
      "text/plain": [
       "54"
      ]
     },
     "execution_count": 5,
     "metadata": {},
     "output_type": "execute_result"
    }
   ],
   "source": [
    "len(cc_200_l)"
   ]
  },
  {
   "cell_type": "code",
   "execution_count": 6,
   "id": "severe-outside",
   "metadata": {},
   "outputs": [
    {
     "name": "stdout",
     "output_type": "stream",
     "text": [
      "5_G-M_M-SDB_P-2_BP-B0.01-T0.1/_mask_DKT_space-MNI152NLin6_res-1x1x1_mask_file_..ndmg_atlases..label..Human..DKT_space-MNI152NLin6_res-1x1x1.nii.gz\n",
      "\n",
      "5_G-M_M-SDB_P-2_BP-B0.01-T0.1/_mask_Juelich_space-MNI152NLin6_res-1x1x1_mask_file_..ndmg_atlases..label..Human..Juelich_space-MNI152NLin6_res-1x1x1.nii.gz\n",
      "\n",
      "5_G-M_M-SDB_P-2_BP-B0.01-T0.1/_mask_CC400_mask_file_..cpac_templates..CC400.nii.gz\n",
      "\n",
      "5_G-M_M-SDB_P-2_BP-B0.01-T0.1/_mask_Brodmann_space-MNI152NLin6_res-1x1x1_mask_file_..ndmg_atlases..label..Human..Brodmann_space-MNI152NLin6_res-1x1x1.nii.gz\n",
      "\n",
      "5_G-M_M-SDB_P-2_BP-B0.01-T0.1/_mask_rois_3mm_mask_file_..cpac_templates..rois_3mm.nii.gz\n",
      "\n",
      "5_G-M_M-SDB_P-2_BP-B0.01-T0.1/_mask_Slab907_space-MNI152NLin6_res-1x1x1_mask_file_..ndmg_atlases..label..Human..Slab907_space-MNI152NLin6_res-1x1x1.nii.gz\n",
      "\n",
      "5_G-M_M-SDB_P-2_BP-B0.01-T0.1/_mask_Yeo-7-liberal_space-MNI152NLin6_res-1x1x1_mask_file_..ndmg_atlases..label..Human..Yeo-7-liberal_space-MNI152NLin6_res-1x1x1.nii.gz\n",
      "\n",
      "5_G-M_M-SDB_P-2_BP-B0.01-T0.1/_mask_Schaefer300_space-MNI152NLin6_res-1x1x1_mask_file_..ndmg_atlases..label..Human..Schaefer300_space-MNI152NLin6_res-1x1x1.nii.gz\n",
      "\n",
      "5_G-M_M-SDB_P-2_BP-B0.01-T0.1/_mask_HarvardOxfordsub-maxprob-thr25_space-MNI152NLin6_res-1x1x1_mask_file_..ndmg_atlases..label..Human..HarvardOxfordsub-maxprob-thr25_space-MNI152NLin6_res-1x1x1.nii.gz\n",
      "\n",
      "5_G-M_M-SDB_P-2_BP-B0.01-T0.1/_mask_Desikan_space-MNI152NLin6_res-1x1x1_mask_file_..ndmg_atlases..label..Human..Desikan_space-MNI152NLin6_res-1x1x1.nii.gz\n",
      "\n",
      "5_G-M_M-SDB_P-2_BP-B0.01-T0.1/_mask_Yeo-17_space-MNI152NLin6_res-1x1x1_mask_file_..ndmg_atlases..label..Human..Yeo-17_space-MNI152NLin6_res-1x1x1.nii.gz\n",
      "\n",
      "5_G-M_M-SDB_P-2_BP-B0.01-T0.1/_mask_Talairach_space-MNI152NLin6_res-1x1x1_mask_file_..ndmg_atlases..label..Human..Talairach_space-MNI152NLin6_res-1x1x1.nii.gz\n",
      "\n",
      "5_G-M_M-SDB_P-2_BP-B0.01-T0.1/_mask_Schaefer1000_space-MNI152NLin6_res-1x1x1_mask_file_..ndmg_atlases..label..Human..Schaefer1000_space-MNI152NLin6_res-1x1x1.nii.gz\n",
      "\n",
      "5_G-M_M-SDB_P-2_BP-B0.01-T0.1/_mask_ho_mask_pad_mask_file_..cpac_templates..ho_mask_pad.nii.gz\n",
      "\n",
      "5_G-M_M-SDB_P-2_BP-B0.01-T0.1/_mask_MICCAI_space-MNI152NLin6_res-1x1x1_mask_file_..ndmg_atlases..label..Human..MICCAI_space-MNI152NLin6_res-1x1x1.nii.gz\n",
      "\n",
      "5_G-M_M-SDB_P-2_BP-B0.01-T0.1/_mask_Yeo-7_space-MNI152NLin6_res-1x1x1_mask_file_..ndmg_atlases..label..Human..Yeo-7_space-MNI152NLin6_res-1x1x1.nii.gz\n",
      "\n",
      "5_G-M_M-SDB_P-2_BP-B0.01-T0.1/_mask_Schaefer400_space-MNI152NLin6_res-1x1x1_mask_file_..ndmg_atlases..label..Human..Schaefer400_space-MNI152NLin6_res-1x1x1.nii.gz\n",
      "\n",
      "5_G-M_M-SDB_P-2_BP-B0.01-T0.1/_mask_CC200_mask_file_..cpac_templates..CC200.nii.gz\n",
      "\n",
      "5_G-M_M-SDB_P-2_BP-B0.01-T0.1/_mask_Schaefer200_space-MNI152NLin6_res-1x1x1_mask_file_..ndmg_atlases..label..Human..Schaefer200_space-MNI152NLin6_res-1x1x1.nii.gz\n",
      "\n",
      "5_G-M_M-SDB_P-2_BP-B0.01-T0.1/_mask_HarvardOxfordcort-maxprob-thr25_space-MNI152NLin6_res-1x1x1_mask_file_..ndmg_atlases..label..Human..HarvardOxfordcort-maxprob-thr25_space-MNI152NLin6_res-1x1x1.nii.gz\n",
      "\n",
      "5_G-M_M-SDB_P-2_BP-B0.01-T0.1/_mask_AAL_space-MNI152NLin6_res-1x1x1_mask_file_..ndmg_atlases..label..Human..AAL_space-MNI152NLin6_res-1x1x1.nii.gz\n",
      "\n",
      "5_G-M_M-SDB_P-2_BP-B0.01-T0.1/_mask_Glasser_space-MNI152NLin6_res-1x1x1_mask_file_..ndmg_atlases..label..Human..Glasser_space-MNI152NLin6_res-1x1x1.nii.gz\n",
      "\n",
      "5_G-M_M-SDB_P-2_BP-B0.01-T0.1/_mask_aal_mask_pad_mask_file_..cpac_templates..aal_mask_pad.nii.gz\n",
      "\n",
      "5_G-M_M-SDB_P-2_BP-B0.01-T0.1/_mask_CAPRSC_space-MNI152NLin6_res-1x1x1_mask_file_..ndmg_atlases..label..Human..CAPRSC_space-MNI152NLin6_res-1x1x1.nii.gz\n",
      "\n",
      "5_G-M_M-SDB_P-2_BP-B0.01-T0.1/_mask_DesikanKlein_space-MNI152NLin6_res-1x1x1_mask_file_..ndmg_atlases..label..Human..DesikanKlein_space-MNI152NLin6_res-1x1x1.nii.gz\n",
      "\n",
      "5_G-M_M-SDB_P-2_BP-B0.01-T0.1/_mask_tt_mask_pad_mask_file_..cpac_templates..tt_mask_pad.nii.gz\n",
      "\n",
      "5_G-M_M-SDB_P-2_BP-B0.01-T0.1/_mask_Yeo-17-liberal_space-MNI152NLin6_res-1x1x1_mask_file_..ndmg_atlases..label..Human..Yeo-17-liberal_space-MNI152NLin6_res-1x1x1.nii.gz\n",
      "\n",
      "5_M-SDB_P-2_BP-B0.01-T0.1/_mask_DKT_space-MNI152NLin6_res-1x1x1_mask_file_..ndmg_atlases..label..Human..DKT_space-MNI152NLin6_res-1x1x1.nii.gz\n",
      "\n",
      "5_M-SDB_P-2_BP-B0.01-T0.1/_mask_Juelich_space-MNI152NLin6_res-1x1x1_mask_file_..ndmg_atlases..label..Human..Juelich_space-MNI152NLin6_res-1x1x1.nii.gz\n",
      "\n",
      "5_M-SDB_P-2_BP-B0.01-T0.1/_mask_CC400_mask_file_..cpac_templates..CC400.nii.gz\n",
      "\n",
      "5_M-SDB_P-2_BP-B0.01-T0.1/_mask_Brodmann_space-MNI152NLin6_res-1x1x1_mask_file_..ndmg_atlases..label..Human..Brodmann_space-MNI152NLin6_res-1x1x1.nii.gz\n",
      "\n",
      "5_M-SDB_P-2_BP-B0.01-T0.1/_mask_rois_3mm_mask_file_..cpac_templates..rois_3mm.nii.gz\n",
      "\n",
      "5_M-SDB_P-2_BP-B0.01-T0.1/_mask_Slab907_space-MNI152NLin6_res-1x1x1_mask_file_..ndmg_atlases..label..Human..Slab907_space-MNI152NLin6_res-1x1x1.nii.gz\n",
      "\n",
      "5_M-SDB_P-2_BP-B0.01-T0.1/_mask_Yeo-7-liberal_space-MNI152NLin6_res-1x1x1_mask_file_..ndmg_atlases..label..Human..Yeo-7-liberal_space-MNI152NLin6_res-1x1x1.nii.gz\n",
      "\n",
      "5_M-SDB_P-2_BP-B0.01-T0.1/_mask_Schaefer300_space-MNI152NLin6_res-1x1x1_mask_file_..ndmg_atlases..label..Human..Schaefer300_space-MNI152NLin6_res-1x1x1.nii.gz\n",
      "\n",
      "5_M-SDB_P-2_BP-B0.01-T0.1/_mask_HarvardOxfordsub-maxprob-thr25_space-MNI152NLin6_res-1x1x1_mask_file_..ndmg_atlases..label..Human..HarvardOxfordsub-maxprob-thr25_space-MNI152NLin6_res-1x1x1.nii.gz\n",
      "\n",
      "5_M-SDB_P-2_BP-B0.01-T0.1/_mask_Desikan_space-MNI152NLin6_res-1x1x1_mask_file_..ndmg_atlases..label..Human..Desikan_space-MNI152NLin6_res-1x1x1.nii.gz\n",
      "\n",
      "5_M-SDB_P-2_BP-B0.01-T0.1/_mask_Yeo-17_space-MNI152NLin6_res-1x1x1_mask_file_..ndmg_atlases..label..Human..Yeo-17_space-MNI152NLin6_res-1x1x1.nii.gz\n",
      "\n",
      "5_M-SDB_P-2_BP-B0.01-T0.1/_mask_Talairach_space-MNI152NLin6_res-1x1x1_mask_file_..ndmg_atlases..label..Human..Talairach_space-MNI152NLin6_res-1x1x1.nii.gz\n",
      "\n",
      "5_M-SDB_P-2_BP-B0.01-T0.1/_mask_Schaefer1000_space-MNI152NLin6_res-1x1x1_mask_file_..ndmg_atlases..label..Human..Schaefer1000_space-MNI152NLin6_res-1x1x1.nii.gz\n",
      "\n",
      "5_M-SDB_P-2_BP-B0.01-T0.1/_mask_ho_mask_pad_mask_file_..cpac_templates..ho_mask_pad.nii.gz\n",
      "\n",
      "5_M-SDB_P-2_BP-B0.01-T0.1/_mask_MICCAI_space-MNI152NLin6_res-1x1x1_mask_file_..ndmg_atlases..label..Human..MICCAI_space-MNI152NLin6_res-1x1x1.nii.gz\n",
      "\n",
      "5_M-SDB_P-2_BP-B0.01-T0.1/_mask_Yeo-7_space-MNI152NLin6_res-1x1x1_mask_file_..ndmg_atlases..label..Human..Yeo-7_space-MNI152NLin6_res-1x1x1.nii.gz\n",
      "\n",
      "5_M-SDB_P-2_BP-B0.01-T0.1/_mask_Schaefer400_space-MNI152NLin6_res-1x1x1_mask_file_..ndmg_atlases..label..Human..Schaefer400_space-MNI152NLin6_res-1x1x1.nii.gz\n",
      "\n",
      "5_M-SDB_P-2_BP-B0.01-T0.1/_mask_CC200_mask_file_..cpac_templates..CC200.nii.gz\n",
      "\n",
      "5_M-SDB_P-2_BP-B0.01-T0.1/_mask_Schaefer200_space-MNI152NLin6_res-1x1x1_mask_file_..ndmg_atlases..label..Human..Schaefer200_space-MNI152NLin6_res-1x1x1.nii.gz\n",
      "\n",
      "5_M-SDB_P-2_BP-B0.01-T0.1/_mask_HarvardOxfordcort-maxprob-thr25_space-MNI152NLin6_res-1x1x1_mask_file_..ndmg_atlases..label..Human..HarvardOxfordcort-maxprob-thr25_space-MNI152NLin6_res-1x1x1.nii.gz\n",
      "\n",
      "5_M-SDB_P-2_BP-B0.01-T0.1/_mask_AAL_space-MNI152NLin6_res-1x1x1_mask_file_..ndmg_atlases..label..Human..AAL_space-MNI152NLin6_res-1x1x1.nii.gz\n",
      "\n",
      "5_M-SDB_P-2_BP-B0.01-T0.1/_mask_Glasser_space-MNI152NLin6_res-1x1x1_mask_file_..ndmg_atlases..label..Human..Glasser_space-MNI152NLin6_res-1x1x1.nii.gz\n",
      "\n",
      "5_M-SDB_P-2_BP-B0.01-T0.1/_mask_aal_mask_pad_mask_file_..cpac_templates..aal_mask_pad.nii.gz\n",
      "\n",
      "5_M-SDB_P-2_BP-B0.01-T0.1/_mask_CAPRSC_space-MNI152NLin6_res-1x1x1_mask_file_..ndmg_atlases..label..Human..CAPRSC_space-MNI152NLin6_res-1x1x1.nii.gz\n",
      "\n",
      "5_M-SDB_P-2_BP-B0.01-T0.1/_mask_DesikanKlein_space-MNI152NLin6_res-1x1x1_mask_file_..ndmg_atlases..label..Human..DesikanKlein_space-MNI152NLin6_res-1x1x1.nii.gz\n",
      "\n",
      "5_M-SDB_P-2_BP-B0.01-T0.1/_mask_tt_mask_pad_mask_file_..cpac_templates..tt_mask_pad.nii.gz\n",
      "\n",
      "5_M-SDB_P-2_BP-B0.01-T0.1/_mask_Yeo-17-liberal_space-MNI152NLin6_res-1x1x1_mask_file_..ndmg_atlases..label..Human..Yeo-17-liberal_space-MNI152NLin6_res-1x1x1.nii.gz\n",
      "\n"
     ]
    }
   ],
   "source": [
    "for d in cc_200_l:\n",
    "    print(d[200:])\n",
    "    print()"
   ]
  },
  {
   "cell_type": "code",
   "execution_count": 7,
   "id": "current-factor",
   "metadata": {},
   "outputs": [
    {
     "data": {
      "text/plain": [
       "'/home/cparish/Capstone/asd_diagnosis_fmri/data/cpac_output/output//pipeline_abide_cpac_run_freq-filter_nuisance/sub-0051471_ses-1/roi_timeseries/_scan_rest_run-1/_selector_CSF-2mmE-M_aC-CSF+WM-2mm-DPC5_G-M_M-SDB_P-2_BP-B0.01-T0.1/_mask_Juelich_space-MNI152NLin6_res-1x1x1_mask_file_..ndmg_atlases..label..Human..Juelich_space-MNI152NLin6_res-1x1x1.nii.gz'"
      ]
     },
     "execution_count": 7,
     "metadata": {},
     "output_type": "execute_result"
    }
   ],
   "source": [
    "cc_200_l[1]"
   ]
  },
  {
   "cell_type": "markdown",
   "id": "tamil-canal",
   "metadata": {},
   "source": [
    "# Analyze ROI output from cpac "
   ]
  },
  {
   "cell_type": "code",
   "execution_count": 8,
   "id": "special-speaking",
   "metadata": {},
   "outputs": [],
   "source": [
    "# Load cpac rois\n",
    "cpac_rois = {}\n",
    "for roi_folder in cc_200_l:\n",
    "    call(['unzip', os.path.join(roi_folder, 'roi_stats.npz'), '-d', roi_folder])\n",
    "    # first row is nans and skip first 5\n",
    "    roi = np.load(os.path.join(roi_folder, 'arr_0.npy'), allow_pickle=True)[5:] \n",
    "    cpac_rois[roi_folder] = roi\n",
    "    "
   ]
  },
  {
   "cell_type": "code",
   "execution_count": 9,
   "id": "colored-redhead",
   "metadata": {},
   "outputs": [
    {
     "data": {
      "text/plain": [
       "54"
      ]
     },
     "execution_count": 9,
     "metadata": {},
     "output_type": "execute_result"
    }
   ],
   "source": [
    "len(cpac_rois)"
   ]
  },
  {
   "cell_type": "code",
   "execution_count": 2,
   "id": "existing-puppy",
   "metadata": {},
   "outputs": [],
   "source": [
    "# Load ABIDEI preprocessed rois by loading subjects\n",
    "def open_pickle(f):\n",
    "    file = open(f,'rb')\n",
    "    o = pickle.load(file)\n",
    "    file.close()\n",
    "    return o\n",
    "\n",
    "def load_subjects_d(subject_folder):\n",
    "    subjects_d = {}\n",
    "    for f in os.listdir(subject_folder):\n",
    "        s = open_pickle(os.path.join(subject_folder, f))\n",
    "        subjects_d[s._sub_id] = s\n",
    "    return subjects_d"
   ]
  },
  {
   "cell_type": "code",
   "execution_count": 8,
   "id": "express-geneva",
   "metadata": {},
   "outputs": [],
   "source": [
    "subjects_d = load_subjects_d(subjects_dir)"
   ]
  },
  {
   "cell_type": "code",
   "execution_count": 12,
   "id": "graduate-incidence",
   "metadata": {},
   "outputs": [],
   "source": [
    "s = subjects_d[51471]"
   ]
  },
  {
   "cell_type": "code",
   "execution_count": 13,
   "id": "hourly-devices",
   "metadata": {},
   "outputs": [],
   "source": [
    "cc_200_rois = {}\n",
    "for folder, roi in cpac_rois.items():\n",
    "    if roi.shape == (146, 200) and folder.find('CC200') != -1:\n",
    "        cc_200_rois[folder] = roi"
   ]
  },
  {
   "cell_type": "code",
   "execution_count": 14,
   "id": "combined-specification",
   "metadata": {},
   "outputs": [
    {
     "data": {
      "text/plain": [
       "2"
      ]
     },
     "execution_count": 14,
     "metadata": {},
     "output_type": "execute_result"
    }
   ],
   "source": [
    "len(cc_200_rois)"
   ]
  },
  {
   "cell_type": "code",
   "execution_count": 15,
   "id": "eastern-amazon",
   "metadata": {},
   "outputs": [
    {
     "data": {
      "text/plain": [
       "dict_keys(['filt_noglobal_roi_200_Cradd', 'cpac_filt_noglobal'])"
      ]
     },
     "execution_count": 15,
     "metadata": {},
     "output_type": "execute_result"
    }
   ],
   "source": [
    "s._data_dict.keys()"
   ]
  },
  {
   "cell_type": "code",
   "execution_count": 16,
   "id": "deluxe-saskatchewan",
   "metadata": {},
   "outputs": [
    {
     "name": "stdout",
     "output_type": "stream",
     "text": [
      "(200,)\n"
     ]
    }
   ],
   "source": [
    "goal_roi = np.array(s._data_dict['filt_noglobal_roi_200_Cradd'])\n",
    "goal_ts = goal_roi[3]\n",
    "print(goal_ts.shape)"
   ]
  },
  {
   "cell_type": "code",
   "execution_count": 17,
   "id": "proud-wings",
   "metadata": {},
   "outputs": [
    {
     "name": "stdout",
     "output_type": "stream",
     "text": [
      "/home/cparish/Capstone/asd_diagnosis_fmri/data/cpac_output/output//pipeline_abide_cpac_run_freq-filter_nuisance/sub-0051471_ses-1/roi_timeseries/_scan_rest_run-1/_selector_CSF-2mmE-M_aC-CSF+WM-2mm-DPC5_G-M_M-SDB_P-2_BP-B0.01-T0.1/_mask_CC200_mask_file_..cpac_templates..CC200.nii.gz:1367.8197454035635\n",
      "/home/cparish/Capstone/asd_diagnosis_fmri/data/cpac_output/output//pipeline_abide_cpac_run_freq-filter_nuisance/sub-0051471_ses-1/roi_timeseries/_scan_rest_run-1/_selector_CSF-2mmE-M_aC-CSF+WM-2mm-DPC5_M-SDB_P-2_BP-B0.01-T0.1/_mask_CC200_mask_file_..cpac_templates..CC200.nii.gz:1208.4897610950802\n"
     ]
    }
   ],
   "source": [
    "min_indexes = list()\n",
    "for folder, roi in cc_200_rois.items():\n",
    "    print(f'{folder}:{np.linalg.norm(roi-goal_roi)}')\n",
    "    min_index = 0\n",
    "    min_dist = 200\n",
    "    for i, ts in enumerate(roi):\n",
    "        dist = np.linalg.norm(ts-goal_ts)\n",
    "        if dist < min_dist:\n",
    "            min_index = i\n",
    "            min_dist = dist\n",
    "        if(ts == goal_ts).all():\n",
    "            print('d')\n",
    "    min_indexes.append(min_index)\n",
    "#     if(roi[5:] == goal_roi).all():\n",
    "#         print(roi.shape)"
   ]
  },
  {
   "cell_type": "code",
   "execution_count": null,
   "id": "pretty-leader",
   "metadata": {},
   "outputs": [],
   "source": [
    "np.array(s._data_dict['filt_noglobal_roi_200_Cradd']).shape"
   ]
  },
  {
   "cell_type": "code",
   "execution_count": null,
   "id": "packed-knight",
   "metadata": {},
   "outputs": [],
   "source": [
    "goal_ts"
   ]
  },
  {
   "cell_type": "code",
   "execution_count": null,
   "id": "allied-arkansas",
   "metadata": {},
   "outputs": [],
   "source": [
    "for f in cc_200_rois.keys():\n",
    "    print(f.split('/')[-1])"
   ]
  },
  {
   "cell_type": "markdown",
   "id": "monthly-opinion",
   "metadata": {},
   "source": [
    "# Analyzing with Subjects"
   ]
  },
  {
   "cell_type": "code",
   "execution_count": 213,
   "id": "planned-morgan",
   "metadata": {},
   "outputs": [],
   "source": [
    "# for filter no global\n",
    "filt_noglobal = 'roi_timeseries/_scan_rest_run-1/_selector_CSF-2mmE-M_aC-CSF+WM-2mm-DPC5_M-SDB_P-2_BP-B0.01-T0.1/_mask_CC200_mask_file_..cpac_templates..CC200.nii.gz'\n",
    "def get_roi(sub_folder):\n",
    "    roi_folder = os.path.join(sub_folder,filt_noglobal)\n",
    "    if os.path.exists(os.path.join(roi_folder, 'roi_stats.npz')):\n",
    "        call(['unzip', os.path.join(roi_folder, 'roi_stats.npz'), '-d', roi_folder])\n",
    "        # first row is nans and skip first 5\n",
    "        roi = np.load(os.path.join(roi_folder, 'arr_0.npy'), allow_pickle=True)[5:] \n",
    "    else:\n",
    "        print(f\"Couldn't get rois for {sub_folder}\")\n",
    "        roi = None\n",
    "    return roi\n",
    "\n",
    "sub_51470_roi = get_roi(data_dir + '/cpac_output_single/output/pipeline_abide_cpac_run_freq-filter_nuisance/sub-0051470_ses-1')"
   ]
  },
  {
   "cell_type": "code",
   "execution_count": 218,
   "id": "double-mortgage",
   "metadata": {},
   "outputs": [
    {
     "data": {
      "text/plain": [
       "112.76785058445424"
      ]
     },
     "execution_count": 218,
     "metadata": {},
     "output_type": "execute_result"
    }
   ],
   "source": [
    "# run in same pipeline twice\n",
    "sub_51470_roi_2 = subjects_d[51470]._data_dict['cpac_filt_noglobal'] \n",
    "dist = np.linalg.norm(sub_51470_roi-sub_51470_roi_2)\n",
    "dist"
   ]
  },
  {
   "cell_type": "code",
   "execution_count": 9,
   "id": "broken-scout",
   "metadata": {},
   "outputs": [
    {
     "name": "stdout",
     "output_type": "stream",
     "text": [
      "10\n"
     ]
    }
   ],
   "source": [
    "cpac_output_subs = list()\n",
    "for sub, s in subjects_d.items():\n",
    "    if 'cpac_filt_noglobal_t' in s._data_dict:\n",
    "        cpac_output_subs.append(s)\n",
    "print(len(cpac_output_subs))"
   ]
  },
  {
   "cell_type": "code",
   "execution_count": 19,
   "id": "local-frederick",
   "metadata": {},
   "outputs": [
    {
     "name": "stdout",
     "output_type": "stream",
     "text": [
      "2602.7420675701264\n",
      "3000.534796103486\n",
      "2311.5800366862463\n",
      "3514.131042611196\n",
      "1693.2367400830904\n",
      "2029.1423662355703\n",
      "2513.026675380683\n",
      "2009.1285979719635\n",
      "1931.0890611669913\n",
      "2353.0316024266267\n"
     ]
    }
   ],
   "source": [
    "for s in cpac_output_subs:\n",
    "    cpac_roi = s._data_dict['cpac_filt_noglobal_t']\n",
    "    # cpac_roi = s._data_dict['nofilt_global_roi_200_Cradd']\n",
    "    preprocessed_roi = s._data_dict['filt_noglobal_roi_200_Cradd']\n",
    "    dist = np.linalg.norm(cpac_roi-preprocessed_roi)\n",
    "    print(dist)"
   ]
  },
  {
   "cell_type": "code",
   "execution_count": 7,
   "id": "affecting-blond",
   "metadata": {},
   "outputs": [
    {
     "name": "stdout",
     "output_type": "stream",
     "text": [
      "50653\n"
     ]
    },
    {
     "ename": "ValueError",
     "evalue": "operands could not be broadcast together with shapes (176,200) (236,200) ",
     "output_type": "error",
     "traceback": [
      "\u001b[0;31m---------------------------------------------------------------------------\u001b[0m",
      "\u001b[0;31mValueError\u001b[0m                                Traceback (most recent call last)",
      "\u001b[0;32m<ipython-input-7-358e09ae86a6>\u001b[0m in \u001b[0;36m<module>\u001b[0;34m\u001b[0m\n\u001b[1;32m      6\u001b[0m     \u001b[0;31m# roi_2 = s2._data_dict['cpac_filt_noglobal']\u001b[0m\u001b[0;34m\u001b[0m\u001b[0;34m\u001b[0m\u001b[0;34m\u001b[0m\u001b[0m\n\u001b[1;32m      7\u001b[0m     \u001b[0mroi_2\u001b[0m \u001b[0;34m=\u001b[0m \u001b[0ms2\u001b[0m\u001b[0;34m.\u001b[0m\u001b[0m_data_dict\u001b[0m\u001b[0;34m[\u001b[0m\u001b[0;34m'filt_noglobal_roi_200_Cradd'\u001b[0m\u001b[0;34m]\u001b[0m\u001b[0;34m\u001b[0m\u001b[0;34m\u001b[0m\u001b[0m\n\u001b[0;32m----> 8\u001b[0;31m     \u001b[0mdist\u001b[0m \u001b[0;34m=\u001b[0m  \u001b[0mdist\u001b[0m \u001b[0;34m=\u001b[0m \u001b[0mnp\u001b[0m\u001b[0;34m.\u001b[0m\u001b[0mlinalg\u001b[0m\u001b[0;34m.\u001b[0m\u001b[0mnorm\u001b[0m\u001b[0;34m(\u001b[0m\u001b[0mroi_2\u001b[0m\u001b[0;34m-\u001b[0m\u001b[0mroi_1\u001b[0m\u001b[0;34m)\u001b[0m\u001b[0;34m\u001b[0m\u001b[0;34m\u001b[0m\u001b[0m\n\u001b[0m\u001b[1;32m      9\u001b[0m     \u001b[0mprint\u001b[0m\u001b[0;34m(\u001b[0m\u001b[0mdist\u001b[0m\u001b[0;34m)\u001b[0m\u001b[0;34m\u001b[0m\u001b[0;34m\u001b[0m\u001b[0m\n",
      "\u001b[0;31mValueError\u001b[0m: operands could not be broadcast together with shapes (176,200) (236,200) "
     ]
    }
   ],
   "source": [
    "for i, s in enumerate(cpac_output_subs):\n",
    "    print(s._sub_id)\n",
    "    # roi_1 = s._data_dict['cpac_filt_noglobal']\n",
    "    roi_1 = s._data_dict['filt_noglobal_roi_200_Cradd']\n",
    "    s2 = cpac_output_subs[i + 1]\n",
    "    # roi_2 = s2._data_dict['cpac_filt_noglobal']\n",
    "    roi_2 = s2._data_dict['filt_noglobal_roi_200_Cradd']\n",
    "    dist =  dist = np.linalg.norm(roi_2-roi_1)\n",
    "    print(dist)"
   ]
  },
  {
   "cell_type": "code",
   "execution_count": null,
   "id": "trying-pharmacology",
   "metadata": {},
   "outputs": [],
   "source": []
  }
 ],
 "metadata": {
  "kernelspec": {
   "display_name": "tf2_env",
   "language": "python",
   "name": "tf2_env"
  },
  "language_info": {
   "codemirror_mode": {
    "name": "ipython",
    "version": 3
   },
   "file_extension": ".py",
   "mimetype": "text/x-python",
   "name": "python",
   "nbconvert_exporter": "python",
   "pygments_lexer": "ipython3",
   "version": "3.9.1"
  }
 },
 "nbformat": 4,
 "nbformat_minor": 5
}
